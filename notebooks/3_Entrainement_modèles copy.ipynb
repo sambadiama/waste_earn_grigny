{
 "cells": [
  {
   "cell_type": "markdown",
   "metadata": {},
   "source": [
    "# Entraînement des modèles\n",
    "\n",
    "Afin de coder notre application, nous devons entraîner deux modèles de machine learning. Le premier modèle sera un modèle de prédiction de l'affluence, et le second un modèle de prédiction du gaspillage. Il faudra pour chacun de ces deux modèles effectuer une sélection des variables pertinentes.\n",
    "Attention à ne pas fournir les targets lors de l'entraînement des modèles, il faut partir du principe que l'on ne connaît ni l'affluence, ni le gaspillage à l'avance.\n",
    "Pour évaluer la qualité de nos modèles, il faudra trouver des KPIs pertinents et les calculer sur un jeu de données de test.\n",
    "\n",
    "## Lecture du dataset"
   ]
  },
  {
   "cell_type": "code",
   "execution_count": 1,
   "metadata": {
    "is_executing": true
   },
   "outputs": [
    {
     "name": "stderr",
     "output_type": "stream",
     "text": [
      "c:\\Users\\achir\\Downloads\\KESKIA_Predictive_Cantine-main\\venv\\Lib\\site-packages\\tqdm\\auto.py:21: TqdmWarning: IProgress not found. Please update jupyter and ipywidgets. See https://ipywidgets.readthedocs.io/en/stable/user_install.html\n",
      "  from .autonotebook import tqdm as notebook_tqdm\n",
      "None of PyTorch, TensorFlow >= 2.0, or Flax have been found. Models won't be available and only tokenizers, configuration and file/data utilities can be used.\n"
     ]
    }
   ],
   "source": [
    "# Import des librairies\n",
    "import os\n",
    "import matplotlib.pyplot as plt\n",
    "import numpy as np\n",
    "import pandas as pd\n",
    "import plotly.express as px\n",
    "#import umap.umap_ as umap\n",
    "#from sklearn.compose import ColumnTransformer\n",
    "#from sklearn.decomposition import PCA\n",
    "#from sklearn.metrics import r2_score\n",
    "#from sklearn.model_selection import train_test_split\n",
    "#from sklearn.pipeline import Pipeline\n",
    "#from sklearn.preprocessing import OneHotEncoder, StandardScaler\n",
    "#from tqdm import tqdm\n",
    "from transformers import CamembertModel, CamembertTokenizer"
   ]
  },
  {
   "cell_type": "code",
   "execution_count": 3,
   "metadata": {
    "is_executing": true
   },
   "outputs": [
    {
     "ename": "FileNotFoundError",
     "evalue": "[Errno 2] No such file or directory: 'data/Dataset_Grigny_E_AimeCesaire.csv'",
     "output_type": "error",
     "traceback": [
      "\u001b[1;31m---------------------------------------------------------------------------\u001b[0m",
      "\u001b[1;31mFileNotFoundError\u001b[0m                         Traceback (most recent call last)",
      "Cell \u001b[1;32mIn[3], line 3\u001b[0m\n\u001b[0;32m      1\u001b[0m \u001b[38;5;66;03m# Import du dataset nettoyé et préparé\u001b[39;00m\n\u001b[1;32m----> 3\u001b[0m data \u001b[38;5;241m=\u001b[39m \u001b[43mpd\u001b[49m\u001b[38;5;241;43m.\u001b[39;49m\u001b[43mread_csv\u001b[49m\u001b[43m(\u001b[49m\u001b[38;5;124;43m'\u001b[39;49m\u001b[38;5;124;43mdata/Dataset_Grigny_E_AimeCesaire.csv\u001b[39;49m\u001b[38;5;124;43m'\u001b[39;49m\u001b[43m,\u001b[49m\u001b[43m \u001b[49m\u001b[43msep\u001b[49m\u001b[38;5;241;43m=\u001b[39;49m\u001b[38;5;124;43m'\u001b[39;49m\u001b[38;5;124;43m;\u001b[39;49m\u001b[38;5;124;43m'\u001b[39;49m\u001b[43m)\u001b[49m\n\u001b[0;32m      4\u001b[0m dataset_cleaned \u001b[38;5;241m=\u001b[39m data\u001b[38;5;241m.\u001b[39mdropna(subset\u001b[38;5;241m=\u001b[39m[\u001b[38;5;124m'\u001b[39m\u001b[38;5;124mmenu\u001b[39m\u001b[38;5;124m'\u001b[39m])\n\u001b[0;32m      5\u001b[0m dataset_cleaned\u001b[38;5;241m.\u001b[39mhead()\n",
      "File \u001b[1;32mc:\\Users\\achir\\Downloads\\KESKIA_Predictive_Cantine-main\\venv\\Lib\\site-packages\\pandas\\io\\parsers\\readers.py:948\u001b[0m, in \u001b[0;36mread_csv\u001b[1;34m(filepath_or_buffer, sep, delimiter, header, names, index_col, usecols, dtype, engine, converters, true_values, false_values, skipinitialspace, skiprows, skipfooter, nrows, na_values, keep_default_na, na_filter, verbose, skip_blank_lines, parse_dates, infer_datetime_format, keep_date_col, date_parser, date_format, dayfirst, cache_dates, iterator, chunksize, compression, thousands, decimal, lineterminator, quotechar, quoting, doublequote, escapechar, comment, encoding, encoding_errors, dialect, on_bad_lines, delim_whitespace, low_memory, memory_map, float_precision, storage_options, dtype_backend)\u001b[0m\n\u001b[0;32m    935\u001b[0m kwds_defaults \u001b[38;5;241m=\u001b[39m _refine_defaults_read(\n\u001b[0;32m    936\u001b[0m     dialect,\n\u001b[0;32m    937\u001b[0m     delimiter,\n\u001b[1;32m   (...)\u001b[0m\n\u001b[0;32m    944\u001b[0m     dtype_backend\u001b[38;5;241m=\u001b[39mdtype_backend,\n\u001b[0;32m    945\u001b[0m )\n\u001b[0;32m    946\u001b[0m kwds\u001b[38;5;241m.\u001b[39mupdate(kwds_defaults)\n\u001b[1;32m--> 948\u001b[0m \u001b[38;5;28;01mreturn\u001b[39;00m \u001b[43m_read\u001b[49m\u001b[43m(\u001b[49m\u001b[43mfilepath_or_buffer\u001b[49m\u001b[43m,\u001b[49m\u001b[43m \u001b[49m\u001b[43mkwds\u001b[49m\u001b[43m)\u001b[49m\n",
      "File \u001b[1;32mc:\\Users\\achir\\Downloads\\KESKIA_Predictive_Cantine-main\\venv\\Lib\\site-packages\\pandas\\io\\parsers\\readers.py:611\u001b[0m, in \u001b[0;36m_read\u001b[1;34m(filepath_or_buffer, kwds)\u001b[0m\n\u001b[0;32m    608\u001b[0m _validate_names(kwds\u001b[38;5;241m.\u001b[39mget(\u001b[38;5;124m\"\u001b[39m\u001b[38;5;124mnames\u001b[39m\u001b[38;5;124m\"\u001b[39m, \u001b[38;5;28;01mNone\u001b[39;00m))\n\u001b[0;32m    610\u001b[0m \u001b[38;5;66;03m# Create the parser.\u001b[39;00m\n\u001b[1;32m--> 611\u001b[0m parser \u001b[38;5;241m=\u001b[39m \u001b[43mTextFileReader\u001b[49m\u001b[43m(\u001b[49m\u001b[43mfilepath_or_buffer\u001b[49m\u001b[43m,\u001b[49m\u001b[43m \u001b[49m\u001b[38;5;241;43m*\u001b[39;49m\u001b[38;5;241;43m*\u001b[39;49m\u001b[43mkwds\u001b[49m\u001b[43m)\u001b[49m\n\u001b[0;32m    613\u001b[0m \u001b[38;5;28;01mif\u001b[39;00m chunksize \u001b[38;5;129;01mor\u001b[39;00m iterator:\n\u001b[0;32m    614\u001b[0m     \u001b[38;5;28;01mreturn\u001b[39;00m parser\n",
      "File \u001b[1;32mc:\\Users\\achir\\Downloads\\KESKIA_Predictive_Cantine-main\\venv\\Lib\\site-packages\\pandas\\io\\parsers\\readers.py:1448\u001b[0m, in \u001b[0;36mTextFileReader.__init__\u001b[1;34m(self, f, engine, **kwds)\u001b[0m\n\u001b[0;32m   1445\u001b[0m     \u001b[38;5;28mself\u001b[39m\u001b[38;5;241m.\u001b[39moptions[\u001b[38;5;124m\"\u001b[39m\u001b[38;5;124mhas_index_names\u001b[39m\u001b[38;5;124m\"\u001b[39m] \u001b[38;5;241m=\u001b[39m kwds[\u001b[38;5;124m\"\u001b[39m\u001b[38;5;124mhas_index_names\u001b[39m\u001b[38;5;124m\"\u001b[39m]\n\u001b[0;32m   1447\u001b[0m \u001b[38;5;28mself\u001b[39m\u001b[38;5;241m.\u001b[39mhandles: IOHandles \u001b[38;5;241m|\u001b[39m \u001b[38;5;28;01mNone\u001b[39;00m \u001b[38;5;241m=\u001b[39m \u001b[38;5;28;01mNone\u001b[39;00m\n\u001b[1;32m-> 1448\u001b[0m \u001b[38;5;28mself\u001b[39m\u001b[38;5;241m.\u001b[39m_engine \u001b[38;5;241m=\u001b[39m \u001b[38;5;28;43mself\u001b[39;49m\u001b[38;5;241;43m.\u001b[39;49m\u001b[43m_make_engine\u001b[49m\u001b[43m(\u001b[49m\u001b[43mf\u001b[49m\u001b[43m,\u001b[49m\u001b[43m \u001b[49m\u001b[38;5;28;43mself\u001b[39;49m\u001b[38;5;241;43m.\u001b[39;49m\u001b[43mengine\u001b[49m\u001b[43m)\u001b[49m\n",
      "File \u001b[1;32mc:\\Users\\achir\\Downloads\\KESKIA_Predictive_Cantine-main\\venv\\Lib\\site-packages\\pandas\\io\\parsers\\readers.py:1705\u001b[0m, in \u001b[0;36mTextFileReader._make_engine\u001b[1;34m(self, f, engine)\u001b[0m\n\u001b[0;32m   1703\u001b[0m     \u001b[38;5;28;01mif\u001b[39;00m \u001b[38;5;124m\"\u001b[39m\u001b[38;5;124mb\u001b[39m\u001b[38;5;124m\"\u001b[39m \u001b[38;5;129;01mnot\u001b[39;00m \u001b[38;5;129;01min\u001b[39;00m mode:\n\u001b[0;32m   1704\u001b[0m         mode \u001b[38;5;241m+\u001b[39m\u001b[38;5;241m=\u001b[39m \u001b[38;5;124m\"\u001b[39m\u001b[38;5;124mb\u001b[39m\u001b[38;5;124m\"\u001b[39m\n\u001b[1;32m-> 1705\u001b[0m \u001b[38;5;28mself\u001b[39m\u001b[38;5;241m.\u001b[39mhandles \u001b[38;5;241m=\u001b[39m \u001b[43mget_handle\u001b[49m\u001b[43m(\u001b[49m\n\u001b[0;32m   1706\u001b[0m \u001b[43m    \u001b[49m\u001b[43mf\u001b[49m\u001b[43m,\u001b[49m\n\u001b[0;32m   1707\u001b[0m \u001b[43m    \u001b[49m\u001b[43mmode\u001b[49m\u001b[43m,\u001b[49m\n\u001b[0;32m   1708\u001b[0m \u001b[43m    \u001b[49m\u001b[43mencoding\u001b[49m\u001b[38;5;241;43m=\u001b[39;49m\u001b[38;5;28;43mself\u001b[39;49m\u001b[38;5;241;43m.\u001b[39;49m\u001b[43moptions\u001b[49m\u001b[38;5;241;43m.\u001b[39;49m\u001b[43mget\u001b[49m\u001b[43m(\u001b[49m\u001b[38;5;124;43m\"\u001b[39;49m\u001b[38;5;124;43mencoding\u001b[39;49m\u001b[38;5;124;43m\"\u001b[39;49m\u001b[43m,\u001b[49m\u001b[43m \u001b[49m\u001b[38;5;28;43;01mNone\u001b[39;49;00m\u001b[43m)\u001b[49m\u001b[43m,\u001b[49m\n\u001b[0;32m   1709\u001b[0m \u001b[43m    \u001b[49m\u001b[43mcompression\u001b[49m\u001b[38;5;241;43m=\u001b[39;49m\u001b[38;5;28;43mself\u001b[39;49m\u001b[38;5;241;43m.\u001b[39;49m\u001b[43moptions\u001b[49m\u001b[38;5;241;43m.\u001b[39;49m\u001b[43mget\u001b[49m\u001b[43m(\u001b[49m\u001b[38;5;124;43m\"\u001b[39;49m\u001b[38;5;124;43mcompression\u001b[39;49m\u001b[38;5;124;43m\"\u001b[39;49m\u001b[43m,\u001b[49m\u001b[43m \u001b[49m\u001b[38;5;28;43;01mNone\u001b[39;49;00m\u001b[43m)\u001b[49m\u001b[43m,\u001b[49m\n\u001b[0;32m   1710\u001b[0m \u001b[43m    \u001b[49m\u001b[43mmemory_map\u001b[49m\u001b[38;5;241;43m=\u001b[39;49m\u001b[38;5;28;43mself\u001b[39;49m\u001b[38;5;241;43m.\u001b[39;49m\u001b[43moptions\u001b[49m\u001b[38;5;241;43m.\u001b[39;49m\u001b[43mget\u001b[49m\u001b[43m(\u001b[49m\u001b[38;5;124;43m\"\u001b[39;49m\u001b[38;5;124;43mmemory_map\u001b[39;49m\u001b[38;5;124;43m\"\u001b[39;49m\u001b[43m,\u001b[49m\u001b[43m \u001b[49m\u001b[38;5;28;43;01mFalse\u001b[39;49;00m\u001b[43m)\u001b[49m\u001b[43m,\u001b[49m\n\u001b[0;32m   1711\u001b[0m \u001b[43m    \u001b[49m\u001b[43mis_text\u001b[49m\u001b[38;5;241;43m=\u001b[39;49m\u001b[43mis_text\u001b[49m\u001b[43m,\u001b[49m\n\u001b[0;32m   1712\u001b[0m \u001b[43m    \u001b[49m\u001b[43merrors\u001b[49m\u001b[38;5;241;43m=\u001b[39;49m\u001b[38;5;28;43mself\u001b[39;49m\u001b[38;5;241;43m.\u001b[39;49m\u001b[43moptions\u001b[49m\u001b[38;5;241;43m.\u001b[39;49m\u001b[43mget\u001b[49m\u001b[43m(\u001b[49m\u001b[38;5;124;43m\"\u001b[39;49m\u001b[38;5;124;43mencoding_errors\u001b[39;49m\u001b[38;5;124;43m\"\u001b[39;49m\u001b[43m,\u001b[49m\u001b[43m \u001b[49m\u001b[38;5;124;43m\"\u001b[39;49m\u001b[38;5;124;43mstrict\u001b[39;49m\u001b[38;5;124;43m\"\u001b[39;49m\u001b[43m)\u001b[49m\u001b[43m,\u001b[49m\n\u001b[0;32m   1713\u001b[0m \u001b[43m    \u001b[49m\u001b[43mstorage_options\u001b[49m\u001b[38;5;241;43m=\u001b[39;49m\u001b[38;5;28;43mself\u001b[39;49m\u001b[38;5;241;43m.\u001b[39;49m\u001b[43moptions\u001b[49m\u001b[38;5;241;43m.\u001b[39;49m\u001b[43mget\u001b[49m\u001b[43m(\u001b[49m\u001b[38;5;124;43m\"\u001b[39;49m\u001b[38;5;124;43mstorage_options\u001b[39;49m\u001b[38;5;124;43m\"\u001b[39;49m\u001b[43m,\u001b[49m\u001b[43m \u001b[49m\u001b[38;5;28;43;01mNone\u001b[39;49;00m\u001b[43m)\u001b[49m\u001b[43m,\u001b[49m\n\u001b[0;32m   1714\u001b[0m \u001b[43m\u001b[49m\u001b[43m)\u001b[49m\n\u001b[0;32m   1715\u001b[0m \u001b[38;5;28;01massert\u001b[39;00m \u001b[38;5;28mself\u001b[39m\u001b[38;5;241m.\u001b[39mhandles \u001b[38;5;129;01mis\u001b[39;00m \u001b[38;5;129;01mnot\u001b[39;00m \u001b[38;5;28;01mNone\u001b[39;00m\n\u001b[0;32m   1716\u001b[0m f \u001b[38;5;241m=\u001b[39m \u001b[38;5;28mself\u001b[39m\u001b[38;5;241m.\u001b[39mhandles\u001b[38;5;241m.\u001b[39mhandle\n",
      "File \u001b[1;32mc:\\Users\\achir\\Downloads\\KESKIA_Predictive_Cantine-main\\venv\\Lib\\site-packages\\pandas\\io\\common.py:863\u001b[0m, in \u001b[0;36mget_handle\u001b[1;34m(path_or_buf, mode, encoding, compression, memory_map, is_text, errors, storage_options)\u001b[0m\n\u001b[0;32m    858\u001b[0m \u001b[38;5;28;01melif\u001b[39;00m \u001b[38;5;28misinstance\u001b[39m(handle, \u001b[38;5;28mstr\u001b[39m):\n\u001b[0;32m    859\u001b[0m     \u001b[38;5;66;03m# Check whether the filename is to be opened in binary mode.\u001b[39;00m\n\u001b[0;32m    860\u001b[0m     \u001b[38;5;66;03m# Binary mode does not support 'encoding' and 'newline'.\u001b[39;00m\n\u001b[0;32m    861\u001b[0m     \u001b[38;5;28;01mif\u001b[39;00m ioargs\u001b[38;5;241m.\u001b[39mencoding \u001b[38;5;129;01mand\u001b[39;00m \u001b[38;5;124m\"\u001b[39m\u001b[38;5;124mb\u001b[39m\u001b[38;5;124m\"\u001b[39m \u001b[38;5;129;01mnot\u001b[39;00m \u001b[38;5;129;01min\u001b[39;00m ioargs\u001b[38;5;241m.\u001b[39mmode:\n\u001b[0;32m    862\u001b[0m         \u001b[38;5;66;03m# Encoding\u001b[39;00m\n\u001b[1;32m--> 863\u001b[0m         handle \u001b[38;5;241m=\u001b[39m \u001b[38;5;28;43mopen\u001b[39;49m\u001b[43m(\u001b[49m\n\u001b[0;32m    864\u001b[0m \u001b[43m            \u001b[49m\u001b[43mhandle\u001b[49m\u001b[43m,\u001b[49m\n\u001b[0;32m    865\u001b[0m \u001b[43m            \u001b[49m\u001b[43mioargs\u001b[49m\u001b[38;5;241;43m.\u001b[39;49m\u001b[43mmode\u001b[49m\u001b[43m,\u001b[49m\n\u001b[0;32m    866\u001b[0m \u001b[43m            \u001b[49m\u001b[43mencoding\u001b[49m\u001b[38;5;241;43m=\u001b[39;49m\u001b[43mioargs\u001b[49m\u001b[38;5;241;43m.\u001b[39;49m\u001b[43mencoding\u001b[49m\u001b[43m,\u001b[49m\n\u001b[0;32m    867\u001b[0m \u001b[43m            \u001b[49m\u001b[43merrors\u001b[49m\u001b[38;5;241;43m=\u001b[39;49m\u001b[43merrors\u001b[49m\u001b[43m,\u001b[49m\n\u001b[0;32m    868\u001b[0m \u001b[43m            \u001b[49m\u001b[43mnewline\u001b[49m\u001b[38;5;241;43m=\u001b[39;49m\u001b[38;5;124;43m\"\u001b[39;49m\u001b[38;5;124;43m\"\u001b[39;49m\u001b[43m,\u001b[49m\n\u001b[0;32m    869\u001b[0m \u001b[43m        \u001b[49m\u001b[43m)\u001b[49m\n\u001b[0;32m    870\u001b[0m     \u001b[38;5;28;01melse\u001b[39;00m:\n\u001b[0;32m    871\u001b[0m         \u001b[38;5;66;03m# Binary mode\u001b[39;00m\n\u001b[0;32m    872\u001b[0m         handle \u001b[38;5;241m=\u001b[39m \u001b[38;5;28mopen\u001b[39m(handle, ioargs\u001b[38;5;241m.\u001b[39mmode)\n",
      "\u001b[1;31mFileNotFoundError\u001b[0m: [Errno 2] No such file or directory: 'data/Dataset_Grigny_E_AimeCesaire.csv'"
     ]
    }
   ],
   "source": [
    "# Import du dataset nettoyé et préparé\n",
    "\n",
    "data = pd.read_csv('data/Dataset_Grigny_E_AimeCesaire.csv', sep=';')\n",
    "dataset_cleaned = data.dropna(subset=['menu'])\n",
    "dataset_cleaned.head()"
   ]
  },
  {
   "cell_type": "code",
   "execution_count": 15,
   "metadata": {
    "is_executing": true
   },
   "outputs": [
    {
     "data": {
      "text/plain": [
       "Index(['date', 'prevision', 'reel', 'effectif', 'taux_grevistes', 'nos', 'ind',\n",
       "       'greves_manquantes', 'menu', 'ferie', 'veille_ferie', 'retour_ferie',\n",
       "       'vacances', 'retour_vacances', 'veille_vacances', 'inc_grippe',\n",
       "       'inc_gastro', 'inc_varicelle', 'fete_musulmane', 'ramadan',\n",
       "       'fete_chretienne', 'fete_juive', 'jour', 'semaine', 'mois',\n",
       "       'annee_scolaire', 'repas_noel', 'gaspillage_volume',\n",
       "       'gaspillage_pourcentage', 'porc', 'viande', 'poisson',\n",
       "       '4_premiers_jours', '4_derniers_jours', 'Entrée', 'Plat',\n",
       "       'Accompagnement', 'Fromage', 'Dessert', 'Entrée Food Type',\n",
       "       'Plat Food Type', 'Accompagnement Food Type', 'Fromage Food Type',\n",
       "       'Dessert Food Type', 'Entrée_Bio', 'Plat_Bio', 'Accompagnement_Bio',\n",
       "       'Fromage_Bio', 'Dessert_Bio'],\n",
       "      dtype='object')"
      ]
     },
     "execution_count": 15,
     "metadata": {},
     "output_type": "execute_result"
    }
   ],
   "source": [
    "# Lister les colonnes du dataset\n",
    "\n",
    "df.columns"
   ]
  },
  {
   "cell_type": "markdown",
   "metadata": {},
   "source": [
    "# Calcul des embeddings des menus\n",
    "\n",
    "Afin de pouvoir traiter la variable menus, il faut la transformer dans un format acceptable pour un modèle de machine learning. Nous allons pour cela calculer les embeddings de ces menus à l'aide d'un algorithme de NLP (BERT)."
   ]
  },
  {
   "cell_type": "code",
   "execution_count": 16,
   "metadata": {
    "is_executing": true
   },
   "outputs": [],
   "source": [
    "# N'effectuer cette étape que si les fichiers contenant les embeddings n'existent pas encore\n",
    "if not os.path.exists('data/embeddings_menu.csv'):\n",
    "    tokenizer = CamembertTokenizer.from_pretrained(\"dangvantuan/sentence-camembert-large\")\n",
    "    model = CamembertModel.from_pretrained(\"dangvantuan/sentence-camembert-large\")\n",
    "\n",
    "    # Fonction pour obtenir les embeddings de phrase à partir du modèle CamemBERT\n",
    "    def get_sentence_embeddings(texts):\n",
    "        embeddings = []  # Initialize an empty list to store embeddings for each text\n",
    "\n",
    "        # Loop over each text in the 'texts' input\n",
    "        for text_list in tqdm(texts):\n",
    "            # Concatenate list elements into a single string\n",
    "            text = ' '.join(text_list)\n",
    "\n",
    "            # Tokenize the text using the provided tokenizer\n",
    "            inputs = tokenizer(text, return_tensors=\"pt\", truncation=True, padding=True)\n",
    "\n",
    "            # Pass the tokenized input through the model to get the outputs\n",
    "            outputs = model(**inputs)\n",
    "\n",
    "            # Extract the mean of the last hidden state along axis 1 (time dimension)\n",
    "            # Squeeze removes dimensions of size 1 for compatibility with numpy\n",
    "            # Detach detaches the output from the computation graph\n",
    "            # Convert the tensor to a numpy array and append to the embeddings list\n",
    "            embeddings.append(outputs.last_hidden_state.mean(dim=1).squeeze().detach().numpy())\n",
    "\n",
    "        # Stack the list of embeddings into a single 2D array\n",
    "        embeddings = np.stack(embeddings, axis=0)\n",
    "\n",
    "        # Return the concatenated embeddings array\n",
    "        return embeddings\n",
    "\n",
    "    embeddings_menu = get_sentence_embeddings(df['menu'].values)\n",
    "    # convert embeddings to dataframe and save to csv\n",
    "    embeddings_menu = pd.DataFrame(embeddings_menu)\n",
    "    embeddings_menu.to_csv('data/embeddings_menu.csv', index=False)\n",
    "else:\n",
    "    embeddings_menu = pd.read_csv('data/embeddings_menu.csv')\n",
    "\n"
   ]
  },
  {
   "cell_type": "markdown",
   "metadata": {},
   "source": [
    "## Visualisation des embeddings\n",
    "Afin de visualiser nos embeddings, et pour améliorer le temps d'entrainement de notre algorithme, nous devons procéder à une réduction de dimensions.\n",
    "Le but de cette opération est de réduire le nombre de dimensions de nos embeddings tout en conservant le maximum d'informations. Pour cela, nous allons utiliser l'algorithme PCA (Principal Component Analysis).\n",
    "Nous allons d'abord déterminer le nombre de dimensions à conserver pour notre PCA, puis nous allons appliquer cet algorithme à nos embeddings.\n",
    "Nous effectuerons aussi une visualisation de nos embeddings réduits en 3 dimensions."
   ]
  },
  {
   "cell_type": "code",
   "execution_count": 17,
   "metadata": {
    "is_executing": true
   },
   "outputs": [
    {
     "data": {
      "image/png": "[encoded data removed]",
      "text/plain": [
       "<Figure size 640x480 with 1 Axes>"
      ]
     },
     "metadata": {},
     "output_type": "display_data"
    }
   ],
   "source": [
    "X = embeddings_menu.values\n",
    "\n",
    "# Normaliser les données (important pour l'ACP)\n",
    "# Vous pouvez utiliser StandardScaler de scikit-learn pour cela\n",
    "# Assurez-vous d'avoir installé la bibliothèque en utilisant pip install scikit-learn\n",
    "\n",
    "X_scaled = StandardScaler().fit_transform(X)\n",
    "\n",
    "# Appliquer l'ACP\n",
    "pca = PCA()\n",
    "X_pca = pca.fit_transform(X_scaled)\n",
    "\n",
    "# Calculer la variance expliquée pour chaque composante\n",
    "explained_variance = pca.explained_variance_ratio_\n",
    "\n",
    "# Calculer la variance cumulée\n",
    "cumulative_variance = np.cumsum(explained_variance)\n",
    "\n",
    "# Tracer la variance expliquée et la variance cumulée en fonction du nombre de composantes\n",
    "plt.plot(range(0, 50), explained_variance[:50], marker='o', linestyle='--', label='Variance expliquée')\n",
    "plt.plot(range(0, 50), cumulative_variance[:50], marker='o', label='Variance cumulée')\n",
    "plt.xlabel('Nombre de composantes')\n",
    "plt.ylabel('Variance')\n",
    "plt.title('Variance expliquée et cumulative en fonction du nombre de composantes')\n",
    "plt.legend()\n",
    "plt.show()"
   ]
  },
  {
   "cell_type": "code",
   "execution_count": 18,
   "metadata": {
    "is_executing": true
   },
   "outputs": [],
   "source": [
    "# Utiliser 20 composantes principales pour l'ACP semble être un bon compromis\n",
    "# Nous allons donc réappliquer l'ACP avec 20 composantes principales\n",
    "n_components = 20\n",
    "pca = PCA(n_components=n_components)\n",
    "X_pca = pca.fit_transform(X_scaled)\n",
    "\n",
    "# Créer un dataframe à partir des composantes principales\n",
    "\n",
    "pca_df = pd.DataFrame(X_pca, columns=['pca_{}'.format(i) for i in range(1, n_components + 1)])\n",
    "\n",
    "# Ajouter les colonnes du dataframe pca_df au dataframe df\n",
    "\n",
    "df = pd.concat([df, pca_df], axis=1)"
   ]
  },
  {
   "cell_type": "markdown",
   "metadata": {},
   "source": [
    "### Visualisation 3D en utilisant UMAP"
   ]
  },
  {
   "cell_type": "code",
   "execution_count": 19,
   "metadata": {
    "is_executing": true
   },
   "outputs": [
    {
     "data": {
      "application/vnd.plotly.v1+json": {
       "config": {
        "plotlyServerURL": "https://plot.ly"
       },
       "data": [
        {
         "customdata": [
          [
           "['Pamplemousse', 'Hachis Parmentier', 'Salade verte', 'Flan caramel']"
          ],
          [
           "['Crêpe au fromage', 'emincé de volaille à la forestière', 'haricots beurre / haricots plats', 'St paulin', 'ananas']"
          ],
          [
           "['thon', 'Mâche au thon', 'Croziflette', 'des de canard', 'des de volaille', 'Yaourt brasse bio']"
          ],
          [
           "['Choux blancs mimolette', 'milanette en des', 'filet surgele printaniere', 'carottes persillées', 'Galette des rois', 'Lait fermier']"
          ],
          [
           "['Endives / demi-oeuf', 'paella de la mer', 'Fromage blanc', 'et abricots secs']"
          ],
          [
           "['Taboulé', 'sauté de boeuf Bourguignon', 'haricots verts', 'Tomme bio', 'Clémentines']"
          ],
          [
           "['carottes râpées bio', 'rôti de dinde', 'jus de veau', 'purée de p  de terre', 'Yaourt Fruix']"
          ],
          [
           "['Pizza au fromage', 'citron', 'poisson pané', 'épinards à la crème', 'Edam', 'Pomme']"
          ],
          [
           "['Mâche au surimi', 'pâte', 'sauce bolognaise', 'gruyère râpée', 'Crème dessert vanille']"
          ],
          [
           "['Choux rouges', 'Sauté de porc Forestière', 'sauté de dinde  forestière', 'batonnière de légumes', 'Beignet chocolat', 'Lait fermier']"
          ],
          [
           "['Potage tomate / vermicelle', 'cordon bleu de volaille', \"petits pois  à l'anglaise\", 'Camembert', 'Banane']"
          ],
          [
           "['Concombres vgte', 'Poisson', 'beurre blanc', 'riz pilaf', 'Gervais aux fruits']"
          ],
          [
           "['Potage carottes', 'Poisson meunière', 'Courgettes à la tomate', 'Gouda', 'Ananas']"
          ],
          [
           "['pamplemousse', 'sauté de veau Marengo', 'Frites', 'Yaourt aromatisé']"
          ],
          [
           "['salade de pâtes aux tomates confites', 'cuisse de poulet rôti au jus', 'poulet fermier', 'Choux fleurs béchamel agro', 'Tomme blanche', 'Pomme']"
          ],
          [
           "['salade verte au thon', 'Omelette', 'Riz à la forestière', 'Crème dessert chocolat']"
          ],
          [
           "['betteraves cubes', 'lasagnes bolo', 'salade verte', 'Flan caramel']"
          ],
          [
           "['Potage légumes', 'Jambon fumé', 'jambon de dinde agro', 'carottes crème', 'Champanet', 'Clémentines']"
          ],
          [
           "['nouvel an chinois', 'salade', \"nem's de volaille\", 'Emincé de dinde au caramel', 'poelée asiatique', 'salade de fruit exotique', 'et litchis']"
          ],
          [
           "['Choux à la mimolette', 'calamar armoricaine', 'Pommes de terre sautées agro', 'Kiwi']"
          ],
          [
           "['Tarte au fromage', 'poulet confit', 'Haricots verts', 'Pomme']"
          ],
          [
           "['Concombres vgte', 'Toulouse grillée', 'saucisse de volaille', 'haricots blanc à la tomate', 'blanc à la neige', 'crème anglaise']"
          ],
          [
           "['Carottes râpées', 'Coecur de boeuf à la dijonnaise', 'Pomme noisettes', 'Suisses aro']"
          ],
          [
           "['salade de pomme de terre', 'tomate / concombre', 'poisson meunière', 'Brocolis beurre Provençal', 'St Bricet', 'Mirabelles au sirop']"
          ],
          [
           "['Salade coleslaw', 'Blanquette de veau', 'pomme vapeur', 'Yaourt aromatisé']"
          ],
          [
           "['salade de mâche à la mimolette', 'rôti de porc et  dinde', 'Petits pois', 'crêpes', 'confiture']"
          ],
          [
           "['Potage tomate/vermicelle', 'cordon bleu de volaille', 'Haricots beurre et plats', 'st paulin', 'Banane']"
          ],
          [
           "['Salade de lentilles', 'Lentilles, tomates, maïs', 'filet de lieu  au beurre blanc', 'Carottes', 'Crème de gruyère', 'Kiwi']"
          ],
          [
           "['Endives aux pommes', 'sauté de boeuf AUX POIVRES', 'Pâtes', 'Liégeois']"
          ],
          [
           "['taboulé', 'poisson pané/citron', 'choux fleurs agro', 'Tomme bio', 'Clémentines']"
          ],
          [
           "['Rillettes de thon', 'tartiflette de canard', 'salade verte', 'Crème vanille']"
          ],
          [
           "['REPAS POUR LA PLANETE', 'Crème de lentilles au cumin', 'Quinoa aux petits légumes', 'yaourt bio', 'abricots sec']"
          ],
          [
           "['galantine de volaille / cornichons', 'lasagne de boeuf', 'Mâche', 'Crème anglaise']"
          ],
          [
           "['Choux blancs bio à la mimolette', 'Jambon fumé', 'jambon de dinde', 'Marmelade de pommes', 'Gâteau au yaourt', 'Lait fermier']"
          ],
          [
           "['salade de lentilles', 'maïs, tomate1/8', 'Emincé de dinde Niçois', 'Carottes', 'Tomme bio', 'Banane']"
          ],
          [
           "['radis / beurre', 'Parmentier de poisson maison', 'Salade verte', 'Mousse chocolat']"
          ],
          [
           "['MANGER BOUGER', 'Mâche aux noix', 'Haché de poulet', 'gratin de pâtes/rape', 'Yaourt bio', 'Abricots secs']"
          ],
          [
           "['salade pomme de terre', 'et filet de sardine', 'rôti de boeuf', 'Ketchup', 'Haricots verts', 'Crème de gruyère', 'Kiwi']"
          ],
          [
           "['Bâtonnets de carottes', 'et sauce crème', 'Omelette', 'riz / ratatouille', 'Chèvre', 'Pomme cuite à la framboise']"
          ],
          [
           "['Betteraves / maïs', 'Duo de poisson cube', 'sauce crustacés', 'Palet brocolis / carottes', 'Camembert', 'Ananas']"
          ],
          [
           "['Rillettes de thon/citron', 'Parmentier de boeuf', 'salade verte', 'Fromage blanc']"
          ],
          [
           "['Tarte au fromage', 'Poulet rôti au jus', 'Choux fleurs béchamel agro', 'Pomme']"
          ],
          [
           "['Concombres', 'Sauté de porc au curry', 'sauté de dinde au curry', 'Batonnière de légumes', 'Eclair chocolat', 'lait fermier']"
          ],
          [
           "['carottes râpées', 'filet de lieu sauce marmite du perray', 'RIZ', 'Gruyère', 'Kiwi']"
          ],
          [
           "['radis / beurre', 'Coecur de boeuf sauce dijonnaise', 'purée de p de terre', 'Yaourt aro']"
          ],
          [
           "['Salade au surimi', 'cuisse de poulet confit', 'Petits pois', 'St Bricet', 'riz au lait maison']"
          ],
          [
           "['Choux rouges bio au gruyère', 'Couscous boulettes de boeuf', 'semoule', 'legumes', 'banane']"
          ],
          [
           "['blé maïs tomate', 'filet de poisson meunière', 'Brocolis', 'Gouda', 'Ananas']"
          ],
          [
           "['Concombres', 'Cordon bleu', 'Choux fleurs agro', 'Port salut', 'compote', 'Biscuit du Blavet sans DLUO']"
          ],
          [
           "['Crêpe au fromage', 'Sauté de veau Marengo', 'Haricots verts', 'Chèvre', 'Orange']"
          ],
          [
           "['Mâche demi-oeuf', 'dinde', 'Rôti de porc au jus', 'haricots blanc à la tomate', 'Tomme bio', 'Kiwi']"
          ],
          [
           "['Gaspacho', 'fiet de lieu sauce Normande', 'pomme de terre rissolée', 'yaourt brassé bio']"
          ],
          [
           "['salade verte aux dés de gruyère', 'Choucroute Collet ( saucisse)', 'Choucroute de dinde ( saucisse)', 'Pomme']"
          ],
          [
           "['Bettraves râpées \"maison\"', 'Omelette', 'ratatouille maison', 'Edam', 'semoule au lait maison']"
          ],
          [
           "['salade de tomatesmaison', 'steak haché', 'Frites', 'Suisses aro']"
          ],
          [
           "['salade des Iles (Carottes, surimi, ananas)', 'poisson sauce  des caraïbes', 'Riz antillais', 'Chèvretine', 'Flan noix de coco', 'Menu des Caraïbes']"
          ],
          [
           "['Melon', 'lasagne de boeuf', 'salade', 'Crème vanille']"
          ],
          [
           "['Concombres', 'Poisson  meunière  ou saumon pane', 'Brocolis au beurre', 'Pain perdu', 'Lait bio']"
          ],
          [
           "['salade de blé bio (blé, tomate, maïs)', 'Rôti de porc au jus', 'haricots beurre et plats agro', 'St Paulin', 'Fraises au sucre']"
          ],
          [
           "['Repas indien', 'Samossa de légumes', 'Dhal aux lentilles et volaille', 'Lassi :', 'Yaourt bio', 'framboise']"
          ],
          [
           "['Salade de pommes de terre (PdT, tomates des , oeuf)', 'Poisson pané/citron', 'Bâtonnière de légumes', 'Crème de gruyère', 'Ananas']"
          ],
          [
           "['Choux blancs mimolette', 'Sauté de dinde à la dijonnaise', 'Pâtes', 'Cocktail de fruits']"
          ],
          [
           "['Pizza', 'Rôti de boeuf', 'Ketchup', 'petits pois', 'Banane']"
          ],
          [
           "['Carottes râpées bio', 'Omelette', 'gratin de p de terr maison', 'Yaourt aro']"
          ],
          [
           "['salade au surimi', 'Chili corn carne', 'Riz', 'Yaourt bio']"
          ],
          [
           "['Salade de pâtes aux tomates confites', 'Pilons de poulet confit', 'Haricots  verts', 'Gouda', 'Kiwi']"
          ],
          [
           "['Melon', 'Jambon fumé/bl de dinde', 'Epinards', 'Beignet aux pommes', 'lait bio']"
          ],
          [
           "['betteraves en des', 'poisson frais/sc crustace', 'Pommes rissolées', 'Tomme bio', 'Fraises au sucre']"
          ],
          [
           "['Salade de riz au thon agro', 'cordon bleu de volaille', 'haricots beurre', 'st Nectaire', 'ananas']"
          ],
          [
           "['ECOLE', 'crepes fromage', 'lieu', 'marmite du perray', 'Carottes en surgelees', 'Tomme blanche', 'fraises']"
          ],
          [
           "['melon', 'Sauté de porc', 'sauté de dinde', 'Wok de légumes croquant', 'Grillé aux abricots', 'lait bio']"
          ],
          [
           "['salade de tomates', 'Courgette farcie', 'Riz', 'crème anglaise']"
          ],
          [
           "[\"Clafoutis de l'été (Pizza Clot)\", 'filet de poulet', 'Petits pois cuisinés', 'Camembert', 'cerise']"
          ],
          [
           "['carottes râpées', 'filet de lieu aux petits légumes', 'pommes vapeur', 'Tome bio', 'nectarine']"
          ],
          [
           "['Pizza', 'Poisson pané', 'Brocolis', 'salade de fruits']"
          ],
          [
           "['Gaspacho', 'Blanquette de veau', 'pomme de terre rissolées', 'Yaourt aro']"
          ],
          [
           "['radis / beurre', 'Omelette', 'salsifis/ carottes creme', 'Eclair', 'Lait bio']"
          ],
          [
           "['Melon', 'Raviolis', 'fromage blanc+', 'dattes']"
          ],
          [
           "['Concombres A LA CREME', 'Poulet rôti', 'Frites', 'Flan caramel']"
          ],
          [
           "['Tarte au fromage', 'Rôti de porc au jus', 'Rôti de dinde au jus', 'RATATOUILLE', 'abricots']"
          ],
          [
           "['taboulé', 'Filet de poisson sauce Dieppoise', 'Batonnière de légumes agro', 'St Bricet', 'cerise']"
          ],
          [
           "['Salade aux dés de gruyère', 'paupiette sauce Agrumes', 'Pâtes', 'Compote stock']"
          ],
          [
           "['Betteraves stock', 'Rôti de boeuf foid', 'ketchup', 'Haricots beurre et plats', 'st paulin', 'fraise']"
          ],
          [
           "['crêpe au fromage', 'Filet de lieu', 'sauce b blanc', 'epinards a la creme', 'Chèvre', 'nectarine']"
          ],
          [
           "['Tomates en salade', 'Pilon de poulet froid (apéro)', 'Chips', 'Champanet', 'cerise']"
          ],
          [
           "['Melon', 'Lasagnes', 'Salade verte', 'Ile flottante']"
          ],
          [
           "['radis / beurre', 'filet de poulet au jus', 'petits pois', 'riz au lait']"
          ],
          [
           "['Pizza au fromage', 'Rôti de boeuf', 'sauce poivre', 'haricots verts', 'Camembert', 'raisins']"
          ],
          [
           "['Carottes râpées bio', 'parmentier de poisson', 'salade verte', 'Yaourt aro']"
          ],
          [
           "['salade de lentilles bio?? (lentilles, tomates, maïs)', 'Cordon bleu', 'haricots beurre et plats agro', 'St Paulin', 'Poire']"
          ],
          [
           "['Salade au surimi', 'Pâtes', 'bolognaise', 'fromage rapee', 'yaourt bio']"
          ],
          [
           "['Pastèque', 'Rôti de porc', 'Rôti de dinde', 'courgette tomate', 'Edam', 'tarte aux pommes']"
          ],
          [
           "['Concombres', 'sauce crème comexo', 'filet de poisson frais', 'sce crustacés', 'Pommes rissolées', 'Crème choco']"
          ],
          [
           "['tarte au fromage', 'sauté de dinde aux raisins', 'Carottes 5/1', 'ananas', 'betteraves en des', 'rôti de veau farci', 'jus de veau', 'Pommes noisettes', 'Fromage blanc / abricots secs']"
          ],
          [
           "['Tomates rondelles/ fêta', 'Pilon poulet confit', 'lentilles maison', 'Flan caramel']"
          ],
          [
           "['Salade de pâtes', 'filet de poisson frais beurre blanc', 'batonnet de légumes agro', 'Chèvre', 'raisin']"
          ],
          [
           "['Rillettes de thon/citron', 'parmentier de boeuf', 'salade verte', 'Crème vanille']"
          ],
          [
           "['Crêpe fromage', 'Sauté de porc Forestiere', 'brocolis ( beurre ail)', 'Tomme bio', 'banane']"
          ],
          [
           "['carottes râpées bio', 'poisson pané/citron', 'Riz / ratatouille', 'Champanet', 'Pomme reinette']"
          ],
          [
           "['Pâté de foie bio', 'pâté de volaille', 'Cornichons', 'haché de volaille +Ketchup', 'lentilles maison', 'Cantal', 'raisin']"
          ],
          [
           "['choux blanc rape bio', 'mimolette en des', 'emincé de boeuf Strogonoff', 'Pommes noisettes', 'Poire']"
          ],
          [
           "['salade carnaval', 'mais ( tomates, concombres)', 'omelette', 'Epinards', 'Edam', 'Semoule au lait?']"
          ],
          [
           "['Céleri rémoulade/maison', 'Poisson meunière', 'Mousseline potiron', 'fge blanc / spéculoos']"
          ],
          [
           "['salade de riz agro', 'saucisses de Francfort', 'chipo de volaille', 'h beurre h plats', 'camenbert', 'pomme']"
          ],
          [
           "['choux rouges rapees bio', 'des de pommes', 'boulettes de boeuf', 'semoule aux raisins', 'yaourts aromatises']"
          ],
          [
           "['quinoa', 'tomate concombre', 'Filet de lieu auce du Perray', 'palets de légumes', 'tome blanche', 'Kiwi']"
          ],
          [
           "['salade pommes de terre et sardines', 'galettes', 'Salade verte', 'yaourt bio']"
          ],
          [
           "['Mâche/demi-oeuf', \"Poulet d'Ancenis au jus\", 'Choux fleurs agro', 'Lait ribot', \"P'tit Lu\"]"
          ],
          [
           "['betteraves rapées bio', 'jambon fumée', 'jambon de poulet', 'Mogette de VENDEE maison', 'Curé nantais', 'Poire', 'Pomme bio']"
          ],
          [
           "['Crêpe au fromage', 'poisson beurre blanc', 'Carottes surgelées', 'Tomme bio', 'Poire']"
          ],
          [
           "['Potage légumes', 'Lasagnes', 'salade verte', 'Gervais maxi fraise']"
          ],
          [
           "['Salade de riz maison (riz, mais, tomate)', 'Poisson pané/citron', 'courgette à la tomate', 'Gouda', 'Ananas']"
          ],
          [
           "['Rillettes de  thon', 'Hachis parmentier', 'Salade verte', 'Yaourt bio']"
          ],
          [
           "['tarte au fromage', 'Filet de lieu sauce crustacés', 'Brocolis beurre Provençal', 'St Paulin', 'Poire']"
          ],
          [
           "['Céleri rémoulade \"maison\"', 'Filet de poulet', 'Petits pois', 'riz au lait maison']"
          ],
          [
           "['Pamplemousse', 'sauté de veau forestier', 'Frites', 'crème vanille']"
          ],
          [
           "['Salade de pâtes aux tomates confites', 'Jambon fumé (s/porc : Blanc de dinde)', 'Marmelade', 'Fromage blanc', 'abricots secs ou dattes']"
          ],
          [
           "['Mâche/demi-oeuf', 'Dhal de lentilles', 'Camembert', 'Compote po framboise']"
          ],
          [
           "['Potage de carottes', 'poisson  meunière', 'ratatouille maison', 'Tomme blanche', 'Clémentines']"
          ],
          [
           "['Radis /beurre', 'sauté de boeuf sauce Dijonnaise', 'coquillette', 'Tomme bio', 'Pomme']"
          ],
          [
           "['Concombres vgte', 'rôti de dinde au jus', 'haricots verts', 'Eclair choco', 'Lait fermier']"
          ],
          [
           "['Pizza fromage', 'Toulouse grillée', 'chipo de volaille', 'chx fleurs becha agro', 'Ananas']"
          ],
          [
           "['Carottes râpées bio', 'des de poisson', 'puree a chaud', 'salade verte', 'yaourt aro', 'Potage tomate vermicelle', 'poisson pané', 'Batonnière d elégumes', 'Morbier', 'Clémentines']"
          ],
          [
           "['des de betteraves', 'des de gruyere', 'Blanquette de veau', 'Riz', 'Kiwi']"
          ],
          [
           "['miette de thon', 'Choux rouges', 'des de jambon', 'des de de dinde', 'coquillettes', 'salade verte', 'danette choc']"
          ],
          [
           "['brissure de noix', 'Mâche', 'omelette', 'wok de legumes au quinoa', 'Camembert', 'Tarte au citron']"
          ],
          [
           "['mimolette', 'Choux blancs', 'boulettes', 'Couscous', 'Flan gélifié au chocolat']"
          ],
          [
           "['Crêpe fromage', 'Rôti de porc', 'rôti de dinde', 'Haricots beurre et plats', 'Tome bio', 'Poire']"
          ],
          [
           "['salade de pâtes aux tomates confites', 'filet de lieu', 'sauce b blanc', 'palet brocolis/carottes', 'st paulin', 'Pomme']"
          ],
          [
           "['repas de Noel', 'Salade douceur au dés de saumon fumée', \"Sot l'y laisse de dinde\", 'sauce aux baies roses', 'pomme de terre Duchesse', 'chevrotine', 'Dessert Ardélice', \"jus d'oranges\", 'chocolat']"
          ],
          [
           "['potage légumes et croûtons', 'Filet de poisson meunière', 'Epinards à la crème', 'Champanet', 'Banane']"
          ],
          [
           "['Potage tomate', 'hachis parmentier', 'Salade verte', 'Yaourt aro']"
          ],
          [
           "['mache', 'noix', 'Cassoulet', 'Camembert', 'Kiwi']"
          ],
          [
           "['Epiphanie', 'Choux blanc mimolette', 'filet surgele printaniere', 'Batonnière de légumes agro', 'Galette des rois', 'Lait fermier']"
          ],
          [
           "['Endives / demi-oeuf', 'paella de la mer', 'Emmental', 'Compote pomme - framboise']"
          ],
          [
           "['potage légumes+ croûtons', 'sauté de  boeuf Bourguignon', 'haricots verts', 'chèvre', 'Clémentines']"
          ],
          [
           "['carottes râpées bio', 'rôti de dinde', 'jus de veau', 'purée PdT', 'Yaourt bio']"
          ],
          [
           "['citron/tomate', 'Taboulé', 'poisson pané', 'Courgettes à la tomate', 'Crème de gruyère', 'ananas']"
          ],
          [
           "['Mâche au surimi', 'pâte', 'sauce bolognaise maison', 'gruyère râpée', 'Fromage blanc / abricots secs']"
          ],
          [
           "['Choux rouges bio', 'Rôti de porc', 'rôti de dinde au jus', 'Petits pois', 'St Bricet', 'Eclair choco']"
          ],
          [
           "['salade de blé (blé, maïs, tomates)', 'cordon bleu de volaille', 'Choux fleurs béchamel', 'Gouda', 'Kiwi']"
          ],
          [
           "['Concombres crème', 'sauce creme', 'Parmentier de poisson maison', 'Salade verte', 'Gervais aro']"
          ],
          [
           "['NOUVEL AN CHINOIS', 'NEMS/salade', 'Emincé de dinde', 'Riz cantonnais', 'salade de fruits exotique']"
          ],
          [
           "['salade de lentilles bio au gruyère (Lentilles bio, tomate, gruyère)', 'Poisson meunière', 'Batonnière de légumes', 'Pomme bio']"
          ],
          [
           "['Potage tomate vermicelle', 'Rôti de boeuf', 'Haricots verts', 'Tomme chèvre/brebis', 'Banane']"
          ],
          [
           "['salade verte au thon', 'Omelette', 'Tagliatelles ultra résistantes Panzani plus', 'Danette choco/lait']"
          ],
          [
           "['Carottes râpées', 'lasagnes bolo', 'salade verte', 'Flan caramel']"
          ],
          [
           "['Chandeleur', 'Choux blanc bio à la mimolette', 'Sauté de dinde moutarde', 'Haricots beurre', 'Crêpe au sucre', 'Lait fermier bio']"
          ],
          [
           "['Concombres', 'poisson beurre blanc', 'Pommes de terre sautées agro', 'Tome bio', 'Clémentines']"
          ],
          [
           "['Pizza', 'poulet confit', 'salsifis creme', 'Pomme']"
          ],
          [
           "['Pamplemousse', 'sauté de porc', 'saute de dinde', 'frites', 'Crème vanille']"
          ],
          [
           "['Endives aux des de pommes', 'Pot au feu', 'et ses légumes', 'yaourt aromaitsé']"
          ],
          [
           "['salade de riz \"maison\"', 'poisson pané', 'Brocolis beurre Provençal', 'Tomme blanche', 'Banane']"
          ],
          [
           "['pamplemousse', 'lasagne de boeuf', 'flan chocolat']"
          ],
          [
           "['Pâté  de foie bio', 'sauté de dinde chasseur', 'batonniere de legumes', 'Pomme']"
          ],
          [
           "['concombres', 'Tartiflette aux canard fumé', 'Fromage blanc / fruits rouges cuisinés']"
          ],
          [
           "['taboulé', 'Poisson Meuniere', 'epinards a la creme', 'tome bio', 'Kiwi']"
          ],
          [
           "['salade', 'surimi', 'Pilon de poulet', 'Lentilles maison', 'Yaourt aro']"
          ],
          [
           "['Salade de pâtes', 'sauté de boeuf', 'sauce Bourguignonne', 'Haricots verts', 'camembert', 'Ananas']"
          ],
          [
           "['Choux rouges bio', 'des de pommes', 'merguez volaille', 'boudin noir', 'purée de p de terre', 'Crème vanille']"
          ],
          [
           "['mais', 'salade de betteraves', 'poisson pané/citron', 'Courgettes à la tomate', 'Port salut', 'Orange']"
          ],
          [
           "['Menus pour la planète', 'Mâche / demi-oeuf', 'chili con carné de légumes', 'riz', 'yaourt bio', 'Abricots sec']"
          ],
          [
           "['Choux blancs bio', 'des de mimolettes', 'curry de porc', 'curry de dinde', 'Marmelade de pomme', 'Gâteau au fromage blanc', 'Lait fermier']"
          ],
          [
           "['Carottes râpées', 'cordon bleu de volaille', 'Petits pois', 'Tomme noire', 'Banane']"
          ],
          [
           "['radis / beurre', 'Parmentier de poisson maison', 'Salade verte', 'Liégeois chocolat']"
          ],
          [
           "['Pamplemousse', 'omelette', 'ketchup', 'Frites', 'Suisse aro']"
          ],
          [
           "['salade de lentilles, maïs, tomate', \"Sauté de veau à l'orange\", 'Haricots beurre', 'chanteneige', 'Ananas']"
          ],
          [
           "['salade / dés de chèvre', 'Timbale  de pâtes dinde', 'timbale de pâtes porc', 'gruyère rapés', 'Pomme cuite à la framboise']"
          ],
          [
           "['Betteraves', 'Filet de poisson', 'sauce crustacés', \"Purée carottes D'Aucy\", 'Camembert', 'Orange']"
          ],
          [
           "['Rillettes de thon', 'Parmentier de boeuf', 'salade verte', 'Flan caramel']"
          ],
          [
           "['Pizza', 'Poulet rôti au jus', 'Choux fleurs béchamel agro', 'Chèvre', 'Pomme']"
          ],
          [
           "['Concombres', 'rôti de porc', 'rôti de dinde', 'jus de veau', 'Haricots verts', 'Eclair chocolat', 'lait fermier']"
          ],
          [
           "['carottes râpées', 'filet de lieu sauce marmite du perray', 'RIZ', 'Gruyère', 'Kiwi']"
          ],
          [
           "['Salade au surimi', 'sauté de dinde Niçoise', 'Pommes noisettes', 'yaourt bio']"
          ],
          [
           "['tarte fromage', 'Saucisse Chipolatas', 'merguez de volaille', 'petits pois', 'Edam', 'Salade de fruits frais']"
          ],
          [
           "['Choux rouges bio au gruyère', 'Couscous boulettes de boeuf', 'semoule', 'legumes', 'Ananas']"
          ],
          [
           "['Riz, maïs tomate( mélange maison', 'filet de poisson meunière', 'Brocolis', 'Cantal', 'Banane']"
          ],
          [
           "['Radis/beurre', 'Hachis parmentier', 'salade verte', 'ile flottante']"
          ],
          [
           "['tarte au fromage', 'Haché de volaille', 'batonnière de légumes', 'Fromage vache/brebis', 'Ananas']"
          ],
          [
           "['salade / surimi', 'timbale de pâtes au jambon', 'Fromage blanc/abricots secs', 'ab']"
          ],
          [
           "['salade P de terre, oeuf durs', 'persil, des de tomate', 'Poisson pané', 'Brocolis Provençal', 'Chanteneige', 'Pomme']"
          ],
          [
           "['Salade verte au thon', 'Saucisse de Toulouse', 'Lentilles cuisinées BIO', 'Yaourt aro']"
          ],
          [
           "['Concombres', 'Sauté de boeuf sauce poivre', 'Frites', 'Crème chocolat']"
          ],
          [
           "['Salade de pâtes aux tomates confites', 'Filet de lieu surgelé', 'sauce Normande', 'Palet broco/carottes', 'Gouda', 'Fraises']"
          ],
          [
           "['Melon', 'blanquette de veau', 'Riz', 'Flan caramel']"
          ],
          [
           "['Salade au quinoa (quinoa, tomate, concombres)', 'Rôti de porc au jus', 'haricots beurre et plats', 'Tomme bio PIRUDEL', 'Banane']"
          ],
          [
           "['Choux blanc mimolette', 'filet de lieu printanière', 'Purée de carotte agro', 'Yaourt bio + biscuit']"
          ],
          [
           "['tarte au fromage', 'citron', 'Poisson pané', 'courgette à la tomate', 'Tomme noire', 'Ananas']"
          ],
          [
           "['salade', 'des gruyère', 'Sauté de dinde à la dijonnaise', 'pommes noisette', 'Cocktail de fruits']"
          ],
          [
           "['scolaire', 'carottes râpées', 'chipolata/merguez', 'Mogette de Vendée', 'Crème vanille']"
          ],
          [
           "['Melon', 'Lasagnes', 'salade verte', 'yaourt aro']"
          ],
          [
           "['Pizza', 'Pilons de poulet confit', 'petits pois', 'St paulin', 'Kiwi']"
          ],
          [
           "['Concombres', 'Jambon fumé/bl de dinde', 'Epinards', 'Eclair choco', 'lait bio']"
          ],
          [
           "['betteraves en des', 'poisson frais', 'sauce beurre blanc', 'Pommes rissolées', 'Camembert', 'Fraises au sucre']"
          ],
          [
           "['pastèque', 'sauté de veau Marengo', 'tagliatelles', 'Flan choco']"
          ],
          [
           "['salade à la mimolette', 'rôti de dinde au jus', 'frites', 'Compote de pomme']"
          ],
          [
           "['taboulé', 'Filet de poisson meunière', 'Carottes vichy', 'chèvre', 'Fruit de saison (nectarine??)', 'Même association en S17']"
          ],
          [
           "['salade de tomates', 'Sauté de porc aux agrumes', 'sauté de dinde aux agrumes', 'purée de patate douce', 'Yaourt bio']"
          ],
          [
           "['melon', 'rôti de boeuf', 'ketchup', 'poêlée méridionnale Davigel\\r\\n(à tester)', 'Crème de gruyère', 'Macarons fraise / rhubarbe']"
          ],
          [
           "['carottes râpées', \"Poulet d'Ancenis\", 'Petits pois cuisinés', 'Cantal', 'cerise']"
          ],
          [
           "['salade composée:', 'salade ble tomate maïs', 'tarte saumon / epinards', 'salade verte', 'Tome bio(pirudel)', 'Fraises']"
          ],
          [
           "['salade aux dés de gruyère', 'saucisse de toulouse grillée', 'Lentilles bio cuisinées', 'Ananas']"
          ],
          [
           "['Tarte aux poireaux educalim', 'tarte au fromage', 'Poisson  pané', 'Brocolis', 'Gouda', 'nectarine']"
          ],
          [
           "['Salade de choux fleurs Educalim', 'Gaspacho', 'Blanquette de veau', 'pomme de terre rissolées', 'Flan caramel']"
          ],
          [
           "['radis / beurre', 'Omelette', 'ratatouille cuisinée', 'beignet pomme', 'Lait bio']"
          ],
          [
           "['Melon1/8', 'Raviolis', 'salade verte', 'Ile flottante']"
          ],
          [
           "['Pâté de foie bio/cornichons', 'FILET Poulet rôti', 'Choux fleurs bécha', 'St Paulin', 'Pêche']"
          ],
          [
           "['Concombres', 'Rôti de porc au jus', 'Rôti de dinde au jus', 'Pommes noisette', 'yaourt aro']"
          ],
          [
           "['taboulé', 'Filet de poisson', 'Beurre blanc', 'Batonnière de légumes agro', 'Chanteneige', 'cerise']"
          ],
          [
           "['Betteraves (stock) au gruyère', 'paupiette sauce Agrumes', 'Riz', 'salade de fruits frais']"
          ],
          [
           "['Pizza', 'Rôti de boeuf froid', 'Mayonnaise', 'Purée de carottes agro', 'Nectarine']"
          ],
          [
           "['Pastèque', 'cordon bleu', 'Lentilles bio', 'suisses aro']"
          ],
          [
           "['Salade de pâtes aux tomates confites', 'Filet de lieu', 'sauce crustacés', 'H. beurre et plat', 'camembert', 'Compote stock', 'Biscuit']"
          ],
          [
           "['Melon', 'Pâtes à la bolognaise', 'et gruyère râpé', 'creme dessert vanille']"
          ],
          [
           "['radis/beurre', 'rôti de porc', 'rôti de dinde', 'petits pois', 'tarte aux pommes', 'Lait bio']"
          ],
          [
           "['REPAS FROID', 'Tomates cerises', 'manchon de volaille rôti', 'Chips', 'Champanet', 'cerises']"
          ],
          [
           "['Salade de lentilles bio (lentilles, maïs, tomate)', 'Sauté de dinde au curry', 'Purée de carottes', 'Gruyère', 'Prune reine-claude']"
          ],
          [
           "['salade / demi-oeuf', 'oeuf dur', 'Chili de légumes', 'Riz basmati', 'Yaourt bio']"
          ],
          [
           "['Melon', 'Poisson pané', 'Courgettes à la tomate', 'Camembert', 'Compote / biscuit', 'madeleine']"
          ],
          [
           "['Pastèque', 'omellette', 'keetchup', 'pommes rissolées / ketchup', 'Crème dessert vanille']"
          ],
          [
           "['Tarte au fromage', 'sauté de boeuf basse température', 'sauce Bourguignonne', 'Haricots verts', 'Raisin']"
          ],
          [
           "['Salade au thon', 'thon', 'Timbale de pâtes au canard', 'gruyère râpé', 'fromage blanc / abricots secs']"
          ],
          [
           "['Salade de riz (Riz, tomate, concombres)', 'Poisson meunière', 'Epinards', 'Fromage de brebis', 'Poire']"
          ],
          [
           "['radis / beurre', 'Sauté de veau marengo', 'Purée patates douces', 'Ile flottante']"
          ],
          [
           "['Concombres', 'Poisson sauce crustacés', 'Batonnière de légumes', 'Tomme noire', 'Eclair chocolat']"
          ],
          [
           "['Taboulé', 'Rôti de dinde', 'jus de veau', 'Brocolis', 'Crème de gruyère', 'Pomme']"
          ],
          [
           "['Melon', 'parmentier de poisson', 'salade verte', 'Yaourt aro']"
          ],
          [
           "['Salade carnaval (maïs, tomate, concombres)', 'Poisson pané', 'Carottes au cumin', 'Semoule au lait bio']"
          ],
          [
           "['Choux rouges bio', 'Paupiette de volaille sauce forestière', 'Pommes noisette', 'Flan caramel']"
          ],
          [
           "['Pizza au fromage', 'Rôti de boeuf + sauce au poivre', 'Petits pois', 'Chanteneige', 'banane']"
          ],
          [
           "['Velouté de lentilles bio', 'clafoutis de poireaux', 'Salade verte aux croûtons', 'Tomme bio', 'Poire']"
          ],
          [
           "['Salade / surimi', 'Pâtes à la bolognaise', 'et gruyère râpé', 'Suisses aro']"
          ],
          [
           "['tarte au fromage', 'Rôti de porc au jus', 'roti de dinde', 'marmelade', 'Raisin']"
          ],
          [
           "['demi-pamplemousse', 'Poisson beurre blanc', 'Palet brocolis/carottes', 'Gâteau aux pépites de chocolat', 'Lait bio']"
          ],
          [
           "['Radis/beurre', 'Omelette', 'Rizotto à la tomate', 'Tomme blanche', 'Ananas']"
          ],
          [
           "['Gaspacho', 'Poisson sauce Normande', 'Pommes vapeur', 'crème chocolat']"
          ],
          [
           "['Betteraves bio râpée', 'Lasagnes', 'salade', 'Yaourt bio']"
          ],
          [
           "['Pâté de foie bio', 'cornichons', 'Emincé de dinde dijonnaise', 'salsifis  beurreProvençal', 'St Paulin', 'banane']"
          ],
          [
           "['Salade de blé bio (Blé bio, tomates, maïs)', 'Poisson meunière', 'Courgettes à la tomate', 'Chèvre', 'Poire']"
          ],
          [
           "['Radis / beurre', 'Boulettes de boeuf en tagine', 'Semoule', 'Fromage blanc / miel (coupelle)']"
          ],
          [
           "['Salade de pâtes aux tomates confites', 'jambon fumée au miel et orange', 'j de dinde', 'Haricots beurre', 'Tomme bio', 'Pomme bio']"
          ],
          [
           "['Choux blancs bio à la mimolette', 'Poulet rôti fermier SDA', 'Petits pois', 'Lait bio']"
          ],
          [
           "['carottes râpées vinaigrette au miel', 'Parmentier de poisson', 'Salade verte', 'Liégois chocolat']"
          ],
          [
           "['Potage / croûtons', 'Sauté de veau chasseur', 'Choux fleurs béchamel', 'Edam', 'Ananas']"
          ],
          [
           "['Concombres à la crème', 'filet de poisson surgelé baies roses', 'Riz', 'Champanet', 'Compte po/framboise']"
          ],
          [
           "['Salade aux dés de chèvre', 'Saucisses Toulouse', 'saucisses de volaille', 'Mogettes', 'Yaourt aro']"
          ],
          [
           "['salade de pommes de terre (Pommes de terre, tomate, thon)', 'Omelette', 'Carottes', 'Camembert', 'poire']"
          ],
          [
           "['Salade verte / demi-oeuf', 'Paëlla', 'Fromage blanc / abricots secs']"
          ],
          [
           "['Radis / beurre', 'filet de poisson sauce crustacés', 'Pommes vapeur', 'flan choco']"
          ],
          [
           "['Potage tomate/vermicelle', 'Sauté de boeuf bourguignon', 'Haricots verts', 'Crème de gruyère', 'Banane']"
          ],
          [
           "['Choux rave bio râpé', 'Poisson meunière', 'Courgettes à la tomate', 'Camenbert', 'Tarte aux pommes']"
          ],
          [
           "['salade carnaval (Maïs, tomates, concombres)', 'Poisson sauce Normande', 'Bâtonnière de légumes', 'Chèvre', 'Poire']"
          ],
          [
           "['Taboulé', 'Rôti de boeuf / ketchup', 'Purée de légumes verts', 'Tomme bio', 'Morbier', 'Clémentines']"
          ],
          [
           "['Concombres vinaigrette', 'filet de poulet au jus', 'Frites', 'Yaourt bio']"
          ],
          [
           "['Choux blancs bio à la mimolette', 'Chili de légumes', 'Riz basmati', 'Liégeois choco']"
          ],
          [
           "['potage carottes', 'Hachis parmentier', 'salade verte', 'Suisses aro']"
          ],
          [
           "['Pizza', 'Rôti de porc', 'roti de dinde', 'jus de veau', 'petits pois', 'Orange']"
          ],
          [
           "['betterave bio râpée', 'poisson pané', 'choux fleurs béchamel', 'Tomme blanche', 'Eclair chocolat']"
          ],
          [
           "['Mâche aux noix', 'Omelette', 'Rizotto à la tomate', 'St Paulin', 'Poire']"
          ],
          [
           "['demi-pamplemousse', 'filet de poisson sauce beurre blanc', 'Pommes sautées', 'Crème chocolat']"
          ],
          [
           "['tarte au fromage', 'Haché de poulet/ketchup', 'maemelade', 'Kiwi bio']"
          ],
          [
           "['Choux rouges bio', 'Sauté de boeuf aux poivres', 'pâtes', 'Ile Flottante']"
          ],
          [
           "['salade de blé bio (blé bio, tomates, maïs)', 'Poisson meunière', 'Epinards', 'Edam', 'Clémentines']"
          ],
          [
           "['rillettes de thon', 'Lasagnes', 'Salade verte', 'Flan caramel']"
          ],
          [
           "['Concombres', 'Colombo de porc', 'Poêlée saveur des Indes', 'davigel', 'Tomme bio', 'Riz au lait maison à la vanille']"
          ],
          [
           "['velouté de lentilles bio', 'Pilon de poulet confit', 'Haricots beurre', 'Emmental', 'Banane']"
          ],
          [
           "['carottes râpées bio', 'Parmentier de poisson', 'salade de mâche', 'Yaourt aro']"
          ],
          [
           "['Dés de betteraves', 'Jambon fumé', 'Mogettes', 'Fromage blanc / Dattes']"
          ],
          [
           "['salade de riz (Riz, tomates, maïs)', 'Poisson pané', 'Bâtonnière de légumes', 'Chanteneige', 'Pomme']"
          ],
          [
           "['REPAS NOEL', 'Sauté de chapon ou canard', 'Pommes duchesse  0.268 \\x80']"
          ],
          [
           "['Pizza au fromage', 'Omelette', 'Carottes à la crème', 'Poire']"
          ],
          [
           "['lasagne / parmentier']"
          ],
          [
           "['poisson Meunière', 'carottes beurre provençal']"
          ],
          [
           "['escalope de poulet au jus', 'petits pois']"
          ],
          [
           "['Filet de poisson', 'beurre blanc', 'pomme vapeur']"
          ],
          [
           "['poisson meunère']"
          ],
          [
           "['Frites']"
          ],
          [
           "['Salade verte / demi-oeuf', 'Paëlla au poulet', 'Fromage blanc / miel']"
          ],
          [
           "['Carottes râpées', 'Rôti de dinde au jus', 'Haricots verts', 'Camembert', 'Banane']"
          ],
          [
           "['Melon', 'Pizza', 'Poisson sauce beurre blanc', 'Galettes broco/carottes', 'Edam', 'tarte au citron Boncolac']"
          ],
          [
           "['pizza', 'Blé , tomate,concombre', 'Haché de volaille/ketchup', 'Petits pois maraîcher', 'St paulin', 'Pomme']"
          ],
          [
           "['Blé , tomate,concombre', 'Sauté de veau marengo', 'Frites', 'Yaourt aromatisé']"
          ],
          [
           "['salade verte au thon', 'Bolognaise de légumes', 'tagliatelles', 'Danette gouter/ait']"
          ],
          [
           "['Pastèque', 'Pilon de poulet', 'Choux fleurs au gratin bonduelle', 'Tomme noire', 'Gâteau aux pépites de chocolat']"
          ],
          [
           "['Taboulé', 'Sauté de boeuf Bourguignon', 'carottes vapeur', 'Crème de gruyère', 'Prune']"
          ],
          [
           "['Concombres', 'jambon fumé', 'jambon de dinde', 'mogettes', 'Yaourt fermier bio/abricots secs']"
          ],
          [
           "['Des de betteraves', 'Cassolette de poisson*', 'Pommes vapeur', 'Emmental', 'Raisin']"
          ],
          [
           "['Melon', 'Lasagnes', 'salade verte', 'Yaourt fruix']"
          ],
          [
           "['Menu japonnais', 'choux blanc bio rapée/vinaigrette soja', 'sauté de canard au curry et soja', 'riz basmati', 'gateaux yuzu']"
          ],
          [
           "['MENU AGORES', 'Carottes râpées bio', 'Poulet certifié', 'Courgettes/pommes de terre ( smr)', 'Fromage bio', 'Tarte pomme/rhubarbe']"
          ],
          [
           "['Radis/beurre', 'poisson Meunière', 'Purée de légumes verts', 'agro', 'Gouda', 'Prunes']"
          ],
          [
           "['Salade de riz au thon agro', 'Sauté de porc aux pruneaux', 'Poêlée de légumes au cumin', 'Camembert', 'Pomme']"
          ],
          [
           "['oeuf dur mayonnaise', 'parmentier de poisson', 'Salade verte', 'Yaourt aro']"
          ],
          [
           "['Choux blancs bio mimolette', 'Rôti de boeuf', 'sauce au poivre', 'coquillettes', 'Crème chocolat']"
          ],
          [
           "['Crêpe au fromage', 'Omelette', 'Ratatouille', 'brunoiseetpoelée du sud', 'Edam', 'Raisin']"
          ],
          [
           "['pomelos rosé', 'hachis parmentier', 'salade verte', 'Maxi Gervais']"
          ],
          [
           "['Concombres', 'merguez', 'saucisse Chipolatas', 'lentilles cuisinées', 'Tomme blanche', 'Compote pomme']"
          ],
          [
           "['Salade de pâtes aux tomates confites agro', 'dinde', 'Jambon fumé', 'Marmelade de pommes', 'Maxi gervais']"
          ],
          [
           "['Gaspacho', 'croutons', 'Paëlla poulet fruits de mer', 'St paulin', 'Clémentines']"
          ],
          [
           "['Concombres', 'Sauté de boeuf', 'Bourguignon', 'coquillette', 'Ile flottante']"
          ],
          [
           "['Pizza', 'Omelette', 'Epinards', 'Morbier', 'Poire']"
          ],
          [
           "['Choux coleslaw', 'Blanquette de veau', 'Riz', 'Yaourt aro']"
          ],
          [
           "['Choux rouges bio', 'Rôti de boeuf', 'Sauce au poivre', 'Frites', 'Yaourt bio']"
          ],
          [
           "['Endives / demi-oeuf (Educalim)', 'Chili de légumes', 'Riz basmati', 'Crème dessert vanille']"
          ],
          [
           "['Mâche au surimi', 'Pilon de poulet confit', 'Choux Bruxelles Educalim', 'Gâteau au chocolat', 'Lait bio']"
          ],
          [
           "['Concombres', 'Timbale de pâtes au jambon', 'et râpé', 'Fromage blanc / dattes']"
          ],
          [
           "['Choux raves bio', 'Nuggets de poisson', 'Purée de pommes de terre', 'Edam', 'Cocktail de fruits']"
          ],
          [
           "['Rillettes de thon', 'Lasagnes', 'Salade verte', 'Yaourt aro']"
          ],
          [
           "['Choux blancs à la mimolette', 'des de milanette', 'Filet de poulet', 'Pommes noisettes', 'Clémentines']"
          ],
          [
           "['potage tomate/vermicelles', 'sauté de boeuf Bourguignon', 'purée de légumes verts', 'Tome bio en 1 kg', 'Pomme bio']"
          ],
          [
           "['betteraves rapées bio', 'Parmentier de poisson', 'Salade verte', 'Yaourt bio']"
          ],
          [
           "['Macedoine mayonnaise', 'Sauté de dinde aux pruneaux', 'riz', 'Gouda', 'Ananas']"
          ],
          [
           "['ble/betteraves /mais', 'Omelette', 'Gratinée de légumes', 'Tarte pommes']"
          ],
          [
           "['Avocat/tomate/maïs', 'Haché de poulet', 'Choux fleurs bécha agro', 'emmental 220gr', 'Clémentines']"
          ],
          [
           "['Endives et mimolette', 'Jambon fumé', 'jambon de dinde', 'lentilles maison', 'Crème choco']"
          ],
          [
           "['REPAS NOËL', 'rillette de saumon fumée', 'mini Blinis', 'Rôti de dinde de Noel', 'sauce aux marrons', 'Pommes duchesse', 'sapin de noel']"
          ],
          [
           "['Crêpe au fromage', 'Cassolette de poisson', 'Poelee de légumes cumin (agro)', 'Fromage blanc/abricots', 'abricots']"
          ],
          [
           "['Betteraves au gruyère', 'des de gruyere', 'Hachis Parmentier', 'Salade verte', 'Ananas']"
          ],
          [
           "['Demi-pamplemousse', 'Pilon de poulet', 'lentilles cuisinés (boîtes)', 'Maxi gervais Fruits rouges']"
          ],
          [
           "['concombre', 'Poisson meunière', 'Epinards à la crème', 'Belle de nantes', 'Bgalette des rois']"
          ],
          [
           "['Crêpe au fromage', 'j de dinde', 'Jambon fumé', 'Petits pois maraichers', 'Chèvre', 'Kiwi bio']"
          ],
          [
           "['salade de mâche/noix', 'filet de poisson', 'sauce niçoise', 'Riz', 'Ile flottante']"
          ],
          [
           "['Carottes râpées bio', 'sauté de veau chasseur', 'Frites', 'Yaourt bio']"
          ],
          [
           "['Potage potiron/ croûtons', 'Omelette', 'Poêlée de légumes', 'sauce au cumin', 'St paulin', 'Pomme bio']"
          ],
          [
           "['Salade au surimi', 'Pâtes à la bolognaise', 'et gruyère râpé', 'Fromage blanc / miel']"
          ],
          [
           "['Choux rouges bio', 'Rôti de porc', 'roti de dinde', 'jus de veau', 'Pommes rissolées', 'Yaourt aro']"
          ],
          [
           "['Lentilles/maïs/tomates', \"Poulet d'Ancenis\", 'Purée de légumes verts', 'Camembert', 'Banane']"
          ],
          [
           "['Betteraves râpées', 'Nuggets de poisson', 'Gratinée de légumes', 'Fromage vache/brebis', 'Tarte aux pommes']"
          ],
          [
           "['Tarte au fromage', 'Saucisse de Toulouse', 'merguez de volaille', 'h verts', 'Kiwi bio']"
          ],
          [
           "['Potage tomate / vermicelle', 'Rôti de dinde au jus', 'Purée de carottes agro', 'Edam', 'Liégeois chocolat']"
          ],
          [
           "['Choux blanc bio à la mimolette', 'Boeuf bourguignon', 'Pommes noisettes', 'Marmelade de pommes bio']"
          ],
          [
           "['NOUVEL AN CHINOIS', 'Nems', 'Poisson sauce  aigre douce', 'Riz', 'Salade de fruits exotiques']"
          ],
          [
           "['Endives', 'thon', 'Nuggets de volaile', 'Choux fleurs au gratin', 'Tomme noire', 'grillé aux fruits']"
          ],
          [
           "['Pizza', 'Sauté de veau', 'sauce Tagine', 'Carottes au cumin', 'Orange']"
          ],
          [
           "['Betteraves en cube', 'Poisson beurre blanc', 'pomme de terre sautées', 'Champanet', 'ananas']"
          ],
          [
           "['Salade /demi-oeuf', 'Paëlla au poulet', 'et fruits de mer', 'Yaourt aromatisé', 'Rillettes de thon / citron', 'Boulettes de boeuf sauce', 'tomate', 'Semoule', 'Fromage bio', 'Clémentines']"
          ],
          [
           "['Demi-pamplemousse', 'Rôti de veau', 'jus de veau', 'Petits pois 5/1', 'Crème de gruyère', 'Eclair chocolat']"
          ],
          [
           "['Potage carottes', 'Poisson meunière', 'Gratin de courgettes', 'St paulin', 'Pomme bio']"
          ],
          [
           "['salade de pâtes agro confites', 'dinde', 'Jambon fumé', 'Purée de légumes verts', 'Camembert', 'Orange']"
          ],
          [
           "['Choux rouges sauce crème', 'Parmentier de poisson', 'salade verte', 'Crème chocolat bio']"
          ],
          [
           "['Carottes râpées bio', 'Blanquette de veau', 'Riz', 'Yaourt fermier bio']"
          ],
          [
           "['Taboulé', 'Omelette', 'Gratinée de légumes', 'Port salut', 'Kiwi bio']"
          ],
          [
           "['Mâche/surimi', 'Tartiflette au jambon et', 'raclette crumble', 'Fromage blanc', 'abricots secs']"
          ],
          [
           "['macédoine mayo', 'Haché de poulet', 'Courgettes à la tomate', 'Gruyère 220gr', 'Banane']"
          ],
          [
           "['Betteraves râpées bio', 'Poisson sauce beurre blanc', 'Palet brocolis/carottes', 'Chanteneige', 'Crêpe au sucre']"
          ],
          [
           "['Macédoine mayonnaise', 'Hachis Parmentier', 'Salade verte', 'Yaourt fermier bio']"
          ],
          [
           "['Carottes râpées', 'Rôti de boeuf/ketchup', 'Haricots verts', 'Camembert', 'Tarte normande']"
          ],
          [
           "['Salade de riz agro', 'Cassolette de poisson', 'Palets brocolis/carottes', 'Fromage fondu au chèvre', 'Kiwi']"
          ],
          [
           "['Salade de pâtes agro', 'Confit de poulet', 'Choux bruxelles (educalim, 7 écoles))', 'Choux fleurs au gratin agro', 'St Paulin', 'Pomme bio']"
          ],
          [
           "['Salade coleslaw', 'Parmentier de poisson', 'Salade verte', 'Yaourt aromatisé']"
          ],
          [
           "['Endives/demi-oeuf (educalim)', 'Blanquette de veau', 'Riz', 'Crème dessert vanille']"
          ],
          [
           "['Crêpe au fromage', 'Omelettte', 'Courgettes à la tomate', 'Tome noire', 'Orange']"
          ],
          [
           "['Salade verte au thon', 'Pâtes à la bolognaise', 'et gruyère râpé', 'Suisses aro']"
          ],
          [
           "['Concombres', 'dinde', 'Jambon fumé', 'Gratin endives', 'et pommes de terre (observation educalim sans', 'pesée)', 'Ile flottante']"
          ],
          [
           "['Pizza', 'Poulet SDA', 'Petits pois maraîcher', 'Edam', 'Banane']"
          ],
          [
           "['Betteraves râpée bio', 'Poisson meunière', 'Brocolis à la crème', 'Camembert', 'Eclair chocolat']"
          ],
          [
           "['Tarte au fromage', 'Haché de poulet', 'marmelade de pommes', 'expée direct des poches de 2,5kg', 'St Nectaire', 'Kiwi']"
          ],
          [
           "['Choux blancs à la mimolette', 'sauté de veau Niçois', 'Frites', 'Cocktail de fruits au sirop']"
          ],
          [
           "['Radis/beurre', 'filet de poisson sauce normande', 'Purée de légumes verts', 'Fromage blanc', 'biscuit St michel']"
          ],
          [
           "['Carottes râpées bio/demi-oeuf', 'oeufs durs', 'chili', 'Riz basmati', 'Fromage bio', 'Pomme']"
          ],
          [
           "['Pamplemousse', 'Nuggets de volaille+ketchup', 'Epinards', 'Tarte au citron', 'Lait bio']"
          ],
          [
           "['Salade de pommes de terre (pommes de terre, tomates, concombres)', 'Rôti de boeuf', 'et sauce poivre', 'Palets brocolis/carottes', 'Gouda', 'Ananas']"
          ],
          [
           "['Salade verte/surimi', 'Timbale de pâtes au jambon (Kidysalt)', 'Yaourt fermier bio']"
          ],
          [
           "['Choux rouges bio', 'Poisson beurre blanc (frais)', 'Poêlée potatoes agro', 'Flan chocolat']"
          ],
          [
           "['Bettraves au gruyère', 'Sauté de porc Niçois', 'Sauté de dinde Niçois', 'Pommes noisette', 'Compote bio']"
          ],
          [
           "['MERCREDI AVEC CLASSE', 'Salade de pâtes agro', 'Grignottes de poulet/moutarde', 'Petits pois boîte', 'Liégeois choco']"
          ],
          [
           "['PA lundi', 'salade verte', 'des de chevre', 'Boulettes de boeuf', 'ssauce tagine', 'Semoule (Kidysalt)', 'Banane']"
          ],
          [
           "['Salade de tomates', 'Petits poisson panés', 'citron', 'Gratinée de légumes', 'St Paulin', 'flan']"
          ],
          [
           "['PA jeudi', 'Rillettes de thon', '/ citron', 'Lasagnes', 'Salade', 'yaourt aromatisé']"
          ],
          [
           "['PA lundi', 'Tarte au fromage', 'Pilon de poulet', 'Petits pois', 'Gouda', 'Kiwi']"
          ],
          [
           "['Tomate/demi-oeuf', 'Endives /demi-oeuf educalim', 'Poisson sauce normande', 'Riz basmati', 'Crème chocolat bio Péard']"
          ],
          [
           "['Concombres vgte', 'Sauté de dinde chasseur', 'Palet brocolis/carottes', 'choux bruxelles educalim', 'tome belle de nantes', 'Beignet pomme']"
          ],
          [
           "[\"Feuilleté fromage C'Pierre Clot\", 'Rôti de boeuf', 'jus de veau', 'Purée de légumes verts', 'Mimolette', 'Fraises au sucre']"
          ],
          [
           "['Melon', 'Jambon fumé', 'jambon de dinde', 'Flageolets boîte', 'Flan chocolat']"
          ],
          [
           "['Carottes râpées', 'Poisson sauce beurre blanc', 'Pommes rissolées', 'Crème dessert vanille laiterie St Père']"
          ],
          [
           "['salade douceur / surimi', 'Pâtes à la bolognaise (Collet)', 'et gruyère râpé', 'yaourt fermier bio']"
          ],
          [
           "['PA vendredi', 'Salade de riz agro Collet', 'Poisson meunière', 'Courgettes beurre provençale', 'Tome noire', 'Salade de fruits frais']"
          ],
          [
           "['Ecoles', 'Choux blancs mimolette', 'Rôti de porc froid', 'rôti de dinde', 'ketchup', 'Chips', 'Suisses aromatisés']"
          ],
          [
           "['PA CHANGE', 'Melon', 'Hachis parmentier', 'salade', 'Ile flottante']"
          ],
          [
           "['Radis / beurre', 'Rôti de dinde', 'jus de veau', 'gratin de choux fleurs Bonduelle', 'Cantal', 'Tarte grillée aux pommes']"
          ],
          [
           "['KYDISALT', 'Concombres', 'Jambon fumé', 'Lentilles', 'Yaourt fermier bio']"
          ],
          [
           "['Pizza au fromage', 'Omelette', 'Epinards agro', 'Edam', 'Fraises au sucre']"
          ],
          [
           "['PA jeudi', 'Tarte au fromage', 'Saucisse de Toulouse', 'Marmelade de pommes (logistique)', 'Crème dessert vanille St Père']"
          ],
          [
           "['Ecole', 'salade au gruyère', 'Rôti de boeuf', 'ketchup', 'Pommes noisette', 'Banane']"
          ],
          [
           "['PA lundi', 'Kydisalt coquillettes', 'Pastèque', 'Paëlla', 'Camembert', 'Compote pomme-framboise']"
          ],
          [
           "['Salade de tomates', 'Poisson beurre blanc', 'Gratinée de légumes', 'Gouda', 'Eclair chocolat']"
          ],
          [
           "['salade de lentilles bio (Lentilles, tomates, maïs)', 'Poulet fermier SDA', 'Poêlée victoria', 'Chanteneige', 'Nectarine']"
          ],
          [
           "['Melon', 'Poisson meunière', 'Courgettes béchamel', 'St nectaire', 'tarte abricots framboise']"
          ],
          [
           "['salade / mozzarella', 'Sauté de veau aux agrumes', 'Pommes potatoes', 'Fraises']"
          ],
          [
           "['Carottes râpées bio', 'steak de soja tomate et basilic', 'Haricots verts bio Naturdis', 'Fromage Belle de Nantes bio', 'Cerises']"
          ],
          [
           "['Salade au thon', 'Sauté de porc chasseur', 'Sauté de dinde chasseur', 'Palets brocolis/carottes', 'Camembert', 'Gâteau au fromage blanc Le Ster']"
          ],
          [
           "['Salade de pâtes aux tomates confites', 'Rôti de dinde', 'Epinards à la crème agro', 'Crème de gruyère', 'nectarine']"
          ],
          [
           "['Kydisalt', 'Pastèque', 'Boulettes de viande', 'sauce tagine', 'Semoule de couscous SMR', 'Flan caramel']"
          ],
          [
           "['Choux blancs / mimolette', 'Marmite du Perray', 'Pommes rissolées', 'Compote (stock)']"
          ],
          [
           "['Radis / beurre', 'Raviolis', 'gruyre râpé', 'Fromage blanc / fruits rouges', 'fruits rouges cuisinés ( idée fruits)']"
          ],
          [
           "['Betteraves (stock) aux dés de chèvre', \"sauté de canard à l'orange\", 'Pommes vapeur', 'abricots']"
          ],
          [
           "['Crêpe au fromage', 'Rôti de boeuf / ketchup', 'ketchup', 'Haricots verts', 'St paulin', 'Banane']"
          ],
          [
           "['Melon', 'Terrine de poisson', 'macédoine', 'mayonnaise', 'tarte au citron', 'Lait bio']"
          ],
          [
           "['radis', 'beurre', 'Lasagnes', 'salade verte', 'Yaourt velouté fruix']"
          ],
          [
           "['Pastèque', 'sauté de veau', 'Carottes', 'Camembert', 'Eclair chocolat']"
          ],
          [
           "['Taboulé', 'Poisson meunière', 'Purée de légumes verts', 'Gouda', 'raisin chasselas']"
          ],
          [
           "['Melon', 'Nuggets de poisson', 'Légumes poêlés et potatoes', 'Yaourt aromatisé']"
          ],
          [
           "['Pizza', 'Paupiette de volaille aux raisins ( fraîche)', 'Salsifis provençal', 'Tomme noire', 'Pomme']"
          ],
          [
           "['Choux blancs bio mimolette', 'Rôti de boeuf', 'jus de veau', 'Pâtes', 'Ananas']"
          ],
          [
           "['salade carnaval (Maïs, tomate, concombres)', 'Omelette', 'Courgettes à la béchamel', 'Edam', 'Prunes Reine-Claude']"
          ],
          [
           "['Pastèque', 'Couscous merguez', 'et ses légumes Collet', 'Yaourt fermier bio']"
          ],
          [
           "['Concombres à la crème', 'Rôti de porc', 'Rôti de dinde', 'jus de veau', 'purée de p de terre', 'Ile flottante']"
          ],
          [
           "['Pâté bio', 'cornichon', 'pâté de volaille indiv', 'Sauté de dinde dijonnaise', \"Haricots verts d'Aucy\", 'Gruyère', 'Banane']"
          ],
          [
           "['Carottes râpées', 'Poisson sauce niçoise', 'Choux fleurs au gratin', 'Chanteneige', 'Tarte normande aux pommes']"
          ],
          [
           "['Tarte au fromage', 'Haché de poulet', 'Petits pois', 'Prunes reine-claude']"
          ],
          [
           "['Pâtes aux tomates confites', 'Poisson', 'sauce beurre blanc', 'Gratinée de légumes', 'chevretine', 'Poire']"
          ],
          [
           "['MELODIE DES METS LOCAUX', 'Betteraves bio ?', 'Saucisse bio', 'Mogettes de vendée', 'Fromage bio', 'Marmelade de pommes bio']"
          ],
          [
           "['Salade douceur', '1/2 oeuf', 'Galette tomate/basilic sauce tomate', 'Riz basmati', 'Danette goûter lait']"
          ],
          [
           "['radis/beurre', 'micro beurre', 'Pilon de poulet', 'Epinards maison', 'St Paulin', 'Tarte grillée aux pommes']"
          ],
          [
           "['Feuilleté fromage', 'Jambon fumé', 'jambon de dinde', 'Poêlée Victoria agro', 'Mimolette', 'Raisin muscat']"
          ],
          [
           "['Concombres', 'Rôti de boeuf', 'ketchup', 'Frites', 'Yaourt bio']"
          ],
          [
           "['Tomates', 'Poisson meunière', 'Tagliatelles', 'Maxi Gervais aux fruits']"
          ],
          [
           "['Salade au surimi', 'Boulettes de boeuf en tagine', 'Semoule', 'Gouda', 'Ananas']"
          ],
          [
           "['Choux rouges bio', 'Rôti de dinde', 'jus de veau', 'Pommes rissolées', 'Crème dessert vanille']"
          ],
          [
           "['Gaspacho', 'croûtons', 'sauté de boeuf Bourguignon', 'légumes poelé et potatos', 'Belle de Nantes bio', 'Tarte au citron']"
          ],
          [
           "['Salade de blé bio (Blé bio, tomate, concombres)', 'Poisson sauce normande', 'galettes brocolis/carottes', 'Crème de gruyère', 'Poire']"
          ],
          [
           "['Pizza', 'rôti de porc sauce au miel', 'rôti dinde', 'Purée de légumes verts', 'Camembert', 'Pomme bio']"
          ],
          [
           "['PA vendredi', 'Mâche à la mimolette', 'mimolette', 'Omelette', 'ratatouille confite', 'Lait bio']"
          ],
          [
           "['Concombres vinaigrette', 'Poulet SDA', 'Gratinée de légumes', 'Fromage blanc / miel', 'miel coupelle']"
          ],
          [
           "['PA mardi', 'Choux blancs bio vinaigrette au miel', 'Poisson + sauce beurre blanc', 'sauce beurre blanc', 'Pommes vapeur', 'Crème dessert chocolat bio']"
          ],
          [
           "['Radis', 'beurre', 'haché de volaille', 'Petits pois', 'Beignets aux pommes', 'Lait bio']"
          ],
          [
           "['Pizza', 'rôti de boeuf au jus', 'Gratin de choux fleurs agro', 'Gouda', 'Clémentines']"
          ],
          [
           "['Betteraves râpée bio', 'timbale de porc et râpé', 'timbale de dinde', 'Yaourt bio']"
          ],
          [
           "['Mâche', 'demi oeuf', 'Filet de lieu frais', 'sauce beurre blanc', 'pommes de terre rissolées agro', 'Tomme noire', 'Poire']"
          ],
          [
           "['Potage potiron', 'hachis parmentier de boeuf', 'salade verte', 'Crème dessert vanille']"
          ],
          [
           "['Chou rave bio', \"Sauté de veau à l'orange\", 'gratinée de légumes', 'Fromage Belle de Nantes bio', 'Eclair chocolat']"
          ],
          [
           "['Salade de pâtes', 'filet de lieu surgelé', 'sauce crustacés', 'fondant de haricots verts', 'carre frais', 'Pomme bio']"
          ],
          [
           "['Rillettes de thon', 'salade / citron', 'sauté de porc à la moutarde', 'sauté de dinde à la moutarde', 'palet de brocolis / carottes', 'Camembert', 'Clémentines']"
          ],
          [
           "['Concombres', 'sauce creme', 'parmentier de poisson', 'salade verte', 'mousse choco lait']"
          ],
          [
           "['Choux blancs à la mimolette', 'des de mimolette', 'boeuf Bourguignon', 'Semoule', 'Yaourt aromatisé']"
          ],
          [
           "['Potage tomate/vermicelle', 'omelette', 'Poêlée de légumes et potatoes', 'Edam', 'Banane']"
          ],
          [
           "['Carottes râpées bio', 'sauce Bolognaise', 'tagliatelles', 'gruyère râpés', 'Suisses aromatisés']"
          ],
          [
           "['Mâche au surimi', 'jambon fumé', 'jambon de dinde+', \"sauce vallée d'Auge\", 'Frites', 'Flan caramel']"
          ],
          [
           "['Salade de blés, mais betteraves', 'Rôti de dinde', 'jus de veau', 'Marmelade de pommes', 'Délice au chèvre', 'Poire']"
          ],
          [
           "['Tarte au fromage', 'filet de poisson petits légumes', 'epinards à la creme', 'St Paulin', 'Ananas']"
          ],
          [
           "['Pizza', 'Pilon de poulet confit', 'Haricots verts SMR', 'Gruyère', 'Clémentines']"
          ],
          [
           "['Salade carnaval (maïs, tomate, concombres)', 'Petits poisson panés', 'Gratin de choux fleurs', 'Tomme blanche', 'Kiwi']"
          ],
          [
           "['Céleri rémoulade bio', 'blanquette de veau', 'riz', 'Danette goûter lait']"
          ],
          [
           "['salade / demi-oeuf', 'Galettes tomates / basilic', 'lentilles cuisinées', 'Yaourt bio']"
          ],
          [
           "['Mâche aux dés de gruyère', 'emincé de dinde chinoise', 'Palets brocolis/carottes', 'riz au lait bio']"
          ],
          [
           "['Potage légumes', 'Rôti de boeuf', 'sauce poivre', 'Petits pois 5/1', 'tomme noire', 'banane']"
          ],
          [
           "['Betteraves râpées bio', 'rpées agro / analyse libératoire', 'tartiflette de p de terre avec porc', 'dinde', 'salade verte', 'Fromage blanc / miel']"
          ],
          [
           "['concombes crème', 'Poissons meunière', 'blé bio /ratatouille', 'Chanteneige', 'Pomme bio']"
          ],
          [
           "['Demi-pomelos', 'lasagne de boeuf', 'salade verte', 'Yaourt aromatisé']"
          ],
          [
           "['Salade de pommes de terre (Pommes de terre, tomate, thon)', 'omelette', 'haricots verts', 'Chevretine Président', 'Poire']"
          ],
          [
           "['repas de noel sous les tropiques', \"terrine d'avocat et crabe\", 'sauce cocktail', 'Curry de pintade au lait de coco', 'potatoes wedg skin', 'fondant chocolat', 'coulis de mangue', \"jus d'orange classique\", 'chocolat = 18225']"
          ],
          [
           "['Crêpe au fromage', 'filet de poisson', 'beurre blanc', 'Brocolis', 'Fromage Belle de Nantes', 'Kiwi']"
          ],
          [
           "['Rillettes de thon/citron', 'Hachis parmentier', 'Salade de mache', 'Ile flottante']"
          ],
          [
           "['Endives aux pommes', 'Blanc de dinde', 'Jambon fumé', 'lentilles bio cuisinées', 'Edam', 'Clémentines']"
          ],
          [
           "['Potage tomate/vermicelle', 'Rôti de dinde au jus', 'Haricots verts 5/1', 'Tomme noire', 'Banane']"
          ],
          [
           "['Concombres à la vinaigrette', 'Nuggets de poisson + Citrons', 'Epinards', 'Galette briochée', 'Lait bio']"
          ],
          [
           "['Tarte fromage', 'Haché de volaille+ketchup', 'Haricots beurre 5/1 + Flageolets', 'Chanteneige', 'Pomme bio']"
          ],
          [
           "['Potage légumes+croûtons', 'Poisson meunière', 'Courgette à la tomate', 'Camembert', 'Poire']"
          ],
          [
           "['Céléri remoulade', 'Sauté de veau sauce aigre douce', 'Pomme noisette', 'Yaourt aro']"
          ],
          [
           "['Carottes BIO râpées / demi-oeuf', 'Chili de légumes', 'Riz basmati', 'Crème dessert chocolat bio']"
          ],
          [
           "['Demi-pamplemousse', 'ravioli', 'Lait bio', 'Eclair choclat']"
          ],
          [
           "['Pizza', 'Poulet fermier SDA', 'Légumes poelés et potatoes', 'Pomme bio']"
          ],
          [
           "['Endive au surimi', 'Rôti de boeuf ketchup', 'Petits pois carottes s/vide', 'Crème dessert vanille']"
          ],
          [
           "['Choux blancs à la mimolette', 'Poisson+ sauce crustacés', 'Frites', 'Kiwi bio']"
          ],
          [
           "['Potage potiron', 'Lasagnes', 'Salade', 'Suisses aromatisés']"
          ],
          [
           "['Concombres', 'Pilon de poulet', 'Purée pdt', 'Gouda', 'Ananas']"
          ],
          [
           "['Choux rouges râpés', 'Boeuf Bourguignon', 'Gratinée de légumes', 'Fromage blanc', 'Palet breton au chocolat Kercadelac', '1 carton gratuit pour 8 achetés']"
          ],
          [
           "['Taboulé', 'Poisson meunière', 'Brocolis', 'Crème de gruyère', 'Orange']"
          ],
          [
           "['CHANDELEUR', 'Mâche aux noix', 'jambon fumé', 'marmelade de pomme', 'expé en poche', 'St paulin', 'Crêpe/confiture']"
          ],
          [
           "['salade composée', 'aux dés de chèvre (Tomate, concombres, dés de chèvre)', 'filet de lieu au beurre blanc', 'riz', 'danette goûter-lait']"
          ],
          [
           "['carottes râpés bio', 'timbale de pâtes dinde', 'timbale de pâtes porc', 'Yaourt fermier bio']"
          ],
          [
           "['Feuilleté fromage', 'Omelette', 'ratatouille / bles', 'Fromage Belle de nantes bio', 'Pomme bio']"
          ],
          [
           "['Salade verte/surmi', 'Pilon de poulet confit', 'Petits pois', 'Camembert', 'Beignet pomme']"
          ],
          [
           "['Salade de pâtes aux tomates confites', 'Omelette', 'Poêlée de légumes et potatoes', 'Délice au chèvre', 'Ananas']"
          ],
          [
           "['Concombres', 'Saucisses bio', 'Mogettes', 'Ile flottante']"
          ],
          [
           "['Betteraves vgte', 'Poisson Frais sauce beurre blanc', 'Pommes rissolées', 'Edam', 'Orange']"
          ],
          [
           "['Salade carnaval (Maïs, tomate, concombres)', 'Sauté de veau marengo', 'Pâtes', 'Suisses aro']"
          ],
          [
           "['Salade verte/demi-oeuf', 'Poisson +sauce armoricaine', 'Pommes de terre smile', 'Gouda', 'Orange']"
          ],
          [
           "['Betteraves', 'Paëlla au poulet', 'Fromage blanc / miel']"
          ],
          [
           "['Tarte au fromage', 'Poisson meunière', 'Epinards', 'Banane']"
          ],
          [
           "['Salade de pâtes aux tomates confites', 'Haché de poulet', 'Choux fleurs au gratin', 'Edam', 'Orange']"
          ],
          [
           "['Roulé au fromage', 'Blanc dinde', 'Jambon fumé', 'Marmelade de pommes ( envoyé en poche)', 'Tomme des Pyrénées', 'Ananas']"
          ],
          [
           "['Concombres vgte', 'Veau marengo', 'Pommes noisette', 'Yaourt fermier bio']"
          ],
          [
           "['Betteraves', 'oeufs durs', 'Lasagnes', 'Salade verte', 'Crème vanille']"
          ],
          [
           "['Choux blancs à la mimolette', 'poisson surgelé en sauce aux crustacés', 'Pommes rissolées', 'Fraises au sucre']"
          ],
          [
           "['Carottes conventionnelles râpées', 'Rôti de boeuf  au jus', 'Courgettes à la tomate', 'Belle de Nantes bio', 'Eclair chocolat']"
          ],
          [
           "['Pizza', 'Pilon de poulet', 'Petits pois', 'Pomme']"
          ],
          [
           "['Melon', 'Saucisses de Francfort bio', 'saucisses de volaille bio', 'Frites', 'Yaourt aromatisé']"
          ],
          [
           "['SCOLAIRE', 'Gaspacho/croûton', 'Poisson surgelé', 'Sauce beurre blanc', 'Carottes 5/1', 'Cantal', 'Banane']"
          ],
          [
           "['Rillettes de thon', 'Hachis parmentier', 'Salade verte', 'Ile flottante']"
          ],
          [
           "['PA jeudi', 'Radis/beurre', 'Omelette', 'Ratatouille Bonduelle', 'Camembert', 'Cocktail de fruits au sirop']"
          ],
          [
           "['PA mardi', 'Choux blancs au surimi', 'Timbale de pâtes', 'et gruyère râpé', 'Fromage blanc/Fraises']"
          ],
          [
           "['Concombres', 'Poisson meunière', 'Epinards', 'Chanteneige', 'Tarte normande aux pommes']"
          ],
          [
           "['PA de jeudi', 'Melon', 'Pâtes à la bolognaise', 'et râpé', 'Crème chocolat bio']"
          ],
          [
           "['PA de mardi', 'Pâté bio+pâté de volaille', 'Poisson surgelé', 'Sauce aux baies roses', 'Palets brocolis/carottes', 'St Paulin', 'Banane']"
          ],
          [
           "['Salade douceur / demi-oeuf', 'Galettes végétales', 'sauce tomates', 'Riz basmati', 'Suisses aromatisés']"
          ],
          [
           "['Tarte au fromage', 'Rôti de boeuf', 'Sauce au poivre', 'Haricots verts', 'Kiwi bio']"
          ],
          [
           "['Pastèque', 'jambon blanc', 'Jambon de dinde', 'Salade de lentilles bio', 'Yaourt fermier bio']"
          ],
          [
           "['Betteraves cubes', 'Parmentier de poisson', 'Salade', 'Froamge Belle de Nantes', 'Fruit de saison']"
          ],
          [
           "[\"Clafoutis de légumes C'Pierre Clot\", 'Poulet fermier SDA', 'Ratatouille agro BONDUELLE', 'Chaussée aux moines', 'Fruit de saison (cerise)']"
          ],
          [
           "['Salade de blé bio (Blé bio, tomates, maïs)', 'Omelette', 'Courgettes jaunes et vertes fraîche', 'Belle de nantes', 'Fruits de saison']"
          ],
          [
           "['Batonnets de carottes', 'Sauce cocktail', 'Rôti de boeuf / ketchup', 'purée de pomme de terre', 'Fromage blanc / fraises']"
          ],
          [
           "['Salade au thon', 'Raviolis 5/1 (stock)', 'et râpé', 'Crème dessert chocolat']"
          ],
          [
           "['Pastèque', 'Jambon fumé', 'Lentilles bio', 'Yaourt aro']"
          ],
          [
           "['Crêpe au fromage', \"Sauté de veau à l'orange\", 'Carottes', 'Edam', 'Fruit de saison', 'Radis/beurre', 'Poisson Meunière', 'Brocolis', 'Gruyère', 'Tarte citron']"
          ],
          [
           "['Pizza', 'Poisson surgelé', 'Sauce beurre blanc', 'Purée aux 3 légumes verts', 'Fruit de saison']"
          ],
          [
           "['reprise scolaire', 'Radis/beurre', 'CCAS\\xa0: melon', 'Sauté de volaille Niçoise', 'pomme de terre Smile', 'Crème dessert vanille']"
          ],
          [
           "['Pastèque', 'rôti de boeuf au jus', 'haricots verts', 'Port Salut', 'Tarte normande aux pommes']"
          ],
          [
           "['Salade carnaval', 'CCAS\\xa0: oeuf mayonnaise', 'filet de poisson sauce normande', 'Palets brocolis/carottes', 'Camembert', 'Prunes Reine-Claude', 'tomate Antiboise', \"Canard à l'orange\", 'Gratin de p de terre', 'plateau de fromages', 'Fromage blanc']"
          ],
          [
           "['Gaspacho/croûtons', 'Confit de poulet', 'Purée de légumes verts', 'Edam', 'Raisin Chasselas']"
          ],
          [
           "['Salade / demi-oeuf', 'CCAS\\xa0: prévoir salade verte', 'tagliatelles', 'sauce carbonara au saumon', 'Yaourt mixé Fruix Danone']"
          ],
          [
           "['Melon', 'Sauté de veau\\xa0au curry / coco', 'Frites', 'Ile flottante']"
          ],
          [
           "['carottes rapées', 'omelette', 'Epinards à la creme', 'Fondu au chèvre', 'CCAS\\xa0: prévoir autre fromage', 'Eclair chocolat', 'céléri remoulade', 'poisson frais', 'sauce poisson', \"carbonata d'aubergines\", 'plateau de fromage', 'pêches chantilly']"
          ],
          [
           "['Pastèque', 'Haché de poulet /ketchup', 'Pommes noisettes', 'Yaourt aro', 'CCAS', 'Rillette de saumon', \"Sauté d'agneau\"]"
          ],
          [
           "['Choux rouges au gruyère', 'Chili de boeuf', 'riz', 'Crème choco bio']"
          ],
          [
           "['Tarte au fromage', 'Jambon fumé', 'Courgette à la tomate', 'Poire']"
          ],
          [
           "['Concombres vgte', 'Filet de lieu aux petits légumes', 'Choux fleurs gratin', 'St Paulin', 'Tarte grillée aux pommes', 'crevettes mayonnaise', 'Aiguillettes de canard', 'Céléri boule', 'plateau de fromages', 'semoule au lait']"
          ],
          [
           "['PA jeudi', 'Rillettes de thon', 'CCAS\\xa0: Filet de maquereau', 'Hachis Parmentier', 'Salade verte', 'Flan caramel']"
          ],
          [
           "['Crêpe au fromage', 'Nuggets de poisson', 'CCAS\\xa0: poisson frais', 'Epinards à la crème', 'Fromage Belle de Nantes bio', 'Raisin']"
          ],
          [
           "['MELODIE DES METS LOCAUX', 'PA lundi', 'Salade de Pommes de terre bio ARIA (PdT, tomates, concombres)', 'Poulet fermier SDA', 'Carottes bio cuite  ARIA', 'Yaourt fermier bio', 'Confiture BIO Muroise']"
          ],
          [
           "['Radis/beurre', 'salade verte + noix', 'Dhal de lentilles bio', 'CCAS\\xa0: poisson frais', 'riz Basmati', 'Maxi gervais à la fraise', 'Surimi sce ciboulette', 'Rable de lapin sauce moutarde', 'Gratin de courgettes', 'plateau de fromages', 'fruit de saison']"
          ],
          [
           "['Pamplemousse', 'rôti de boeuf', 'ketchup', 'CCAS\\xa0: sce Béarnaise agro', 'Poêlée de légumes Collet', 'Tomme des Pyrénées', 'Gâteau au yaourt']"
          ],
          [
           "['Pizza au fromage', 'Merguez boeuf mouton agro', 'Tajine de légumes SMR', 'Pomme bio']"
          ],
          [
           "['Tomates / surimi', 'timbale de porc', 'timbale de dinde', 'Fromage blanc / miel']"
          ],
          [
           "['oeuf dur mayonnaise', 'parmentier de poisson', 'salade verte', 'Crème dessert vanille', 'saumon fumé', 'Suprême de pintade au jus', 'lentilles cuisinées', 'plateau de fromages', 'Cocktail de fruits des iles']"
          ],
          [
           "['Betteraves aux dés de chèvre', 'Lasagnes', 'salade verte', 'Compote pomme-framboise']"
          ],
          [
           "['Concombres crème', 'Sauté de dinde aigre douce', 'Sauté de porc aigre douce', 'Riz', 'Crème dessert chocolat']"
          ],
          [
           "['Salade de maïs et tomates', 'filet de lieu', 'sauce beurre blanc', 'Putée 3 légumes', 'Chanteneige', 'CCAS\\xa0: autre fromage', 'Banane', 'Samedi 10/10/2015', 'Salade de pâtes', 'pot au feu de boeuf', 'légumes pot au feu', 'plateau de fromage', 'Fromage blanc coco']"
          ],
          [
           "[\"Clafoutis d'automne au butternut C pierre Clot\", 'Saucisses de Toulouse bio', 'Saucisses de volaille bio', 'marmelade de pommes ( agro)', 'camembert', 'Pomme']"
          ],
          [
           "['Salade aux noix', 'Filet de poisson meunière', 'CCAS\\xa0: conserve poisson Meunière', 'purée de potimarron Collet', 'Yaourt fermier bio / rhubarbe']"
          ],
          [
           "['Carottes râpées bio', 'omelette', 'CCAS\\xa0: poisson frais', 'flan de poireaux maison', 'gruyere', 'poire', 'Potage de légumes', 'Filet mignon de porc', 'frites', 'salade verte', 'plateau de fromage', 'Pruneaux au sirop']"
          ],
          [
           "['Pamplemousse', 'Hachis Parmentier', 'Salade de mâche', 'Yaourt mixé fruix']"
          ],
          [
           "['Radis/beurre', 'ccas\\xa0: crevettes mayonnaise', 'jambon fumé', 'Mogettes de Vendée', 'Liégeois choco']"
          ],
          [
           "['Potage potiron / croûton', 'Emincé de dinde', 'Brocolis', 'StPaulin', 'Banane']"
          ],
          [
           "['Carottes râpées bio', 'Petits poissons panés', 'CCAS\\xa0: poisson pané  autre grammage', 'Ratatouille agro', 'Tomme noire', 'Riz au lait maison', 'pâté de campagne / cornoichons', 'râble de lapin aux herbes', 'frites', 'tarte aux fruits']"
          ],
          [
           "['Tarte au fromage', 'Poulet confit', 'Petits pois maraîchers', 'Clémentines']"
          ],
          [
           "['Salade carnaval (Maïs, tomates, concombres)', 'Poisson beurre blanc', 'Purée de légumes verts', 'Gouda', 'Pomme bio']"
          ],
          [
           "['Choux blancs/mimolette', 'ccas\\xa0: potage de légumes', 'Sauté de veau chasseur', 'Pommes noisettes', 'Flan caramel']"
          ],
          [
           "['Mâche/demi-oeuf', 'Steak de soja+sauce tomate', 'Pâtes', 'Yaourt aro', 'pamplemousse', \"sauté d'agneau\", 'jardinière de légumes', 'plateau de fromage', 'flan patissier']"
          ],
          [
           "['Potage tomate/vermicelle', 'Sauté de dinde sauce aigre douce', 'Poêlée de légumes Collet', 'Tomme blanche', 'banane']"
          ],
          [
           "['CCAS:salade coleslaw', 'Concombres à la crème', 'Rôti de boeuf', 'ketchup', 'Haricots verts/haricots beurre  coupés', 'Chanteneige', 'Eclair chocolat']"
          ],
          [
           "['Pizza au fromage', 'Saucisse de Toulouse bio', 'Marmelade de pommes', 'Crème vanille']"
          ],
          [
           "['ccas\\xa0: poisson frais sce poivre', 'CCAS\\xa0: poireaux creme', 'Betteraves / dés de chèvre', 'Parmentier de poisson', 'Salade verte', 'Poire', 'saumon fumée / sce creme', 'hachis parmentier maison', 'salade verte', 'fromage blanc 1 kg']"
          ],
          [
           "['Carottes râpées bio', 'Lasagnes', 'Salade verte', 'Ile flottante']"
          ],
          [
           "['Radis/beurre', 'Rôti de dinde', 'Purée de pommes de terre', 'Yaourt brassé bio']"
          ],
          [
           "['Endives / surimi', 'Boeuf braisé', 'Gratin de choux fleurs', 'Belle de Nantes', 'Tarte au citron']"
          ],
          [
           "['Crêpe au fromage', 'Haché de colin Assiette Bleue', 'Ratatouille agro', 'Camembert', 'Clémentines']"
          ],
          [
           "['Salade de pâtes', 'Sauté de porc à la moutarde', 'Palets brocolis/carottes', 'Cantal', 'Pomme bio']"
          ],
          [
           "['Chou rouge râpé', 'Poisson à la niçoise', 'Pommes rissolées', 'Danette goûter/lait']"
          ],
          [
           "['Salade verte au thon', 'Blanquette de veau', 'Riz', 'Fromage blanc / miel']"
          ],
          [
           "['Potage légumes/croûtons', 'Omelette', 'Courgettes à la tomate', 'Chaussée aux moines', 'Banane']"
          ],
          [
           "['Mâche / demi-oeuf', 'Paëlla au poulet', 'et fruits de mer', 'Yaourt aro']"
          ],
          [
           "['Pamplemousse', 'Boulettes de boeuf sauce poivre', 'Pâtes', 'Flan choco']"
          ],
          [
           "['Taboulé', 'Rôti de porc', 'marmelade de pommes', 'Fromage bio', 'Clémentines', 'Fromage Blanc']"
          ],
          [
           "['Choux blanc / mimolette', 'Poisson beurre blanc', 'Carottes', 'Lait bio']"
          ],
          [
           "['Pizza', 'Haché de volaille', 'Épinards à la crème', 'Kiwi bio']"
          ],
          [
           "['Salade de betteraves', 'Poisson pané', 'Purée de légumes verts', 'Tomme Belle de Nantes', 'Edam', 'Ananas']"
          ],
          [
           "['Noël au Canada', 'Salade perles et saumon', 'Paupiette de poulet', 'sauce cranberries', 'Potatoes Wedg Skin', 'Pancake', \"Sirop d'érable\", 'Chantilly', \"Jus d'orange\"]"
          ],
          [
           "['REPAS POUR LA PLANETE', 'Concombres', 'Chili de légumes', 'Riz basmati', 'Yaourt bio']"
          ],
          [
           "['Oeufs durs mayo', 'Hachis parmentier', 'Salade de mâche', 'Crème dessert vanille']"
          ],
          [
           "['Pamplemousse', 'Jambon fumé', 'Lentilles bio', 'Gervais maxi fraise']"
          ],
          [
           "['Pâté bio', 'cornichons', 'Rôti de dinde', 'Ratatouille agro', 'Tomme noire', 'Clémentines']"
          ],
          [
           "['Carottes râpées bio', 'Haché de poisson', 'Epinards à la creme', 'Fondu au chèvre', 'Galette des rois avec chocolat']"
          ],
          [
           "['Potage légumes / croûtons', 'Sauté de porc à la moutarde', 'Poêlée de légumes Collet', 'Edam', 'Gouda', 'Banane']"
          ],
          [
           "['Pizza', 'Poisson meunière', 'brocolis à la crème', 'Poire']"
          ],
          [
           "['Chou rave râpé', 'Rôti de boeuf', 'Frites', 'Flan caramel']"
          ],
          [
           "['Salade au thon', 'Steak de soja sauce tomate', 'Riz basmati', 'Yaourt fermier bio']"
          ],
          [
           "['Endives/demi-oeuf', 'Haché de poulet', 'Petits pois', 'semoule au lait']"
          ],
          [
           "['Salade de lentilles bio (Lentilles bio,maïs, surimi)', 'Sauté de veau', 'Purée de légumes verts', 'Mimolette', 'Kiwi bio']"
          ],
          [
           "['Concombres à la vinaigrette', 'Timbale de pâtes', 'aux lardons et râpé', 'Ile flottante']"
          ],
          [
           "['Betteraves', 'Poisson beurre blanc', 'Potatoes roty  Mac Cain', 'Belle de Nantes', 'Pomme bio']"
          ],
          [
           "['Mâche au chèvre', \"Poulet d'Ancenis\", 'Purée de pommes de terre', 'Ananas chantilly']"
          ],
          [
           "['Carottes râpées bio', 'Sauté de boeuf BBC', 'Choux fleurs au gratin ( agro)', 'Chaussée aux moines', 'Eclair chocolat']"
          ],
          [
           "['Crêpe au fromage', 'Poisson pané', 'ratatouille agro', 'Edam', 'Clémentines']"
          ],
          [
           "['Tarte au fromage', 'Pilon de poulet confit', 'Petits pois', 'Orange']"
          ],
          [
           "['Choux rouges bio', 'Poisson aux petits légumes', 'Riz', 'Crêpe /confiture muroise bio', 'Lait bio']"
          ],
          [
           "['Concombres vgte', 'Lasagnes', 'Salade verte', 'Fromage blanc/abricots secs']"
          ],
          [
           "['Potage potiron', 'Tortilla', 'Courgettes à la tomate', 'Camembert', 'Banane']"
          ],
          [
           "['Potage aux légumes', 'Lasagnes', 'Salade de mâche', 'Flan caramel']"
          ],
          [
           "['Choux blancs bio à la mimolette', 'jambon fumée', 'jambon de dinde', 'sauce poivre', 'Galettes brocolis / carottes', 'Beignet chocolat']"
          ],
          [
           "['Nouvel an chinois', 'Nem', 'Canard sauce aigre douce', 'Riz basmati', 'Salade de fruits exotiques et Lychee au sirop']"
          ],
          [
           "['Taboulé', 'Nuggets de poisson', 'Epinards', 'Fromage Belle de Nantes bio', 'Pomme bio']"
          ],
          [
           "['Salade de lentilles bio (lentilles bio, maïs, gruyère)', 'Saucisse de Toulouse bio', 'Marmelade de pommes', 'Orange']"
          ],
          [
           "['Carottes râpées bio', 'Poisson en sauce marmite du Perray', 'Pommes de terre sautés (potatoes roty)', 'Liégeois chocolat']"
          ],
          [
           "['Salade verte aux noix', 'Sauté de veau bio\\r\\n des Pays de Loire', 'Pâtes bio', 'Yaourt bio']"
          ],
          [
           "['Roulé au fromage', 'Omelette', 'Confit Ratatouille/riz', 'Camembert', 'Kiwi bio']"
          ],
          [
           "['Endives au surimi et pommes', 'chili de boeuf Socopa BBC', 'riz basmati', 'Crème caramel']"
          ],
          [
           "['Choux rouges bio au chèvre', 'Rôti de porc', 'ketchup', 'Pommes noisettes', 'Yaourt mixé aux fruits']"
          ],
          [
           "['Salade maïs / betteraves', 'Paupiette de dinde', 'Poêlée rustique OFD', 'Tomme noire', 'Banane']"
          ],
          [
           "['Concombres', 'Poisson meunière', 'Flan de poireaux / carottes bio', 'Cantal', 'Tarte grillée aux pommes']"
          ],
          [
           "['Pizza', 'Pilons de poulet confit', 'Haricots verts/beurre', 'Edam', 'Ananas']"
          ],
          [
           "['Salade de riz californien', 'Cassolette de poisson', 'Gratinée de légumes', 'Crème de gruyère', 'Pomme bio']"
          ],
          [
           "['Chou rave bio', 'Sauté de boeuf', 'Pomme noisettes', 'Fromage blanc / abricot sec']"
          ],
          [
           "['Mâche / demi-oeuf', 'Galette de soja tomate/basilic', 'sauce tomate', 'Pâtes bio', 'Sojasun citron']"
          ],
          [
           "['Endives à la mimolette', 'filet de poulet', 'Ratatouille agro', 'Fondant au chocolat', 'Lait bio']"
          ],
          [
           "['Salade Sombrero 5/1', 'sauté de veau', 'Purée de légumes verts', 'Gruyère', 'Salade de fruits frais']"
          ],
          [
           "['Betteraves', 'Poisson beurre blanc', 'pommes parisienne ( skin on) (Mac Cain frais)', 'fromage Belle de Nantes', 'Kiwi bio']"
          ],
          [
           "['PPMS', 'Sandwich thon', 'Chips', 'Creme chocolat bio', 'Compote indiv']"
          ],
          [
           "['Tarte au fromage', 'Poisson meunière', 'Courgettes à la tomate', 'Pomme bio']"
          ],
          [
           "['PA jeudi avec volaille', 'Radis / beurre', 'Paëlla', 'Yaourt fermier  bio']"
          ],
          [
           "['Gaspacho', 'Rôti de boeuf au jus', 'Gratinée de légumes', 'Chaussée aux Moines', 'Banane']"
          ],
          [
           "['PA lundi avec porc', 'Carottes râpées bio', 'Sauté de porc BBC', 'SAUCE Dijonnaise', 'Purée de légumes verts', 'Beignet pomme', 'Lait bio']"
          ],
          [
           "['Salade carnaval', 'Poisson en sauce Nicoise', 'Po rissolées', 'Belle de Nantes', 'Compote Pomme-Abricot bio C&Alice']"
          ],
          [
           "['Salade verte au thon', 'Pâtes à la Bolognaise avec égrené BBC', 'et gruyère râpé', 'Yaourt aux fruits mixés']"
          ],
          [
           "['Choux blancs bio mimolette', 'Rôti de dinde', 'ketchup', 'Frites', 'Compote bio Manger bio']"
          ],
          [
           "['Pizza', 'Poisson meunière', 'Brocolis à la crème', 'Edam', 'Kiwi bio']"
          ],
          [
           "['Tarte au fromage', 'Jambon fumé', 'Poêlée de légumes Collet', 'Tomme noire', 'Salade de fruits frais']"
          ],
          [
           "['Macédoine mayonnaise', 'livraison le 29/04', 'Parmentier de poisson', 'Salade verte', 'Yaourt aromatisé']"
          ],
          [
           "['Rillettes de thon/citron', 'Lasagnes', 'Yaourt bio', 'Abricots secs']"
          ],
          [
           "['Melon', 'Rôti de porc', 'ketchup', 'Pommes noisettes', 'Ile flottante']"
          ],
          [
           "['Concombres vgte', 'Poisson au beurre blanc', 'Carottes bio', 'Eclair chocolat', 'Lait bio']"
          ],
          [
           "['Céleri bio rémoulade', 'poisson pané', 'sauce tomate', 'Riz basmati', 'Yaourt aux fruits mixés']"
          ],
          [
           "['Melon', 'Pilon de poulet', 'Ratatouille fraîche Collet', 'ST Nectaire', 'Tarte normande aux pommes']"
          ],
          [
           "['Roulé au fromage', 'Sauté de veau marengo', 'Poêlée rustique', 'Camembert', 'kiwi']"
          ],
          [
           "['Betteraves', 'Poisson sauce normande', 'Pommes vapeur bio', 'Fromage Belle de Nantes', 'Fraises au sucre']"
          ],
          [
           "['Oeufs durs mayo', 'Hachis Parmentier', 'Salade verte', 'Yaourt aromatisé']"
          ],
          [
           "['Choux rouges', 'Tagine de dinde', 'Semoule', 'Crème chocolat bio']"
          ],
          [
           "['Radis/beurre', 'Rôti de boeuf/ketchup', 'Petits pois maraîchers', 'Gouda', 'Tarte au citron']"
          ],
          [
           "['Salade Western', 'Poisson meunière FRAIS Cité marine', 'Epinards', 'Chanteneige', 'Fruit de saison']"
          ],
          [
           "['tarte au fromage', 'Sauté de porc BBC aux pruneaux', 'Marmelade de pommes', 'Banane']"
          ],
          [
           "['Rillettes de thon/citron salade', 'Tortilla', 'Ratatouille agro', 'Tomme blanche', 'Fruit de saison']"
          ],
          [
           "['Pastèque', 'Poisson au beurre blanc', 'Po rissolées', 'Crème vanille']"
          ],
          [
           "['Melon', \"Poulet d'Ancenis\", 'Pommes campagnardes (quartiers avec peau en frais)', 'Dessert végétal abricot goyave']"
          ],
          [
           "['Carottes râpées bio', 'Poisson + sauce thym et citron', 'Flan de courgettes bio', \"Le p'tit Cabrey\", 'tarte abricots']"
          ],
          [
           "['Pizza', 'Escalope de dinde cuite', 'Haricots verts/ haricots beurre', 'Fruit de saison']"
          ],
          [
           "['Gaspacho', 'Petits pané de poisson', 'Gratin de choux fleurs', 'Camembert', 'Banane']"
          ],
          [
           "['Choux rouges / demi-oeuf', 'Chili de légumes', 'Riz basmati', 'Petits suisses aro']"
          ],
          [
           "['Radis / beurre', 'Filet de poulet au jus', 'Gratinée de légumes', 'Tomme noire', 'Compote stock']"
          ],
          [
           "['Betteraves', 'Poisson  sauce Verdurette', 'Pommes sautées surgelées', 'Fromage blanc / fraises']"
          ],
          [
           "['Pastèque', 'Rôti de dinde froid/mayonnaise dosette', 'Chips', 'St Paulin', 'Abricots']"
          ],
          [
           "['Melon', 'Hachis Parmentier*', 'Salade verte', ' -', 'Île flottante']"
          ],
          [
           "['Tarte au fromage ', 'Filet de poisson meunière', 'Courgettes à la tomate', 'Prunes Reine-Claude']"
          ],
          [
           "['Pizza au fromage', 'Haché de poulet*', 'Petits pois', 'Camembert', 'Pomme bio°']"
          ],
          [
           "['Concombres', 'Saumon sauce normande', 'Pommes rissolées', 'Yaourt  fermier  bio°']"
          ],
          [
           "['Pastèque', 'Emincé de boeuf* thaï', 'Riz basmati', 'Liégeois chocolat']"
          ],
          [
           "['Salade de pâtes Napoli', 'Omelette bio', 'Purée de légumes verts', 'Fromage Belle de Nantes°', 'Poire']"
          ],
          [
           "['Melon', 'Boulettes de boeuf* en tajine', 'Semoule bio', 'Crème dessert vanille']"
          ],
          [
           "['Salade verte aux dés de chèvre ', 'Pilon de poulet confit', 'Lentilles bio', 'Yaourt aromatisé']"
          ],
          [
           "['Radis', 'Poisson pané', 'Gratin de choux fleurs', 'tarte pomme speculoos', 'Lait bio']"
          ],
          [
           "['Crêpe au fromage', 'Sauté de veau* à la basquaise', 'Poêlée de légumes (carottes, haricots verts, pdt, brocolis)', 'FROMAGE FONDU', 'Raisin']"
          ],
          [
           "['Salade carnaval (mais, tomates, concombres) ', 'Filet de poisson meunière', 'Epinards à la crème', 'Fromage Chanteneige', 'Poire']"
          ],
          [
           "['Carottes râpées bio', 'Saucisses de porc bio', 'Mogettes', 'Biscuit Petit Lu', 'Crème dessert chocolat bio°']"
          ],
          [
           "['Salade verte / demi-oeuf bio', 'Galette de soja tomate/basilic et sauce tomate', 'Ratatouille/blé bio', 'Yaourt aux fruits mixés']"
          ],
          [
           "['Demi-pamplemousse', 'Escalope de dinde', 'jus de veau menu', 'Haricots verts/haricots beurre', 'Fondant au chocolat', 'Lait bio']"
          ],
          [
           "['Gaspacho / croûtons', 'Rôti de boeuf* et moutarde', 'Gratinée de légumes (pdt, carottes, brocolis)', 'Fromage fondu au chèvre', 'Banane']"
          ],
          [
           "['Salade de tomates au surimi', 'Timbale de pâtes aux lardons ', 'Suisse aromatisé']"
          ],
          [
           "['Betteraves', 'Poisson', 'Pommes de terre sautées', 'Fromage bio', 'Pomme bio°']"
          ],
          [
           "['Concombres sauce crème', 'Lasagnes* napolitaines', 'Salade verte', 'Coulis de fruit ( menus)', 'Fromage blanc ']"
          ],
          [
           "['Choux blancs bio° à la mimolette', 'Sauté de canard sauce maraichère', 'Frites', 'Raisin']"
          ],
          [
           "['Radis', 'Rôti de dinde au jus', 'Galettes de légumes', 'Cantal', 'Tarte aux pommes']"
          ],
          [
           "['Taboulé', 'Poisson pané', 'Purée de légumes verts', 'Fromage Le Mouillotin', 'Poire']"
          ],
          [
           "['Houmous', 'Tortillas nature', 'Filet de poulet aux senteurs boisées', 'Poêlée de légumes', 'Fromage Belle de Nantes°', 'Clémentines']"
          ],
          [
           "['Demi-pamplemousse', 'Rôti de porc au jus°', 'Lentilles bio', 'Yaourt  fermier  bio°']"
          ],
          [
           "['Salade carnaval au soja', 'Filet de poisson meunière', 'Purée de courge \"maison\"', 'Gâteau aux légumineuses', 'Lait bio']"
          ],
          [
           "['Salade verte aux noix et chèvre', 'Sauce au curry menu', \"Carottes à l'indienne\", 'Galette de céréales et légumineuses', 'Pomme bio°']"
          ],
          [
           "['Roulé au fromage', 'Jambon fumé ', 'Petits pois', 'Edam', 'Poire']"
          ],
          [
           "['Choux rouge bio au thon', 'Tortis à la bolognaise* et gruyère râpé', 'Purée de pommes bio°']"
          ],
          [
           "['Salade verte aux dés de chèvre ', 'Raviolis de légumes ', 'Compote pomme  / abricot bio']"
          ],
          [
           "['Céleri rémoulade bio', 'Filet de poisson meunière', 'Courgettes à la tomate', 'Gouda', 'tarte pomme speculoos']"
          ],
          [
           "['Potage tomate/vermicelle', 'Haché de poulet*', 'sauce au poivre', 'Poêlée de légumes (carottes, haricots verts, pdt, brocolis)', 'Morbier', 'Banane']"
          ],
          [
           "['Salade de mâche au thon', 'Boulettes de boeuf sauce tomate', 'Frites', 'Crème dessert végétal au chocolat']"
          ],
          [
           "['Choux blancs bio° à la mimolette', 'Rôti de boeuf*', 'Purée aux quatres légumes verts', 'Gateau au lait 500 gr', 'Lait bio']"
          ],
          [
           "['Demi-pamplemousse', 'Sauté de porc bio aux pruneaux', 'Purée de pommes de terre', 'Yaourt fermier bio°']"
          ],
          [
           "['Betteraves aux dés de gruyère', 'Paëlla au poulet', 'Clémentines']"
          ],
          [
           "['Salade verte aux noix', 'Saute de veau', 'Galettes de légumes', 'Fromage Belle de Nantes°', 'Beignet au chocolat']"
          ],
          [
           "['Salade de pâtes Napoli', 'Filet de lieu au beurre blanc', 'Poêlée de légumes', 'Camembert', 'Pomme bio°']"
          ],
          [
           "['croûtons', 'Potage de légumes', 'Omelette bio', 'Ratatouille', 'Emmental', 'Banane']"
          ],
          [
           "['Salade de lentilles bio (lentilles bio, concombres, tomates)', 'Saucisses de porc bio', 'Marmelade de pomme', 'Fromage Chanteneige', 'Poire']"
          ],
          [
           "['Choux rouges au surimi', 'Sauté de boeuf* bourguignon', 'Pommes noisettes', 'Crème dessert caramel']"
          ],
          [
           "['Carottes râpées bio', 'Filet de lieu sauce niçoise', 'Purée de courge \"maison\"', 'Yaourt aromatisé', 'Biscuit petit palmier ']"
          ],
          [
           "['Radis', 'Chili con carne* ', ' -', 'Île flottante']"
          ],
          [
           "['Crêpe au fromage', \"Poulet fermier d'Ancenis\", 'Petits pois', 'Tomme noire', 'Poire']"
          ],
          [
           "['Salade carnaval (mais, tomates, concombres) ', 'Poisson pané', 'Epinards à la crème', 'Tarte aux pommes', 'Lait bio']"
          ],
          [
           "['Rosette bio°', 'Paupiette de volaille aux raisins', 'Poêlée de légumes', 'Fromage fondu au chèvre', 'Clémentines']"
          ],
          [
           "['Concombres', 'Rôti de boeuf*', 'Gratin dauphinois', 'Petits suisses aromatisés']"
          ],
          [
           "['Oeuf dur bio° / mayonnaise', \"Galette de soja à l'indienne\", 'Sauce au curry menu', 'Riz basmati', 'Yaourt fermier bio°']"
          ],
          [
           "['Betteraves', 'Hachis Parmentier*', 'Coulis de fruit ( menus)', 'Fromage blanc ']"
          ],
          [
           "['Pizza au fromage', 'Jambon fumé ', 'sauce', 'Haricots verts/haricots beurre', 'Camembert', 'Pomme bio°']"
          ],
          [
           "['Cake au chevre et tomates confites et son mesclun', 'Poisson (dorade) sauce Provençal', 'MELANGE DE TROIS RIZ', 'Nougat  de noel 2016', 'Tropézienne', 'Nectar multifruits en litre ']"
          ],
          [
           "[\"Sardines à l'huile\", 'Tortilla aux pommes de terre', 'Ratatouille \"maison\"', 'Fromage Belle de Nantes°', 'Poire']"
          ],
          [
           "['Salade coleslaw', 'Lasagnes* napolitaines', 'Yaourt fermier bio']"
          ],
          [
           "['Roulé au fromage', 'Emincé de volaille au curry', 'CAROTTES AU BEURRE', 'Fromage Belle de Nantes°', 'Litchi frais et clémentine']"
          ],
          [
           "['Salade de mâche et maïs', 'Poisson meunière', 'Epinards à la crème', 'Fromage Le Mouillotin', 'Galette des rois ']"
          ],
          [
           "['Rosette bio°', 'Haché de poulet*', 'Flan de potimarron', 'Edam', 'Pomme bio°']"
          ],
          [
           "['croûtons', 'Soupe de poisson', 'Poisson (cubes+saumon) sauce norvegienne', 'Gratinée de légumes (pdt, carottes, brocolis)', 'tarte pomme speculoos', 'Lait bio']"
          ],
          [
           "['Carottes râpées bio', 'Oeufs durs 1/2 par pers', 'Emincé de boeuf  Stogonoff', 'Pommes vapeur bio', 'Coulis de fruit ( menus)', 'Fromage blanc ']"
          ],
          [
           "['Pamplemousse', 'Escalope de dinde', 'jus de veau menu', 'Poêlée de légumes (carottes, haricots verts, pdt, brocolis)', 'Tomme noire', 'Eclair au chocolat']"
          ],
          [
           "['Guacamole  et tortillas', 'Sauce brÉsilienne ( menus)', 'Saucisse épicée façon Feidjoada', 'Riz basmati', 'Salade de fruits exotiques']"
          ],
          [
           "['Salade de pâtes Napoli', 'Rôti de boeuf*', 'Gratin de choux fleurs', 'Emmental', 'Poire']"
          ],
          [
           "['Macédoine de légumes', 'Galette de soja  tomate / basilic et sauce tomate', 'Pâtes bio et gruyère râpé', 'Mimolette', 'Kiwi bio°']"
          ],
          [
           "['Betteraves aux dés de gruyère', 'Hachis Parmentier*', 'Pomme bio°']"
          ],
          [
           "['Soupe miso et champignons émincés', 'Sauce aigre douce', 'Aiguillettes de colin façon tempura', 'Riz basmati', 'Briquette de lait']"
          ],
          [
           "['Panaché de choux bio râpés au gruyère', 'Emincé de boeuf* en goulasch', 'Poêlée de légumes']"
          ],
          [
           "['Taboulé', 'Tortilla aux pommes de terre', 'courgettes à la béchamel', 'Camembert', 'Orange']"
          ],
          [
           "['Pizza au fromage', 'Jambon fumé ', 'Purée de courge \"maison\"', 'Gouda', 'Clémentines']"
          ],
          [
           "['Oeuf dur bio° / mayonnaise', 'Tagliatelles sauce Marco Polo au saumon', 'Yaourt aux fruits mixés']"
          ],
          [
           "['Choux blancs bio° à la mimolette', 'Blanquette de veau*', 'Céréales gourmandes bio', 'Crêpe et confiture Muroise']"
          ],
          [
           "['croûtons', 'Potage carottes / croûtons', 'Omelette bio', 'Epinards à la crème', 'Crème de gruyère', 'Banane']"
          ],
          [
           "['Salade de maïs et betteraves', \"Poulet fermier d'Ancenis\", 'Petits pois', 'Fromage Chanteneige', 'Pomme bio°']"
          ],
          [
           "['menu depannage ']"
          ],
          [
           "['Salade de douceur au surimi', 'Tartiflette aux lardons', 'Yaourt fermier bio°° / Abricots secs']"
          ],
          [
           "['Carottes râpées bio', 'Poisson beurre citronné', 'Ratatouille', 'Fromage Belle de Nantes°', \"MUFFIN'S\"]"
          ],
          [
           "['Demi-pamplemousse', 'Lasagnes* napolitaines', 'Fromage blanc / Miel']"
          ],
          [
           "['Salade verte au surimi', 'Pilon de poulet confit', 'Pommes noisettes', 'Crème dessert vanille']"
          ],
          [
           "['Tarte au fromage ', 'Rôti de boeuf*', 'Haricots verts/haricots beurre', 'Saint-Paulin ', 'Banane']"
          ],
          [
           "['Salade composée (riz,mais,tomates)', 'Poisson meunière', 'Gratin de choux fleurs', 'Pomme bio°']"
          ],
          [
           "['Salade de pâtes Napoli', 'Jambon fumé ', 'Clafoutis poireaux et carottes ', 'Camembert', 'Clémentines']"
          ],
          [
           "['Choux rouges bio° à la mimolette', 'Sauté de boeuf* bourguignon', 'Céréales gourmandes bio', 'Crème dessert chocolat bio°']"
          ],
          [
           "['Roulé au fromage', 'Omelette bio', 'Brocolis', 'Fromage Belle de Nantes°', 'Kiwi bio°']"
          ],
          [
           "['Salade coleslaw', 'Hachis Parmentier*', 'Yaourt fermier bio°° / Abricots secs']"
          ],
          [
           "['Salade de mâche au thon', 'Saucisses de porc bio', 'Lentilles bio', 'Petits suisses aromatisés']"
          ],
          [
           "['Crêpe au fromage', \"Poulet fermier d'Ancenis\", 'Salsifis', 'Cantal', 'Orange']"
          ],
          [
           "['Carottes râpées bio', 'Poisson beurre citronné', 'Purée de légumes verts', 'Fromage Chanteneige', 'Eclair au chocolat']"
          ],
          [
           "['Salade de blé bio ( blé bio, mais, tomates )', 'Emincé de volaille au curry', 'Poêlée de légumes (carottes, haricots verts, pdt, brocolis)', 'Saint-Nectaire', 'Salade de fruits frais (ananas, pastèque, melon, pomme, ora)']"
          ],
          [
           "['Pizza au fromage', 'Poisson pané', 'Epinards à la crème', 'Camembert', 'Banane']"
          ],
          [
           "['Choux blancs bio° à la mimolette', 'Rôti de dinde au jus', 'Pommes rissolées', 'Flan au chocolat']"
          ],
          [
           "['Endives / demi oeuf bio°', 'Galette de soja  tomate / basilic et sauce tomate', 'Pâtes bio', 'Yaourt aux fruits mixés']"
          ],
          [
           "['Guacamole  et tortillas', 'Haché de poulet*', 'Petits pois', 'Gâteau marbré au chocolat', 'Lait bio']"
          ],
          [
           "['Salade verte au surimi', 'Sauté de porc bio aux pruneaux', 'Pommes vapeur bio', 'Crème dessert caramel']"
          ],
          [
           "['Mousse de foie bio', 'Rôti de boeuf*', 'Gratinée de légumes (pdt, carottes, brocolis)', 'Tomme blanche', 'Pomme bio°']"
          ],
          [
           "['Betteraves', 'Filet de lieu au beurre blanc', 'Riz basmati', 'Fromage Le Mouillotin', 'Kiwi bio°']"
          ],
          [
           "['Radis', 'sauce au poivre', 'Escalope de dinde', 'Gratin dauphinois', 'Yaourt  fermier  bio°']"
          ],
          [
           "['Concombres', 'Emincé de boeuf* thaï', 'Carottes', 'Fromage Belle de Nantes°', 'Tarte au citron']"
          ],
          [
           "['Taboulé', 'Poisson meunière', 'Courgettes à la tomate', 'Crème de gruyère', 'Banane']"
          ],
          [
           "['Tarte au fromage ', 'Haché de poulet*', 'Poêlée de légumes (carottes, haricots verts, pdt, brocolis)', 'Purée de pommes bio°', 'Ketchup']"
          ],
          [
           "['Salade de pâtes Napoli', 'Poisson pané', 'Purée de légumes verts', 'Tomme noire', 'Banane']"
          ],
          [
           "['Choux blanc rape et des de chevre', 'Sauté de veau* sauce aigre douce', 'Frites', 'Flan caramel']"
          ],
          [
           "['Salade douceur / demi-oeuf', 'Dhal de lentilles bio°', 'Riz basmati', 'Petit suisses aromatisés']"
          ],
          [
           "['Taboulé', 'Saucisses de porc bio', 'Marmelade de pommes', 'Fromage blanc / Coulis de fruits rouges']"
          ],
          [
           "['Rillettes de thon et citron', 'Rôti de boeuf* sauce au poivre', 'Gratin de choux fleurs', 'Edam', 'Compote de pommes / biscuit']"
          ],
          [
           "['Radis', 'Parmentier de poisson  ', 'Salade verte', 'Yaourt aux fruits mixés']"
          ],
          [
           "['Melon', 'Pâtes à la bolognaise° et gruyère râpé', 'Yaourt fermier bio°° / Abricots secs']"
          ],
          [
           "['Salade verte aux dés de chèvre ', 'Emincé de boeuf* thaï', 'Poêlée de légumes', 'Beignet aux pommes', 'Lait bio']"
          ],
          [
           "['Roulé au fromage', 'Omelette bio', 'Ratatouille', 'Camembert', 'Banane']"
          ],
          [
           "['Pizza au fromage', 'Sauté de porc BBC°', 'Petits pois', 'Crème de gruyère', 'Salade de fruits frais (ananas, pastèque, melon, pomme, ora)']"
          ],
          [
           "['Carottes râpées bio', 'Lasagnes* napolitaines', 'Biscuit petit palmier ', ' -']"
          ],
          [
           "[\"Burger à l'émincé de dinde\", 'Salade douceur (garniture) 500g', 'Frites', \"Fromage blanc et sirop d'érable\"]"
          ],
          [
           "['Melon', 'Jambon fumé ', 'Ratatouille', 'Crème de gruyère', 'Fondant au chocolat']"
          ],
          [
           "['Batonnets de concombres sauce crème', 'Boulettes de boeuf* en tajine', 'Semoule bio aux raisons et amandes', 'Crème dessert caramel']"
          ],
          [
           "['Salade de pâtes Napoli', 'Poisson meunière', 'Flan de courgettes bio°', 'Camembert', 'Salade de fruits frais (ananas, pastèque, melon, pomme, ora)']"
          ],
          [
           "['Gaspacho / croûtons', 'Escalope de dinde', 'Gratin de choux fleurs', 'Cantal', 'Banane']"
          ],
          [
           "['Concombres', 'Sauté de veau* sauce printanière', 'Pâtes semi-complètes bio', 'Yaourt aromatisé']"
          ],
          [
           "['Radis bio', 'Galette de soja tomate/basilic et sauce tomate', 'Lentilles bio', 'yaourt fermier bio° et fraises']"
          ],
          [
           "['Tarte au fromage ', 'Paupiette de volaille à la moutarde', 'Haricots verts/haricots beurre', 'Cocktail de fruits au sirop']"
          ],
          [
           "['Salade verte au surimi', 'Timbale de pâtes aux lardons ', 'Petits suisses aromatisés']"
          ],
          [
           "['Salade de tomates', 'Paëlla au poisson', 'Fromage bio', 'Nectarine']"
          ],
          [
           "['Salade verte aux dés de gruyère', 'Chili con carne* ', 'Yaourt aux fruits mixés']"
          ],
          [
           "['Radis', 'Rôti de boeuf*', 'Purée de légumes verts', 'Saint-Nectaire', 'Eclair au chocolat']"
          ],
          [
           "['Choux rouge bio au thon', \"Poulet fermier d'Ancenis\", 'Pommes rissolées', 'Île flottante', ' -']"
          ],
          [
           "['Roulé au fromage', 'Filet de lieu sauce verdurette', 'Carottes bio°', 'Mimolette', 'Abricots ']"
          ],
          [
           "['Gaspacho / croûtons', 'Saucisses de porc bio', 'Poêlée de légumes (carottes, haricots verts, pdt, brocolis)', 'Tomme blanche', 'Nectarine']"
          ],
          [
           "['Melon', 'Salade composée au mini farballes et thon (pâtes, thon maïs)', 'Fromage de chèvre frais', 'Macarons aux fruits']"
          ],
          [
           "['Salade douceur aux pignons de pin et féta', 'Saute de veau bio*° au citron', 'Purée de pommes de terre', 'Fraises à la chantilly']"
          ],
          [
           "['Crêpe tomate / mozzarella bio', 'Tortilla aux pommes de terre', 'Courgettes bio à la tomate', 'Fromage Belle de Nantes°', 'Fruit de saison']"
          ],
          [
           "['Melon', 'Boulettes de boeuf* en tajine', 'Céréales gourmandes bio', 'Flan au chocolat']"
          ],
          [
           "['Salade (p d t bio+tomates+mais)', 'Rôti de dinde', 'Epinards à la crème', 'Fromage fondu au chèvre', 'Fruit de saison']"
          ],
          [
           "['Oeufs durs 1/2 par pers', 'Concombres', 'Filet de lieu au beurre blanc', 'Poêlée de légumes', 'Saint-Paulin ', 'Tarte au citron']"
          ],
          [
           "['Coupelle de rillettes de thon', 'Rôti de porc', 'Salade carnaval (tomates, maïs, concombres)', 'Gouda', 'Madeleine', 'Compote de pommes / biscuit', 'Ketchup']"
          ],
          [
           "['Salade de riz (riz, maïs, carottes, poivrons)', 'Filet de poulet', 'Galettes de légumes', 'Fromage Le Mouillotin', 'Cerises']"
          ],
          [
           "['Salade de tomates', 'Sauté de boeuf* au gingembre', 'Pâtes semi-complètes bio', 'Fromage blanc et fraises']"
          ],
          [
           "['Melon', 'Sandwich au thon', 'Chips ', 'Fromage Chanteneige', 'Crème dessert lait et chocolat']"
          ],
          [
           "['Salade verte au maïs', 'Lasagnes* napolitaines', 'Compote pomme et framboise', 'Lait bio']"
          ],
          [
           "['Melon', 'Petits panés de volaille*', 'Purée de pommes de terre', 'Yaourt  fermier  bio°']"
          ],
          [
           "['Crêpe au fromage', 'Tortilla aux pommes de terre', 'Petits pois maraîcher', 'Camembert', 'Prunes Reine-Claude']"
          ],
          [
           "['Salade de tomates', 'Filet de poisson sauce safran', 'Gratin de choux fleurs', 'Edam', 'Tarte normande aux pommes']"
          ],
          [
           "['Tarte au fromage ', 'Sauté de dinde aux raisins', 'Marmelade de pommes', 'Raisin']"
          ],
          [
           "['menu depannage ']"
          ],
          [
           "['Pastèque', 'Rôti de boeuf*', 'Frites', 'Crème dessert caramel']"
          ],
          [
           "['Salade verte / demi-oeuf bio', 'Chili de légumes sans tofu', 'Yaourt au citron BBC°']"
          ],
          [
           "['Radis', 'Haché de poulet*', 'Petits pois', 'Gouda', 'Gateau cheesecake°']"
          ],
          [
           "['Salade de pâtes Napoli', 'Emincé de boeuf* thaï', 'Galettes de légumes', 'Fromage Chanteneige', 'Poire']"
          ],
          [
           "['menu depannage ']"
          ],
          [
           "['Melon', 'Parmentier de poisson  ', 'Salade verte', 'Petit suisses aromatisés']"
          ],
          [
           "['Dés de betteraves au chèvre', \"Poulet fermier d'Ancenis\", 'Lentilles bio', 'Raisin']"
          ],
          [
           "['Rillettes de thon et citron', 'Hachis Parmentier*', 'Salade verte', 'Île flottante', ' -']"
          ],
          [
           "['Concombres', 'Sauté de veau* ', 'Gratinée de légumes (pdt, carottes, brocolis)', 'Saint-Paulin ', 'Tropézienne']"
          ],
          [
           "['Gaspacho / croûtons', 'Poisson pané', 'Epinards à la crème', 'Fromage Belle de Nantes°', 'Banane']"
          ],
          [
           "['Pizza au fromage', 'Jambon fumé ', 'Haricots verts/haricots beurre', 'Mimolette', 'Pomme bio°']"
          ],
          [
           "['Demi-pamplemousse', 'Poisson au curry', 'Céréales gourmandes bio', 'Flan caramel']"
          ],
          [
           "['Salade verte aux dés de gruyère', 'Rôti de boeuf*', 'Frites', 'Yaourt aux fruits mixés']"
          ],
          [
           "['Carottes râpées bio', 'Omelette bio', 'Courgettes à la tomate', 'Fromage fondu au chèvre', 'Eclair au chocolat']"
          ],
          [
           "['Salade de mâche au thon', 'Pâtes à la bolognaise° et gruyère râpé', 'Yaourt fermier bio°']"
          ],
          [
           "['Crêpe au fromage', 'Rôti de porc', 'Carottes bio et marrons', 'Fromage Belle de Nantes°', 'Poire']"
          ],
          [
           "['Betteraves bio cubes (repartis)', 'Vinaigrette aux quatre huiles bio', 'Filet de lieu au beurre blanc', 'Poêlée de légumes', 'Fondant au chocolat', 'Lait bio']"
          ],
          [
           "['Roulé au fromage', 'Escalope de dinde', 'Petits pois', 'Camembert', 'Pomme bio°']"
          ],
          [
           "['Salade de blé bio ( blé bio, mais, tomates )', 'Raviolis de légumes ', 'Banane']"
          ],
          [
           "['Choux rouges bio° à la mimolette', 'Galette de soja tomate/basilic et sauce tomate', 'sauce tomate ', 'Pâtes semi-complètes bio', 'Petits suisses aromatisés']"
          ],
          [
           "['Tarte au fromage ', 'Pilon de poulet confit', 'Poêlée de légumes (carottes, haricots verts, pdt, brocolis)', 'ananas au sirop']"
          ],
          [
           "['Salade de mâche et maïs', 'Poisson meunière', 'Ratatouille', 'Yaourt  fermier  bio°']"
          ],
          [
           "['Choux rouges bio au gruyère', 'Saute de veau bio*', 'Frites', 'Crème dessert lait et chocolat']"
          ],
          [
           "['Rillettes de thon avec citrons et salade', 'Tortilla aux pommes de terre', 'Poêlée de légumes', 'Gouda', 'Pomme bio°']"
          ],
          [
           "['Salade verte au surimi', 'Lasagnes* napolitaines', 'Fromage blanc / Coulis de fruits rouges']"
          ],
          [
           "['Demi-pamplemousse', 'Jambon fumé ', 'Pommes rissolées', 'Crème dessert vanille']"
          ],
          [
           "['Salade carnaval (mais, tomates, concombres) ', 'Poisson pané', 'Brocolis', 'Fromage Belle de Nantes°', 'Tarte au citron']"
          ],
          [
           "['Pâté bio°', 'Escalope de dinde', 'Purée de potimarron bio°', 'Saint-Paulin ', 'Pomme bio°']"
          ],
          [
           "['Roulé au fromage', 'Poisson', 'Poêlée de légumes', 'Banane']"
          ],
          [
           "['Choux blancs bio° à la mimolette', 'Sauté de boeuf* bourguignon', 'Pommes noisettes', 'Creme dessert caramel bio']"
          ],
          [
           "['Salade de mâche au thon', 'Galette de soja tomate/basilic et sauce tomate', 'Haricots verts ', 'Yaourt aux fruits mixés', 'Ketchup']"
          ],
          [
           "['Betteraves aux dés de gruyère', 'Sauté de dinde au curry', 'Céréales gourmandes bio', 'Clémentines']"
          ],
          [
           "['Potage de légumes', 'Rôti de boeuf*', 'Petits pois', 'Mimolette', 'Banane']"
          ],
          [
           "['Choux rouges bio° à la mimolette', 'Petits panés de volaille*', 'Ratatouille', 'Tarte aux pommes', 'Lait bio']"
          ],
          [
           "['Oeufs durs à la mayonnaise', 'Parmentier de poisson  ', 'Salade verte', 'Flan au chocolat']"
          ],
          [
           "['Demi-pamplemousse', 'Rôti de dinde au jus', 'Mogettes', 'Petits suisses aromatisés']"
          ],
          [
           "['Mâche aux graines de tournesol bio', 'Lasagnes* napolitaines', ' -', 'Biscuit Petit Lu']"
          ],
          [
           "['Carottes râpées bio', 'Sauté de veau° marengo ', 'Gratin de choux fleurs', 'Fromage Chanteneige', 'Eclair au chocolat']"
          ],
          [
           "['Crêpe au fromage', 'Poisson meunière', 'Petits pois', 'Epinards à la crème', 'Fromage Belle de Nantes°', 'Pomme bio°']"
          ],
          [
           "['Potage au potiron', 'Saucisses de porc bio', 'Marmelade de pommes', 'Camembert', 'Banane']"
          ],
          [
           "['Salade coleslaw', 'Cube de poisson à la dieppoise', 'Pommes vapeur bio', 'Yaourt  fermier  bio°']"
          ],
          [
           "['Endives au thon', 'Emincé de boeuf* thaï', 'Riz', 'Petit suisses aromatisés']"
          ],
          [
           "['Crêpe tomate / mozzarella bio', 'Omelette bio', 'Haricots verts/haricots beurre', 'Edam', 'Poire']"
          ],
          [
           "['Carottes râpées bio', 'Raviolis de légumes ', 'Yaourt aromatisé']"
          ],
          [
           "['Mâche au chèvre', 'Rôti de porc', 'Ratatouille', 'Fromage blanc ', 'Biscuit Petit Lu']"
          ],
          [
           "['Salade océane', 'Aiguillettes de poulet°', 'Pommes de terre \"émoticône\"', ' -', \"MUFFIN'S\", 'Chocolat de noel', 'Jus de pommes']"
          ],
          [
           "['Salade de perles', 'Poisson meunière', 'Purée de légumes verts', 'Crème de gruyère', 'Pomme bio°']"
          ],
          [
           "['Betteraves', 'Lasagnes* napolitaines', 'Camembert', 'Salade de fruits frais (ananas, pastèque, melon, pomme, ora)']"
          ],
          [
           "['Choux rouges bio° / demi-oeuf ', 'Petits panés de volaille*', 'Purée de courge \"maison\"', 'Flan au chocolat']"
          ],
          [
           "['Salade verte aux noix', 'sauce au poivre', 'Rôti de boeuf*', 'Gratinée de légumes (pdt, carottes, brocolis)', ' -', 'Galette des rois ']"
          ],
          [
           "['Pizza au fromage', 'Poisson au curry', 'Epinards à la crème', 'Fromage Belle de Nantes°', 'Poire']"
          ],
          [
           "['Roulé au fromage', 'Jambon fumé', 'Petits pois', 'Gouda', 'Pomme bio°']"
          ],
          [
           "['Salade coleslaw', 'Parmentier de poisson  ', 'Salade verte', 'Yaourt aux fruits mixés']"
          ],
          [
           "['Carottes râpées bio', 'Blanquette de veau*', 'Riz', 'Petits suisses aromatisés']"
          ],
          [
           "['Taboulé', 'Omelette bio', 'Gratin de choux fleurs', 'Tomme noire', 'Clémentines']"
          ],
          [
           "['Demi-pamplemousse', 'Pâtes à la bolognaise° et gruyère râpé', 'Crème dessert caramel']"
          ],
          [
           "['Salade verte au thon', 'Tartiflette aux lardons', 'Yaourt  fermier  bio°']"
          ],
          [
           "['croûtons', 'Potage de légumes', 'Emincé de dinde', 'Poêlée de légumes (carottes, haricots verts, pdt, brocolis)', 'Edam', 'Banane']"
          ],
          [
           "['Choux rouges bio° à la mimolette', 'Filet de lieu sauce du Perray', 'Purée de légumes verts', 'Morbier', 'Eclair au chocolat']"
          ],
          [
           "['Tarte au fromage ', \"Poulet fermier d'Ancenis\", 'Petits pois', 'Cantal', 'Ananas']"
          ],
          [
           "['Salade de pâtes Napoli', 'Poisson pané', 'Purée de carottes et potiron', 'Camembert', 'Poire']"
          ],
          [
           "['Choux blancs bio° à la mimolette', 'Rôti de boeuf*', 'Pommes noisettes', 'Crème dessert vanille']"
          ],
          [
           "['Oeuf dur bio° / mayonnaise', 'Poisson', 'Semoule bio valencienne', 'Crêpe au sucre', 'Lait bio']"
          ],
          [
           "['Salade douceur au gruyère', 'Pilon de poulet confit', 'Haricots verts/haricots beurre', 'Fondant au chocolat']"
          ],
          [
           "['Dés de betteraves et maïs', 'Emincé de boeuf* thaï', 'Galettes de légumes', 'Yaourt au citron BBC°']"
          ],
          [
           "['Salade de douceur au surimi', 'Jambon fumé', 'Lentilles bio', 'Flan caramel']"
          ],
          [
           "['Crêpe au fromage', 'Haché de poulet*', 'Pommes noisettes', 'Fromage bio', 'Pomme bio°']"
          ],
          [
           "['Choux blancs bio° à la mimolette', 'Raviolis de légumes ', 'Salade verte', 'Tarte aux pommes']"
          ],
          [
           "['Nems aux légumes, avec sauce et salade verte', 'Sauce aigre douce', 'Aiguillettes de colin façon tempura', 'Riz  cantonais ', 'Salade de fruits au sirop']"
          ],
          [
           "['Potage tomate/vermicelle', 'Paëlla au poisson', 'Edam', 'Pomme bio°']"
          ],
          [
           "['Salade verte aux dés de chèvre ', 'Rôti de porc', 'Purée de potimarron bio°', 'Creme dessert chocolat']"
          ],
          [
           "['Bâtonnets de carottes bio° sauce crème', 'Saute de veau bio*° au citron', 'Frites', 'Yaourt  fermier  bio°']"
          ],
          [
           "['Salade de blé bio ( blé bio, mais, tomates )', 'Galette de soja tomate/basilic et sauce tomate', 'Courgettes à la tomate', 'Kiwi bio°']"
          ],
          [
           "['Betteraves', 'Petits panés de volaille*', 'Ratatouille', 'Madeleine', 'Yaourt  fermier  bio°']"
          ],
          [
           "['Salade de blé bio à la mimolette (blé bio, tomate, mimolette', 'Poisson pané', 'Purée de légumes verts', 'Compote de pommes / biscuit']"
          ],
          [
           "['Endives au thon', 'Timbale de pâtes aux lardons ', 'Crème dessert vanille']"
          ],
          [
           "['Choux rouges bio° à la mimolette', 'Filet de lieu au beurre blanc', 'Pomme de terre vapeur', 'Chèvre', 'Orange']"
          ],
          [
           "['Mäche au gruyère', 'Boulettes de boeuf* sauce barbecue', 'Semoule bio', 'Ananas']"
          ],
          [
           "['Carottes râpées bio', 'Pilon de poulet confit', 'Gratin dauphinois', 'Yaourt aromatisé']"
          ],
          [
           "['Tarte au fromage ', 'Lieu sauce au curry', 'Poêlée de légumes', 'Camembert', 'Kiwi bio°']"
          ],
          [
           "['Pizza au fromage', 'Jambon fumé', 'Petits pois', 'Edam', 'Pomme bio°']"
          ],
          [
           "['Oeufs durs à la mayonnaise', 'Parmentier de poisson  ', 'Salade verte', ' -', 'Biscuit']"
          ],
          [
           "['Choux blancs bio° à la mimolette', 'Blanquette de veau*', 'Riz', 'Petit suisses aromatisés']"
          ],
          [
           "['Taboulé', 'Tortilla aux pommes de terre', 'Courgettes à la tomate', 'Fromage Chanteneige', 'Salade de fruits frais (ananas, pastèque, melon, pomme, ora)']"
          ],
          [
           "['Salade verte aux graines de tournesol', 'Lasagnes* napolitaines', 'Crème dessert caramel']"
          ],
          [
           "['Tarte au fromage ', 'Rôti de dinde au jus', 'Marmelade de pommes', 'Saint-Paulin ', 'Banane']"
          ],
          [
           "['Gaspacho', 'Poisson filet meuniere (surgele + arrondi en frais)', 'Poêlée de légumes (carottes, haricots verts, pdt, brocolis)', 'Cantal', 'Eclair au chocolat']"
          ],
          [
           "['Salade de pâtes Napoli', 'Petits panés de volaille*', 'Haricots verts/haricots beurre', 'Camembert', 'Orange']"
          ],
          [
           "['Crêpe tomate / mozzarella bio', 'Filet de poisson aux petits légumes', 'Epinards à la crème', 'Gouda', 'Ananas']"
          ],
          [
           "['Concombres sauce crème', 'Rôti de boeuf*', 'Frites', 'Crème dessert caramel']"
          ],
          [
           "['Choux blancs bio° à la mimolette', 'Galette de soja  tomate / basilic et sauce tomate', 'Pâtes semi-complètes bio', 'Petits suisses aromatisés']"
          ],
          [
           "['Radis bio', \"Poulet fermier d'Ancenis\", 'Poêlée de légumes (carottes, haricots verts, pdt, brocolis)', 'Fondant au chocolat', 'Lait bio']"
          ],
          [
           "['Roulé au fromage', 'Emincé de boeuf* thaï', 'Galettes de légumes', 'Tomme blanche', 'Banane']"
          ],
          [
           "['Céleri rémoulade bio', 'Filet de lieu sauce niçoise', 'Pommes rissolées', \"Fleur d'Anjou bio°\", 'Kiwi bio°']"
          ],
          [
           "['Salade verte aux dés de gruyère', 'Rôti de porc au jus°', 'Pâtes bio et gruyère râpé', 'Salade de fruits frais (ananas, pastèque, melon, pomme, ora)']"
          ],
          [
           "['Carottes râpées bio', 'Hachis Parmentier*', 'Yaourt  fermier  bio°']"
          ],
          [
           "['Betteraves', 'Lasagnes* napolitaines', 'Fromage blanc / Coulis de fruits rouges']"
          ],
          [
           "['Radis bio', 'Poisson meunière', 'Gratinée de légumes (pdt, carottes, brocolis)', 'Gouda', 'Cocktail de fruits au sirop']"
          ],
          [
           "['Salade de perles', 'Sauté de dinde aux citrons', 'Petits pois', 'Tomme noire', 'Banane']"
          ],
          [
           "['Salade douceur / demi-oeuf', 'Chili de légumes sans tofu', 'Yaourt  fermier  bio°']"
          ],
          [
           "['Melon', 'Jambon fumé', 'Courgettes à la tomate', 'Crème de gruyère', 'Eclair au chocolat']"
          ],
          [
           "['Gaspacho', 'Dos de lieu au poivre rose', 'Pomme de terre vapeur', 'Camembert', 'Fraises']"
          ],
          [
           "['Betteraves aux dés de gruyère', 'Boulettes de boeuf* sauce aigre douce', 'Céréales gourmandes bio', 'Salade de fruits frais (ananas, pastèque, melon, pomme, ora)']"
          ],
          [
           "['Salade verte aux graines de tournesol', \"Burger à l'émincé de dinde\", 'Frites', 'Yaourt nature']"
          ],
          [
           "['Concombres sauce crème', 'Rôti de boeuf*', 'Purée de légumes verts', 'Fromage de chèvre frais', 'Riz au lait bio ']"
          ],
          [
           "['Taboulé', 'Poisson pané', 'Epinards à la crème', \"Fleur d'Anjou bio°\", 'Nectarine']"
          ],
          [
           "['Tarte au fromage ', 'Saucisses de porc bio', 'Poêlée de légumes (carottes, haricots verts, pdt, brocolis)', 'Edam', 'Compote pomme et framboise']"
          ],
          [
           "['Pastèque', 'Parmentier de poisson  ', 'Salade verte', 'Creme dessert chocolat']"
          ],
          [
           "['Salade de tomates', 'Sauté de veau bio* à la forestière', 'Pommes noisettes', 'Yaourt aromatisé']"
          ],
          [
           "['Salade lentilles bio° à la mimolette', 'Tortilla aux pommes de terre', \"Carottes à l'indienne\", 'Fraises à la chantilly']"
          ],
          [
           "['salade douceur au thon ', 'Lasagnes* napolitaines', 'Fromage blanc / miel']"
          ],
          [
           "['Gaspacho', 'Petits panés de volaille*', 'Jardinière de légumes', 'Emmental', 'Nectarine']"
          ],
          [
           "['Melon', 'Rôti de porc', 'Ratatouille', 'Tarte au citron', 'Lait bio']"
          ],
          [
           "['Concombres', 'Filet de lieu au beurre blanc', 'Riz', 'Flan caramel']"
          ],
          [
           "['Pâté bio°', \"Poulet fermier d'Ancenis\", 'Salade carnaval (tomates, maïs, concombres)', 'Fromage Le Mouillotin', 'Abricots ']"
          ],
          [
           "['Radis bio', 'Poisson meunière', 'Pommes rissolées', \"Fromage tome fleur d'anjou bio en 850 gr\", 'Cerises']"
          ],
          [
           "['Tomates en salade', 'Rôti de boeuf*', 'Purée de légumes verts', 'Fromage blanc et fraises']"
          ],
          [
           "['Tzatziki', 'Galette de soja  tomate / basilic et sauce tomate', 'Semoule', 'Yaourt  fermier  bio°']"
          ],
          [
           "['Pastèque', 'Haché de poulet*', 'Carottes à la crème', 'Beignet aux pommes', 'Lait bio']"
          ],
          [
           "['menu depannage ']"
          ],
          [
           "['Betteraves', 'Poisson pané', 'Purée de pommes de terre', 'Fromage bio', 'Nectarine']"
          ],
          [
           "['Oeufs durs à la mayonnaise', 'Raviolis de légumes ', 'Mimolette', 'Abricots ']"
          ],
          [
           "['Radis bio', 'Pilon de poulet confit', 'Ratatouille/blé bio', 'Tomme blanche', 'Compote de pommes / biscuit']"
          ],
          [
           "['Salade grecque (concombre+feta)', 'Jambon fumé ', 'Haricots verts/haricots beurre', 'Crème dessert lait et chocolat']"
          ],
          [
           "['Melon', 'Salade composée au mini farballes et thon (pâtes, thon maïs)', 'Fromage fondu au chèvre', \"Pancake  et sirop d'érable\"]"
          ],
          [
           "['Rillettes de thon et citron', 'Lasagnes* napolitaines', 'Abricots secs', 'Fromage blanc ']"
          ],
          [
           "['Gaspacho / croûtons', 'Poisson meunière', 'Gratin de choux fleurs', 'Saint-Nectaire', 'Banane']"
          ],
          [
           "['Roulé au fromage', 'Pilon de poulet confit', 'Poêlée de légumes (carottes, haricots verts, pdt, brocolis)', 'Gouda', 'Raisin']"
          ],
          [
           "['Salade verte / demi-oeuf', 'Galette de soja  tomate / basilic et sa sauce tomate', 'Riz et sauce tomate', 'Flan caramel', 'Ketchup']"
          ],
          [
           "['Pastèque', 'Viande de volaille Kebab', 'Ratatouille', 'Madeleine', 'Creme dessert chocolat']"
          ],
          [
           "['Salade douceur au surimi', 'Haché de poulet*', 'Pâtes', 'Petits suisses aromatisés']"
          ],
          [
           "['Roulé au fromage ', 'Boeuf* sauce aux champignons', 'Haricots verts', 'Fromage bio', 'Pomme bio°']"
          ],
          [
           "['Choux blancs bio° à la mimolette', 'Parmentier de poisson', 'Salade verte', 'Poire']"
          ],
          [
           "['Melon', 'Roti de boeuf*', 'Pâtes', 'Fromage blanc / Coulis de fruits rouges']"
          ],
          [
           "['Tomates cerises', 'Petits panés de volaille*', 'Petits-pois', 'Crème dessert vanille']"
          ],
          [
           "['Radis bio', 'Blanquette de veau*', 'Carottes bio°', 'Edam', 'Eclair au chocolat']"
          ],
          [
           "['Salade de riz (riz, maïs, carottes, poivrons)', 'Poisson meunière', 'Purée de légumes verts', 'Camembert', 'Prunes Reine-Claude']"
          ],
          [
           "['Pizza', 'Roti de dinde', 'Marmelade de pommes', 'Tomme noire', 'Raisin']"
          ],
          [
           "['Concombres', 'Hachis Parmentier*', 'Salade verte', ' -', 'Île flottante']"
          ],
          [
           "['Pastèque', 'Paëlla au poisson', 'Yaourt fermier bio °/ miel']"
          ],
          [
           "['Salade de pâtes Napoli', 'Tortilla aux pommes de terre', 'Ratatouille', 'Carré bio°', 'Pomme bio°']"
          ],
          [
           "['Salade coleslaw', 'Boulettes de boeuf sauce tomate', 'Semoule', 'Crème dessert caramel']"
          ],
          [
           "['Carottes râpées bio°', 'Saucisse knacks bio°', 'Pâtes', 'Yaourt aromatisé', 'Ketchup']"
          ],
          [
           "['Mousse de foie bio°', 'Roti de dinde', 'Petits-pois', 'Saint-Paulin ', 'Poire']"
          ],
          [
           "['Radis bio', 'Poisson sauce crème', 'Purée de légumes verts', 'Tomme blanche', 'Tarte au citron']"
          ],
          [
           "['Rillettes de thon et citron', 'Tarte végétale aux lentilles', 'Salade verte', 'Fromage blanc ']"
          ],
          [
           "['Roulé au fromage ', 'Pilon de poulet confit', 'Poêlée de légumes (carottes, haricots verts, pdt, brocolis)', 'Gouda', 'Raisin']"
          ],
          [
           "['Tzatziki', 'Galette de soja  tomate / basilic et sa sauce tomate', 'Riz et sauce tomate', 'Flan caramel', 'Ketchup']"
          ],
          [
           "['Demi-pamplemousse', 'Rôti de porc', 'Ratatouille', 'Madeleine', 'Creme dessert chocolat']"
          ],
          [
           "['Salade de pâtes Napoli', 'Boeuf* sauce aux champignons', 'Haricots verts', 'Fromage bio', 'Poire']"
          ],
          [
           "['Choux blancs bio° à la mimolette', 'Parmentier de poisson', 'Salade verte', 'Clémentines']"
          ],
          [
           "['Salade coleslaw', 'Boulettes de boeuf sauce tomate', 'Semoule', 'Crème dessert vanille']"
          ],
          [
           "['Demi-pamplemousse', 'Saucisse knacks bio°', 'Frites', 'Yaourt aromatisé', 'Ketchup']"
          ],
          [
           "['Mousse de foie bio°', 'Roti de dinde', 'Petits-pois', 'Saint-Paulin ', 'Pomme bio°']"
          ],
          [
           "['Carottes râpées bio°', 'Poisson sauce crème', 'Purée de légumes verts', \"Fleur d'Anjou bio°\", 'Tarte grillée aux abricots']"
          ],
          [
           "['croûtons', 'Potage de légumes', 'Poisson meunière', 'Carottes bio', 'Cantal', 'Banane']"
          ],
          [
           "['Roulé au fromage', 'Pilon de poulet confit', 'Poêlée de légumes (carottes, haricots verts, pdt, brocolis)', 'Gouda', 'Poire']"
          ],
          [
           "['Salade verte / demi-oeuf', 'Galette de soja  tomate / basilic et sa sauce tomate', 'Sauce bolognaise végétale', 'Riz et sauce tomate', 'Flan caramel']"
          ],
          [
           "['Demi-pamplemousse', 'Jambon fumé', 'Ratatouille', 'Biscuit petit palmier ', 'Creme dessert chocolat']"
          ],
          [
           "['Salade de mâche au surimi', 'Haché de poulet*', 'Pâtes', 'Petits suisses aromatisés', 'Ketchup']"
          ],
          [
           "['Salade (de lentille soleane', 'Boeuf* sauce aux champignons', 'Haricots verts', 'Fromage Le Mouillotin', 'Compote']"
          ],
          [
           "['Choux blancs bio° à la mimolette', 'Parmentier de poisson', 'Salade verte', 'Clémentines']"
          ],
          [
           "['Potage au potiron', 'Lasagnes végétales', 'Salade verte', 'Crème dessert chocolat bio°']"
          ],
          [
           "['Salade coleslaw', 'Petits panés de volaille*', 'Petits-pois', 'Fromage blanc / Coulis de fruits rouges']"
          ],
          [
           "['Celeri remoulade', 'Blanquette de veau*', 'Carottes rondelles bio', 'Edam', 'Crêpe au sucre']"
          ],
          [
           "['Salade de riz (riz, maïs, carottes, poivrons)', 'Poisson meunière', 'Purée de légumes verts', 'Camembert', 'Pomme bio°']"
          ],
          [
           "['Pizza', 'Rôti de porc', 'Marmelade de pommes', 'Tomme noire', 'Ananas']"
          ],
          [
           "['Salade de douceur au surimi', 'Hachis Parmentier*', ' -', 'Île flottante']"
          ],
          [
           "['Choux rouges bio°', 'Paëlla au poisson', 'Yaourt fermier° miel']"
          ],
          [
           "['Salade de pâtes Napoli', 'Tortilla aux pommes de terre', 'Ratatouille', 'Carré bio°', 'Poire']"
          ],
          [
           "['Salade coleslaw', 'Boulettes de boeuf sauce tomate', 'Semoule', 'Crème dessert lait et chocolat']"
          ],
          [
           "['Demi-pamplemousse', 'Saucisse knacks bio°', 'Frites', 'Yaourt aromatisé', 'Ketchup']"
          ],
          [
           "['Mousse de foie bio°', 'Roti de dinde', 'Petits-pois', 'Saint-Paulin ', 'Clémentines']"
          ],
          [
           "['Rillettes de thon et citron', 'Lasagnes* napolitaines', 'Fromage blanc à la confiture de Muroise']"
          ],
          [
           "['Potage tomate/vermicelle', 'Poisson meunière', 'Carottes bio', 'Morbier', 'Banane']"
          ],
          [
           "['Salade de mache et crevette, avec mayonnaise', 'pilon de Canard confit', 'Pommes de terre \"sourire\"', 'Cantal', 'Gateau craquant au chocolat', 'Chocolat de noel', 'Nectar multifruits en litre ']"
          ],
          [
           "['Choux rouge bio et demi oeuf', 'Galette de soja  tomate / basilic et sa sauce tomate', 'Sauce bolognaise végétale', 'Riz et sauce tomate', 'Yaourt aux fruits mixés']"
          ],
          [
           "['Salade de mâche au surimi', 'Hachis Parmentier*', 'Fromage blanc, mangue séchée bio']"
          ],
          [
           "['Choux rouges bio°', 'Poisson pané', 'Sauce bolognaise végétale', 'Riz et sauce tomate', 'Poire']"
          ],
          [
           "['Salade de pâtes Napoli', 'Omelette bio', 'Ratatouille', 'Crème dessert lait et chocolat']"
          ],
          [
           "['Demi-pamplemousse', 'Boulettes de boeuf sauce tomate', 'Semoule', 'Galette des rois ', 'Lait bio']"
          ],
          [
           "['Salade coleslaw', 'Tarte vegetale', 'Salade verte', ' -', 'Île flottante']"
          ],
          [
           "['Paté de volaille ', 'Roti de dinde', 'Marmelade de pommes', 'Emmental', 'Clémentines']"
          ],
          [
           "['Carottes râpées bio°', 'Poisson sauce crème', 'Purée de légumes verts', 'Carré bio°', 'Beignet au chocolat']"
          ],
          [
           "['Rillettes de thon et citron', 'Lasagnes* napolitaines', 'Salade verte', 'Yaourt fermier bio °/ miel']"
          ],
          [
           "['Roulé au fromage', 'Poisson meunière', 'Carottes bio', 'Fromage bio', 'Poire']"
          ],
          [
           "['croûtons', 'Potage de légumes', 'Pilon de poulet confit', 'Poêlée de légumes (carottes, haricots verts, pdt, brocolis)', 'Tomme blanche', 'Banane']"
          ],
          [
           "['Endives / demi oeuf bio°', 'Galette de soja  tomate / basilic et sa sauce tomate', 'Sauce bolognaise végétale', 'Riz et sauce tomate', 'Crème dessert vanille']"
          ],
          [
           "['Celeri remoulade', 'Jambon fumé', 'Petits-pois', 'Yaourt au citron BBC°', 'Biscuit Petit Lu']"
          ],
          [
           "['salade douceur au thon ', 'Haché de poulet*', 'Pâtes', 'Creme dessert chocolat', 'Ketchup']"
          ],
          [
           "['Salade de riz (riz, maïs, carottes, poivrons)', 'Boeuf* sauce aux champignons', 'Carottes rondelles bio', 'Fromage Chanteneige', 'Ananas']"
          ],
          [
           "['Choux blancs bio° à la mimolette', 'Mimolette', 'Parmentier de poisson', 'Salade verte', 'Pomme bio°']"
          ],
          [
           "['Potage au potiron', 'Tortilla aux pommes de terre', 'Salade verte', 'Yaourt aux fruits mixés']"
          ],
          [
           "['Salade de lentilles', 'Poisson meunière', 'Poêlée de légumes (carottes, haricots verts, pdt, brocolis)', 'Saint-Nectaire', 'Banane']"
          ],
          [
           "['Rillettes de thon et citron', 'Lasagnes* napolitaines', 'Salade verte', 'Yaourt  fermier  bio°']"
          ],
          [
           "['Roulé au fromage', 'Poisson meunière', 'Carottes rondelles bio', \"Fleur d'Anjou bio°\", 'Poire']"
          ],
          [
           "['croûtons', 'Potage de légumes', 'Pilon de poulet confit', 'Poêlée de légumes (carottes, haricots verts, pdt, brocolis)', 'Camembert', 'Banane']"
          ],
          [
           "['Endives / demi oeuf bio°', 'Galette de soja  tomate / basilic et sa sauce tomate', 'Sauce bolognaise végétale', 'Riz et sauce tomate', 'Crème dessert vanille']"
          ],
          [
           "['Celeri remoulade', 'Jambon fumé', 'Petits-pois', 'Madeleine', 'Lait bio']"
          ],
          [
           "['salade douceur au thon ', 'Paëlla au poulet', 'Île flottante', ' -']"
          ],
          [
           "['Salade de pâtes Napoli', 'Boeuf* sauce aux champignons', 'Haricots verts', 'Chèvre frais', 'Ananas']"
          ],
          [
           "['Choux blancs bio°', 'Mimolette', 'Parmentier de poisson', 'Salade verte', 'Creme dessert chocolat']"
          ],
          [
           "['Oeufs durs à la mayonnaise', 'Tarte végétale aux lentilles', 'Salade de mache', 'Yaourt au citron BBC°']"
          ],
          [
           "['Carottes râpées bio°', 'Petits panés de volaille*', 'Purée de légumes verts', 'Carré bio°', 'Eclair au chocolat']"
          ],
          [
           "['Radis bio', 'Blanquette de veau*', 'Pâtes', 'Yaourt aux fruits mixés']"
          ],
          [
           "['Salade de riz (riz, maïs, carottes, poivrons)', 'Poisson meunière', 'Gratin de choux fleurs', 'Edam', 'Pomme bio°']"
          ],
          [
           "['Pizza', 'Rôti de porc', 'Marmelade de pomme', 'Tomme noire', 'Orange']"
          ],
          [
           "['Choux rouges bio° à la mimolette', 'Mimolette', 'Poisson pané', 'Sauce bolognaise végétale', 'Riz et sauce tomate', 'Yaourt fermier bio °/ miel']"
          ],
          [
           "['Dés de betteraves', 'Tortilla aux pommes de terre', 'Ratatouille', 'Saint-Paulin ', 'Poire']"
          ],
          [
           "['Pamplemousse', 'Boulettes de boeuf sauce tomate', 'Semoule', 'Compote', 'Lait bio']"
          ],
          [
           "['Carottes râpées bio°', 'Omelette bio', 'Pommes de terre \"sourire\"', 'Yaourt aromatisé', 'Ketchup']"
          ],
          [
           "['Mousse de foie bio°', 'Roti de dinde', 'Petits-pois', 'Fromage Le Mouillotin', 'Salade de fruits frais (ananas, pastèque, melon, pomme, ora)']"
          ],
          [
           "['Salade verte aux noix', 'Poisson sauce crème', 'Purée de légumes verts', 'Tomme blanche', 'Tarte grillée aux abricots']"
          ],
          [
           "['Dés de betteraves', 'Lasagnes* napolitaines', 'Fromage blanc / Coulis de fruits rouges']"
          ],
          [
           "['Roulé au fromage ', 'Poisson meunière', 'Haricots verts', 'Gouda', 'Orange']"
          ],
          [
           "['Gaspacho / croûtons', 'Pilon de poulet confit', 'Epinards à la crème', 'Fromage Chanteneige', 'Banane']"
          ],
          [
           "['Salade douceur / demi-oeuf', 'Galette de soja  tomate / basilic et sa sauce tomate', 'Sauce bolognaise végétale', 'Riz', 'Yaourt aux fruits mixés']"
          ],
          [
           "['Dés de betteraves', 'Lasagnes* napolitaines', 'Yaourt fermier° miel']"
          ],
          [
           "['Choux blancs bio à la mimolette', 'Poisson pané', 'Purée de pommes de terre', 'Yaourt aromatisé']"
          ],
          [
           "['Roulé au fromage', 'Omelette bio', 'Courgettes à la tomate', 'Emmental', 'Kiwi bio°']"
          ],
          [
           "['Salade verte aux dés de gruyère', 'Hachis Parmentier*', ' -', 'Île flottante']"
          ],
          [
           "['Concombres sauce crème', 'Chili de légumes au tofu bio riz', 'Fromage blanc / miel']"
          ],
          [
           "['Pizza au fromage', 'Viande de volaille Kebab', 'Haricots verts/haricots beurre', 'Edam', 'Fraises à la chantilly']"
          ],
          [
           "['Radis bio', 'Poisson meunière', 'Epinards à la crème', 'Tomme noire', 'Tarte aux pommes']"
          ],
          [
           "['salade de lentilles aux des de gruyere ', 'Nuggets de dinde', 'Ratatouille', 'Salade de fruits frais (ananas, pastèque, melon, pomme, ora)']"
          ],
          [
           "['Crêpe au fromage', 'Marmite du Perray aux dés de saumon', 'Galettes de légumes', 'Morbier', 'Kiwi bio°']"
          ],
          [
           "['Salade verte / demi-oeuf bio', 'Galette de soja  tomate / basilic et sauce tomate', 'Riz / sarrasin', 'Tarte au citron']"
          ],
          [
           "['Tarte au fromage ', 'Pilon de poulet confit', 'Petits pois', 'Gouda', 'Fraises']"
          ],
          [
           "['Concombres', 'Omelette bio', 'Pâtes bio et gruyère râpé', 'Fromage blanc BBC°']"
          ],
          [
           "['Radis bio', 'Boulettes de boeuf sauce tomate', 'Carottes', 'Banane', 'Sauce chocolat', 'Lait bio']"
          ],
          [
           "['Dés de betteraves au chèvre', 'Parmentier de poisson  ', 'Salade verte', 'Ananas']"
          ],
          [
           "['Melon', 'Dhal de lentilles bio°', 'Céréales gourmandes bio', 'Yaourt fermier bio°']"
          ],
          [
           "['Salade verte aux graines de tournesol', \"Burger à l'émincé de dinde\", 'Frites', 'Yaourt aromatisé']"
          ],
          [
           "['Salade de tomates', 'Sauté de boeuf* au gingembre', 'Gratin de choux fleurs', 'Camembert', 'Eclair au chocolat']"
          ],
          [
           "['Salade de riz (riz, maïs, carottes, poivrons)', 'Filet de lieu au beurre blanc', 'Poêlée de légumes', 'Saint-Paulin ', 'Salade de fruits frais (ananas, pastèque, melon, pomme, ora)']"
          ],
          [
           "['Salade de pâtes Napoli', 'Rôti de porc au jus°', 'Purée de brocolis', 'Cantal', 'Fraises']"
          ],
          [
           "['Concombres', 'Blanquette de veau*', 'Gratin dauphinois', 'Flan caramel']"
          ],
          [
           "['Salade coleslaw', 'Lasagnes* napolitaines', 'Petits suisses aromatisés']"
          ],
          [
           "['Pastèque', 'Tortilla aux pommes de terre', 'Salade verte', 'Fromage Chanteneige', 'Crème dessert lait et chocolat']"
          ],
          [
           "['Crêpe au fromage', 'Sauté de dinde sauce forestière', 'Poêlée de légumes (carottes, haricots verts, pdt, brocolis)', 'Fromage bio', 'Fraises']"
          ],
          [
           "['Salade de tomates', 'Poisson pané', 'Epinards à la crème', 'Mimolette', 'Tarte au citron']"
          ],
          [
           "['Dés de betteraves au chèvre', 'Galette de soja  tomate / basilic et sauce tomate', 'Riz', 'Salade de fruits frais (ananas, pastèque, melon, pomme, ora)']"
          ],
          [
           "['Salade verte au surimi', 'Rôti de dinde au jus', 'Pommes noisettes', 'Yaourt fermier bio°']"
          ],
          [
           "['Tarte au fromage ', 'Poisson meunière', 'Courgettes à la tomate', 'Tomme blanche', 'Banane']"
          ],
          [
           "['Batonnets de concombres sauce crème', 'Lasagnes végétales', 'Salade verte', ' -', 'Île flottante']"
          ],
          [
           "['Melon', 'Filet de poulet', 'Ratatouille', 'Fondant au chocolat', 'Lait bio']"
          ],
          [
           "['Radis bio', 'Sauté de veau* sauce aigre douce', 'Galettes de légumes', 'Fromage blanc bbc avec sucre et fraises']"
          ],
          [
           "['Tomates (maison)', 'Marmite du Perray', 'Pommes rissolées', 'Cerises']"
          ],
          [
           "['Pastèque', 'Sauce bolognaise végétale', 'Pâtes semi-complètes bio', 'Gruyère râpé', 'Crème dessert caramel']"
          ],
          [
           "['Gaspacho', 'Pilon de poulet confit', 'Mogettes', 'Yaourt vanille BBC°']"
          ],
          [
           "['Rillette de thon individuel', 'Sauté de porc BBC°', 'Haricots verts/haricots beurre', 'Carré bio°', 'Tarte grillée aux abricots']"
          ],
          [
           "['Salade de blé bio, tomates et concombres', 'Poisson meunière', 'Brocolis', 'Camembert', 'Cerises']"
          ],
          [
           "['Pizza au fromage', 'Emincé de volaille sauce Normande', 'Poêlée de légumes (carottes, haricots verts, pdt, brocolis)', 'Saint-Paulin ', 'Compote de pommes / biscuit']"
          ],
          [
           "['Melon', 'Rôti de porc', 'Ratatouille/ ble bio  maison', 'Yaourt aux fruits mixés']"
          ],
          [
           "['Radis', 'Dhal de lentilles bio°', 'Riz basmati', 'Creme dessert chocolat']"
          ],
          [
           "['Burger de thon', 'Salade verte', 'Chips ', 'Yaourt nature sans sucre', 'Biscuit moëlleux bio']"
          ],
          [
           "['Melon', 'Lasagnes végétales', 'Salade verte', 'Yaourt vanille BBC°']"
          ],
          [
           "['Concombres', 'Pilon de poulet confit', 'Lentilles bio', 'Fromage carre frais pRESIDENT 17.5 gr ', 'Raisin']"
          ],
          [
           "['Tarte au fromage ', 'Rôti de boeuf*', 'Haricots verts/haricots beurre', 'Tomme noire', 'Prunes Reine-Claude']"
          ],
          [
           "['Choux rouges bio°', 'Poisson meunière', 'Epinards à la crème', 'Carré bio°', 'Eclair au chocolat']"
          ],
          [
           "['Salade de pâtes Napoli', 'Petits panés de volaille*', 'Poêlée de légumes (carottes, haricots verts, pdt, brocolis)', 'Cantal', 'Pomme bio°']"
          ],
          [
           "['Pastèque', 'Emincé de boeuf* thaï', 'Riz basmati', 'Fromage blanc bbc et miel']"
          ],
          [
           "['Gaspacho / croûtons', 'Tortilla aux pommes de terre', 'Salade verte', 'Fromage Chanteneige', 'Banane']"
          ],
          [
           "['Radis bio', 'Poisson', 'Pommes vapeur cube bio dÉs (rÉpartie)', 'Yaourt aromatisé']"
          ],
          [
           "['Melon', 'Hachis Parmentier*', 'Salade verte', ' -', 'Île flottante']"
          ],
          [
           "['Betteraves aux dés de gruyère', 'Falafels bio aux pois chiches et patate douce sauce tomate', 'sauce tomate ', 'Riz basmati', 'Raisin']"
          ],
          [
           "['Mâche aux graines de tournesol bio', \"Poulet fermier d'Ancenis\", 'Carottes bio°', 'Biscuit petit beurre', 'Crème dessert chocolat bio°']"
          ],
          [
           "['Concombres', 'Poisson pané', 'Ratatouille', 'Camembert', 'Tarte au citron']"
          ],
          [
           "['Pizza au fromage', 'Paupiette de volaille forestiere', 'Purée de courge \"maison\"', 'Cantal', 'Pomme bio°']"
          ],
          [
           "['Choux rouges bio°', 'Sauté de boeuf* fermier', 'Pommes rissolées', 'Flan caramel']"
          ],
          [
           "['Carottes râpées bio', 'Timbale de pätes bio au tofu fumé bio', 'Yaourt au citron BBC°']"
          ],
          [
           "['Radis bio', 'Viande de volaille Kebab', 'Haricots verts/haricots beurre', 'Gateau au fromage blanc BBC°']"
          ],
          [
           "['Concombres', 'Omelette bio', 'Ratatouille/ ble bio  maison', 'Yaourt fermier bio°']"
          ],
          [
           "['Crêpe tomate / mozzarella bio', 'Blanquette de veau bio°', 'Galettes de légumes', 'Tomme blanche', 'Raisin']"
          ],
          [
           "['Betteraves', 'Lieu sauce du Perray', 'Riz basmati', 'Emmental', 'Poire']"
          ],
          [
           "['Salade verte  + graine de tournesol', 'Dhal de lentilles bio°', 'Céréales gourmandes bio', 'Petit suisses aromatisés']"
          ],
          [
           "['Choux blancs bio à la mimolette', 'Haché de poulet*', 'Frites', 'Pomme bio°', 'Ketchup']"
          ],
          [
           "['Demi-pamplemousse', 'Emincé de boeuf* thaï', 'Poêlée de légumes', 'Tarte grillée aux abricots', 'Lait bio']"
          ],
          [
           "['Salade de pdt bio (tomates+concombres)', 'Poisson pané', 'Epinards à la crème', 'Tomme noire', 'Banane']"
          ],
          [
           "['Salade (lentilles bio+raisin+ carottes)', 'Saucisses de porc bio', 'Marmelade de pommes', 'Carré bio°', 'Poire']"
          ],
          [
           "['Radis bio', 'Hachis Parmentier*', 'Salade verte', 'Fromage blanc BBC°']"
          ],
          [
           "['Batonnets de concombres sauce crème', 'Omelette bio', 'Carottes bio°', 'Fondant au chocolat', 'Lait bio']"
          ],
          [
           "['Mâche au chèvre', 'Poisson meunière', 'Riz / sarrasin', 'Raisin']"
          ],
          [
           "['Betteraves', 'Omelette bio', 'Poêlée de légumes (carottes, haricots verts, pdt, brocolis)', 'Gâteau marbré au chocolat', 'Lait bio']"
          ],
          [
           "['Carottes râpées bio', 'Haché de poulet*', 'Frites', 'Yaourt fermier bio°', 'Ketchup']"
          ],
          [
           "['Salade de mâche et maïs', 'Rôti de boeuf*', 'Gratin de choux fleurs', 'Fromage Chanteneige', 'Banane']"
          ],
          [
           "['Salade douceur aux noix', 'Filet de lieu au beurre blanc', 'Riz basmati', \"Fleur d'Anjou bio°\", 'Poire']"
          ],
          [
           "['Demi-pamplemousse', 'Tarte végétale aux lentilles', 'Salade verte', 'Yaourt au citron BBC°']"
          ],
          [
           "['Endives aux raisins sauce crème', 'Emincé de boeuf* sauce moutarde', 'Galettes de légumes', 'Tomme noire', 'Gateau au fromage blanc BBC°']"
          ],
          [
           "['Salade de pomme de terre, avec tomates et poivrons', 'Poisson pané', 'Epinards à la crème', 'Gouda', 'Clémentines']"
          ],
          [
           "['Terrine de tomate et  basilic', 'Poisson meunière', 'Purée de courge \"maison\"', 'Cantal', 'Pomme bio°']"
          ],
          [
           "['Potage de légumes', 'Saute de veau', 'Poêlée de légumes', 'Saint-Paulin ', 'Banane']"
          ],
          [
           "['Choux rouge bio au thon', 'Timbale de pâtes aux lardons ', ' -', 'Île flottante']"
          ],
          [
           "['Carottes râpées bio', 'Tortilla aux pommes de terre', 'Salade verte', 'Creme dessert chocolat']"
          ],
          [
           "['Mâche aux graines de tournesol bio', 'Parmentier végétal aux lentilles', 'Fromage blanc BBC°']"
          ],
          [
           "['Choux blancs bio à la mimolette', 'Boulettes de boeuf* en tajine', 'Céréales gourmandes bio', 'Yaourt aromatisé']"
          ],
          [
           "['Pizza au fromage', \"Rôti de dinde jus d'épices\", 'Haricots verts/haricots beurre', 'Edam', 'Kiwi bio°']"
          ],
          [
           "['Céleri rémoulade bio', 'Lieu sauce du Perray', 'Carottes bio°', 'Carré bio°', 'Tarte aux pommes']"
          ],
          [
           "['Salade coleslaw', 'Raviolis de légumes ', 'Salade verte', 'Petits suisses aromatisés']"
          ],
          [
           "['Salade de perles', 'Sauté de dinde sauce forestière', 'Poireaux À la crème', 'Mimolette', 'Poire']"
          ],
          [
           "['Demi-pamplemousse', 'Omelette bio', 'Ratatouille', 'Fondant au chocolat', 'Lait bio']"
          ],
          [
           "['Choux rouges bio au gruyère', 'Sauté de porc BBC°', 'Gratinée de légumes (pdt, carottes, brocolis)', 'Flan caramel']"
          ],
          [
           "['Betteraves', 'Poisson', 'Pommes rissolées', 'Tomme blanche', 'Kiwi bio°']"
          ],
          [
           "['Salade verte / demi-oeuf bio', 'Falafels bio aux pois chiches et patate douce sauce tomate', 'Céréales gourmandes bio', 'Yaourt fermier bio°']"
          ],
          [
           "['Potage de légumes', 'Haché de poulet*', 'Purée de brocolis', 'Saint-Paulin ', 'Banane']"
          ]
         ],
         "hovertemplate": "UMAP_1=%{x}<br>UMAP_2=%{y}<br>UMAP_3=%{z}<br>hover_data_0=%{customdata[0]}<extra></extra>",
         "legendgroup": "",
         "marker": {
          "color": "#636efa",
          "symbol": "circle"
         },
         "mode": "markers",
         "name": "",
         "scene": "scene",
         "showlegend": false,
         "type": "scatter3d",
         "x": [
          5.634429454803467,
          6.15451192855835,
          6.079748153686523,
          6.099845886230469,
          5.657047271728516,
          7.7707366943359375,
          7.026029109954834,
          5.948622226715088,
          7.216919898986816,
          6.945916652679443,
          7.623899936676025,
          6.058132171630859,
          6.690369129180908,
          5.947134017944336,
          6.704339027404785,
          5.302948474884033,
          5.714159965515137,
          7.441371440887451,
          5.658225059509277,
          6.499670505523682,
          6.7908101081848145,
          6.281826019287109,
          7.853930950164795,
          8.487914085388184,
          5.319613456726074,
          6.434576511383057,
          7.104799270629883,
          6.409144401550293,
          5.97750997543335,
          7.89574670791626,
          5.108860969543457,
          7.102080821990967,
          5.889693260192871,
          7.480662822723389,
          4.7328410148620605,
          6.69738245010376,
          6.884942531585693,
          6.4087958335876465,
          7.350421905517578,
          8.118196487426758,
          5.235920429229736,
          6.93812370300293,
          6.948272228240967,
          6.341710567474365,
          7.241384506225586,
          6.389551639556885,
          6.3595290184021,
          8.159961700439453,
          7.0489420890808105,
          6.5777907371521,
          6.609810829162598,
          6.570815563201904,
          6.307766914367676,
          7.943829536437988,
          6.447990894317627,
          5.568999290466309,
          5.6029486656188965,
          8.586386680603027,
          7.2750749588012695,
          6.053429126739502,
          6.408836841583252,
          6.684772968292236,
          5.810466766357422,
          7.38906192779541,
          6.390468597412109,
          6.289645671844482,
          7.68790864944458,
          8.057283401489258,
          5.5998311042785645,
          6.198590278625488,
          6.801999092102051,
          5.49348783493042,
          6.3811798095703125,
          7.268009662628174,
          5.808341026306152,
          6.408497333526611,
          7.629732131958008,
          5.705572128295898,
          8.224324226379395,
          6.365904808044434,
          7.384371757507324,
          7.096529483795166,
          7.091221809387207,
          6.1413044929504395,
          6.321933746337891,
          5.363433361053467,
          6.506640911102295,
          6.005218505859375,
          7.252293109893799,
          7.304751396179199,
          7.476467132568359,
          6.4196271896362305,
          7.983449459075928,
          4.257477283477783,
          6.130025386810303,
          6.777788162231445,
          5.15303373336792,
          8.197855949401855,
          7.545651435852051,
          6.685082912445068,
          7.725044250488281,
          8.245049476623535,
          7.639092445373535,
          5.788778781890869,
          6.913883686065674,
          6.4918599128723145,
          6.595656871795654,
          7.538300514221191,
          8.135307312011719,
          8.119414329528809,
          5.715283393859863,
          5.483665943145752,
          5.208871841430664,
          6.92401123046875,
          6.395709991455078,
          6.103415489196777,
          7.798327922821045,
          7.405343055725098,
          7.033260822296143,
          7.436556816101074,
          6.770922660827637,
          5.922224044799805,
          6.607997417449951,
          6.1104583740234375,
          6.41603422164917,
          6.604052543640137,
          7.297986030578613,
          7.542596817016602,
          7.654448509216309,
          6.300741195678711,
          7.012835502624512,
          5.388251304626465,
          6.6436591148376465,
          6.204122066497803,
          7.379890441894531,
          7.274062156677246,
          7.132974147796631,
          7.195764064788818,
          7.258411407470703,
          6.7456374168396,
          6.63507080078125,
          7.778090000152588,
          5.515700340270996,
          8.655147552490234,
          7.6712565422058105,
          5.239994049072266,
          5.879603385925293,
          7.020853042602539,
          8.518444061279297,
          5.831716060638428,
          6.080172538757324,
          5.874566078186035,
          7.922087669372559,
          5.911444664001465,
          7.3715596199035645,
          8.055952072143555,
          6.721827030181885,
          5.788541793823242,
          6.958579063415527,
          6.197360038757324,
          6.756367206573486,
          6.72972297668457,
          6.907011985778809,
          8.129439353942871,
          6.689251899719238,
          6.4556403160095215,
          6.231383800506592,
          7.265871047973633,
          7.053871154785156,
          5.204216957092285,
          6.051809310913086,
          6.713102340698242,
          6.327953338623047,
          7.892018795013428,
          5.489555835723877,
          6.261764049530029,
          6.933430194854736,
          5.180718421936035,
          6.097663879394531,
          8.01487922668457,
          6.947631359100342,
          6.152401924133301,
          7.210106372833252,
          6.373128414154053,
          5.896688461303711,
          7.298920154571533,
          6.931808948516846,
          6.77034854888916,
          6.393834590911865,
          5.946674346923828,
          5.408538818359375,
          5.815302848815918,
          7.7170915603637695,
          8.091516494750977,
          6.0764923095703125,
          6.707439422607422,
          5.04703950881958,
          5.9410400390625,
          6.697766304016113,
          7.6944899559021,
          7.929910182952881,
          5.960729598999023,
          6.586230754852295,
          5.583533763885498,
          7.620273590087891,
          4.711219787597656,
          6.8871612548828125,
          7.059026718139648,
          7.647314548492432,
          5.729393005371094,
          5.861746311187744,
          8.255197525024414,
          6.987194538116455,
          7.397201061248779,
          7.575827121734619,
          6.258678913116455,
          6.474097728729248,
          6.611473083496094,
          7.965432167053223,
          6.476183891296387,
          7.077133655548096,
          6.765695571899414,
          6.182748794555664,
          6.7025322914123535,
          8.23359203338623,
          7.607625484466553,
          5.519935131072998,
          8.249377250671387,
          6.345818519592285,
          5.881113529205322,
          7.084183692932129,
          7.440615177154541,
          6.286450386047363,
          7.5022783279418945,
          7.267545700073242,
          6.387220859527588,
          6.8659563064575195,
          7.675706386566162,
          8.39620590209961,
          7.909143447875977,
          7.714476585388184,
          7.447566032409668,
          6.135121822357178,
          6.271750450134277,
          6.843254566192627,
          5.928577899932861,
          6.483449935913086,
          5.742635726928711,
          6.972752571105957,
          7.283456802368164,
          7.581855297088623,
          8.405041694641113,
          7.8957438468933105,
          7.279641151428223,
          6.798448085784912,
          5.387430191040039,
          5.8084025382995605,
          7.275500297546387,
          6.296258926391602,
          7.6565423011779785,
          6.518302917480469,
          6.739645004272461,
          8.699378967285156,
          5.218020439147949,
          6.288643836975098,
          7.7329020500183105,
          7.396815776824951,
          7.7200188636779785,
          6.139398097991943,
          4.690030574798584,
          5.814998149871826,
          6.118412971496582,
          8.320663452148438,
          7.307871341705322,
          7.302531719207764,
          8.198463439941406,
          6.5707621574401855,
          5.830972671508789,
          7.634418964385986,
          6.915797233581543,
          6.395989418029785,
          7.828777313232422,
          5.432297229766846,
          6.245228290557861,
          7.5538859367370605,
          8.232908248901367,
          5.622361660003662,
          5.349427223205566,
          5.813257217407227,
          7.966620445251465,
          7.315494060516357,
          5.998635292053223,
          5.405384540557861,
          7.23180627822876,
          7.109639644622803,
          5.534019470214844,
          7.026601791381836,
          7.3379034996032715,
          6.331274509429932,
          7.748771667480469,
          5.802870750427246,
          6.222250461578369,
          6.898204326629639,
          5.888853073120117,
          7.1387410163879395,
          8.184391021728516,
          6.570314407348633,
          5.1408257484436035,
          7.303497791290283,
          7.831246852874756,
          7.396033763885498,
          5.389122486114502,
          7.764865398406982,
          6.428640842437744,
          7.548975944519043,
          5.774203300476074,
          8.129055976867676,
          6.761465549468994,
          6.174321174621582,
          8.596240043640137,
          6.781418323516846,
          5.643618106842041,
          7.004048824310303,
          7.392448425292969,
          7.518102169036865,
          6.652041435241699,
          7.794724941253662,
          7.690449237823486,
          6.184239864349365,
          6.329983711242676,
          7.7869954109191895,
          5.557610988616943,
          6.060122013092041,
          5.808131217956543,
          8.203877449035645,
          6.505703449249268,
          4.06270694732666,
          7.213324546813965,
          7.473613739013672,
          6.725943565368652,
          6.945552825927734,
          7.885368824005127,
          7.354560852050781,
          7.045400619506836,
          7.6677117347717285,
          5.483293056488037,
          7.262267112731934,
          5.939767837524414,
          6.862283706665039,
          5.301664352416992,
          5.803020000457764,
          7.0041704177856445,
          6.985208511352539,
          7.474509239196777,
          5.815883159637451,
          8.236011505126953,
          6.293807029724121,
          6.601485729217529,
          6.651926040649414,
          6.728403568267822,
          6.723682403564453,
          6.837819576263428,
          6.052347183227539,
          7.062744617462158,
          7.875006675720215,
          6.585110664367676,
          6.352485656738281,
          6.269214630126953,
          6.106537342071533,
          6.310851573944092,
          6.438024997711182,
          7.286730766296387,
          6.945984363555908,
          7.497762203216553,
          7.680334568023682,
          7.349104881286621,
          5.5116729736328125,
          6.675464630126953,
          5.751504421234131,
          6.543670177459717,
          6.855831146240234,
          5.735645294189453,
          6.061778545379639,
          7.488057613372803,
          6.746572017669678,
          6.558310031890869,
          6.904026031494141,
          7.767609596252441,
          5.5062255859375,
          7.368106842041016,
          6.635354995727539,
          6.263545036315918,
          6.331945419311523,
          6.7548723220825195,
          7.036966323852539,
          6.660519123077393,
          6.997097492218018,
          7.728217124938965,
          6.511803150177002,
          6.693408489227295,
          7.261727333068848,
          6.709630012512207,
          5.83885383605957,
          6.8660783767700195,
          8.337949752807617,
          7.330942153930664,
          6.837083339691162,
          6.894522190093994,
          6.52578067779541,
          6.216928958892822,
          7.08549165725708,
          8.280153274536133,
          5.594455718994141,
          7.51489782333374,
          7.479377746582031,
          7.209155559539795,
          5.859833717346191,
          6.5036468505859375,
          6.316258907318115,
          7.329372882843018,
          8.578221321105957,
          6.012913703918457,
          7.647963047027588,
          6.680352687835693,
          8.26098346710205,
          7.483311176300049,
          5.901730537414551,
          7.349497318267822,
          6.580148696899414,
          5.991795063018799,
          7.073610782623291,
          6.8660502433776855,
          6.947453498840332,
          7.912712574005127,
          7.408249855041504,
          7.553978443145752,
          7.445789813995361,
          6.320532321929932,
          6.2512006759643555,
          6.232365131378174,
          5.896705627441406,
          6.393972873687744,
          6.095681667327881,
          6.1177144050598145,
          6.599910736083984,
          4.079387187957764,
          6.959864616394043,
          8.568647384643555,
          5.9545817375183105,
          6.430628776550293,
          4.763908863067627,
          8.230320930480957,
          5.061201095581055,
          7.596899032592773,
          4.100025177001953,
          6.758906364440918,
          4.0611252784729,
          7.240171432495117,
          5.98150110244751,
          6.846215724945068,
          7.571859836578369,
          5.87445592880249,
          6.302489280700684,
          6.706764221191406,
          6.092040538787842,
          7.482057094573975,
          6.95982027053833,
          7.7247724533081055,
          7.306130409240723,
          6.1083455085754395,
          7.492157936096191,
          8.236282348632812,
          7.886627674102783,
          6.264161586761475,
          8.361665725708008,
          8.181050300598145,
          8.399879455566406,
          5.964491844177246,
          5.796416282653809,
          6.940066814422607,
          6.061089992523193,
          7.470567226409912,
          7.997650146484375,
          5.684459686279297,
          8.037588119506836,
          7.366336822509766,
          5.8252997398376465,
          7.061963081359863,
          4.162947177886963,
          5.082614421844482,
          7.243393421173096,
          7.328512668609619,
          8.0264310836792,
          7.377415180206299,
          7.980353832244873,
          5.491783618927002,
          6.704154968261719,
          7.845653057098389,
          7.976112365722656,
          6.900592803955078,
          7.7747626304626465,
          7.08799409866333,
          4.024952411651611,
          8.22453784942627,
          7.310204029083252,
          5.932943820953369,
          5.477301120758057,
          6.5248565673828125,
          4.793720245361328,
          6.317363739013672,
          5.005755424499512,
          5.013009071350098,
          4.9564361572265625,
          6.449549674987793,
          6.90720796585083,
          6.99585485458374,
          5.768835544586182,
          5.389476776123047,
          5.219324111938477,
          7.12746524810791,
          4.877755165100098,
          7.309319972991943,
          5.8838210105896,
          8.008213996887207,
          5.812861919403076,
          5.997990608215332,
          6.637786388397217,
          4.7338480949401855,
          8.485508918762207,
          5.109294891357422,
          4.896118640899658,
          5.527688503265381,
          5.160538196563721,
          7.447104454040527,
          4.97389554977417,
          6.441720485687256,
          8.497282028198242,
          5.152191638946533,
          6.176174163818359,
          6.739007949829102,
          6.837464332580566,
          5.850757122039795,
          4.994040012359619,
          6.4424591064453125,
          7.601853847503662,
          6.5880866050720215,
          7.349825382232666,
          7.742795467376709,
          6.801292896270752,
          5.859168529510498,
          7.483443260192871,
          5.714009761810303,
          6.702275276184082,
          8.303750038146973,
          7.725466251373291,
          5.922614097595215,
          8.327585220336914,
          6.560176372528076,
          6.691777229309082,
          5.482156276702881,
          7.588768005371094,
          7.6146392822265625,
          6.775608062744141,
          7.441280841827393,
          5.8381452560424805,
          7.009575843811035,
          5.837158203125,
          6.151395320892334,
          8.66677474975586,
          7.356122970581055,
          8.281525611877441,
          5.733413219451904,
          6.9652605056762695,
          7.051544666290283,
          6.644450664520264,
          6.794839382171631,
          5.285552024841309,
          7.326676845550537,
          5.816132068634033,
          7.434518814086914,
          5.421357154846191,
          8.220988273620605,
          8.722829818725586,
          7.408674716949463,
          7.2161102294921875,
          7.037724494934082,
          7.062556743621826,
          6.646984100341797,
          7.9589924812316895,
          7.922605037689209,
          5.810899257659912,
          6.022127151489258,
          7.293511867523193,
          7.252230644226074,
          5.289494037628174,
          4.050111770629883,
          8.253945350646973,
          6.299740791320801,
          7.070898056030273,
          5.9499406814575195,
          6.310165882110596,
          8.085639953613281,
          8.098315238952637,
          7.155243873596191,
          7.324801921844482,
          5.873584270477295,
          7.236929416656494,
          5.338321208953857,
          5.384544849395752,
          6.475795269012451,
          7.713344573974609,
          6.402085781097412,
          6.307297229766846,
          7.158936977386475,
          8.211626052856445,
          5.475344657897949,
          6.333466053009033,
          7.150436878204346,
          6.310507297515869,
          8.336377143859863,
          5.126622200012207,
          8.172203063964844,
          7.103837966918945,
          7.212146759033203,
          5.807764530181885,
          6.853923320770264,
          6.711215019226074,
          7.081004619598389,
          8.19428539276123,
          6.698686599731445,
          4.894808292388916,
          6.300526142120361,
          6.168397903442383,
          7.247842788696289,
          6.075523376464844,
          7.719791412353516,
          6.070803642272949,
          6.12645149230957,
          7.199926376342773,
          6.97546911239624,
          5.915056228637695,
          7.371522903442383,
          5.8595170974731445,
          6.440098285675049,
          7.049783706665039,
          7.807261943817139,
          7.967009544372559,
          5.085819721221924,
          6.36134147644043,
          6.233729839324951,
          7.700339317321777,
          7.295958042144775,
          6.982614040374756,
          5.976664066314697,
          6.619058609008789,
          7.290768623352051,
          6.397287845611572,
          6.136139392852783,
          6.874305725097656,
          6.018423557281494,
          6.287191867828369,
          6.092304229736328,
          6.85240364074707,
          6.1144022941589355,
          6.687467575073242,
          7.656938076019287,
          7.614907741546631,
          8.544404983520508,
          5.92664909362793,
          7.221851348876953,
          4.9062180519104,
          6.578890323638916,
          8.215677261352539,
          6.780607223510742,
          5.812434196472168,
          6.4646830558776855,
          5.3567795753479,
          6.3463215827941895,
          5.341329097747803,
          7.560912132263184,
          4.858057498931885,
          6.870210647583008,
          5.981874465942383,
          6.229475021362305,
          7.456628322601318,
          7.557739734649658,
          6.244876384735107,
          5.715029239654541,
          5.655361175537109,
          6.929946422576904,
          6.2019853591918945,
          5.81597375869751,
          6.563175678253174,
          7.648831844329834,
          5.889124393463135,
          6.386707305908203,
          6.326725959777832,
          7.541621208190918,
          7.65873384475708,
          6.068036079406738,
          6.4938883781433105,
          7.69341516494751,
          5.057902812957764,
          6.084510803222656,
          5.399543285369873,
          6.353869915008545,
          7.5446038246154785,
          6.53782320022583,
          7.223489761352539,
          6.22592830657959,
          7.708454132080078,
          6.539803504943848,
          7.086287975311279,
          6.146890640258789,
          6.080800533294678,
          6.370058059692383,
          6.225671768188477,
          6.141671657562256,
          7.932540416717529,
          6.2170939445495605,
          7.000692367553711,
          6.663813591003418,
          7.479934215545654,
          7.587137699127197,
          6.21434211730957,
          8.332954406738281,
          5.4351887702941895,
          6.335097789764404,
          8.313274383544922,
          5.821166038513184,
          5.476629734039307,
          6.626089572906494,
          6.455869674682617,
          7.839364528656006,
          6.024678707122803,
          5.4532880783081055,
          4.623693466186523,
          7.365046977996826,
          6.063116073608398,
          5.743058204650879,
          6.917898178100586,
          7.852354526519775,
          6.500929355621338,
          5.857060432434082,
          7.772514343261719,
          6.482685565948486,
          5.58804178237915,
          5.450507640838623,
          7.474343299865723,
          6.770364284515381,
          7.303240776062012,
          6.011675834655762,
          6.106908321380615,
          6.771108627319336,
          6.091019153594971,
          5.972280979156494,
          7.361665725708008,
          6.670962810516357,
          5.808455944061279,
          5.76857328414917,
          5.8693647384643555,
          5.176497936248779,
          5.986135482788086,
          6.443360328674316,
          6.073643684387207,
          6.168079376220703,
          6.0737481117248535,
          5.689555644989014,
          6.880218505859375,
          6.242154121398926,
          5.817899227142334,
          6.067496299743652,
          6.085694313049316,
          7.298496246337891,
          4.888113021850586,
          5.429784297943115,
          7.893363952636719,
          6.279003143310547,
          7.695786476135254,
          5.609269142150879,
          7.191636085510254,
          6.451980113983154,
          7.866339206695557,
          7.482815265655518,
          7.903547763824463,
          8.720266342163086,
          6.660645008087158,
          6.818310737609863,
          5.703638553619385,
          5.485439777374268,
          6.786694049835205,
          4.9730401039123535,
          7.558211326599121,
          7.552887439727783,
          7.40915584564209,
          8.230751991271973,
          6.296144485473633,
          6.257317543029785,
          5.9945902824401855,
          5.850829601287842,
          6.0770792961120605,
          5.390615463256836,
          6.61965274810791,
          5.362751007080078,
          6.577641010284424,
          7.802083969116211,
          8.462361335754395,
          6.7658305168151855,
          5.895503520965576,
          6.567056655883789,
          7.429647922515869,
          7.164031505584717,
          7.5094313621521,
          6.325531959533691,
          5.18643856048584,
          6.105073928833008,
          5.341736316680908,
          6.026699066162109,
          7.8826212882995605,
          5.261250972747803,
          5.877212047576904,
          7.766635894775391,
          7.501397132873535,
          6.497140884399414,
          7.353779315948486,
          6.668156147003174,
          6.498371601104736,
          8.180010795593262,
          6.249851226806641,
          6.9349260330200195,
          5.936476707458496,
          6.695781707763672,
          7.629984378814697,
          6.137148380279541,
          6.46527099609375,
          5.528585433959961,
          7.943805694580078,
          6.600540637969971,
          7.140890598297119,
          6.6774210929870605,
          5.889930725097656,
          8.499220848083496,
          5.847856044769287,
          6.681082725524902,
          6.180685043334961,
          7.238062381744385,
          7.088951110839844,
          6.353329658508301,
          7.258204460144043,
          6.1068010330200195,
          6.109336853027344,
          4.973067760467529,
          6.3177595138549805,
          6.776993274688721,
          5.599402904510498,
          5.946091175079346,
          5.795372009277344,
          6.697795867919922,
          7.3499956130981445,
          5.9888014793396,
          7.338540554046631,
          5.796935081481934,
          6.29524564743042,
          5.039933681488037,
          7.131511211395264,
          8.078325271606445,
          6.363526821136475,
          7.3595290184021,
          6.024280548095703,
          5.676632881164551,
          6.706787586212158,
          5.612504482269287,
          7.517820835113525,
          7.806199550628662,
          6.50533390045166,
          7.819754123687744,
          6.26143217086792,
          5.001241683959961,
          5.585968017578125,
          7.707855701446533,
          6.9762654304504395,
          7.6232171058654785,
          4.567534923553467,
          5.622817516326904,
          5.925265789031982,
          6.082186698913574,
          6.047364711761475,
          8.261247634887695,
          6.107853412628174,
          7.6855902671813965,
          6.96651554107666,
          6.055715560913086,
          5.017372131347656,
          6.953073978424072,
          6.9323811531066895,
          5.622563362121582,
          6.5192389488220215,
          6.0290985107421875,
          6.154898643493652,
          6.577168941497803,
          5.767221927642822,
          5.770214557647705,
          6.281421184539795,
          6.074723720550537,
          5.8426384925842285,
          4.907145977020264,
          8.222668647766113,
          7.431854248046875,
          5.2902607917785645,
          7.29818868637085,
          7.643510818481445,
          7.62661075592041,
          5.2118239402771,
          6.923150062561035,
          5.767889976501465,
          6.630876064300537,
          5.609765529632568,
          6.577477931976318,
          5.246708393096924,
          6.6304779052734375,
          7.549782752990723,
          7.260005474090576,
          7.567676544189453,
          7.027029514312744,
          5.544976711273193,
          7.422891139984131,
          6.194988250732422,
          5.359835624694824,
          6.490595817565918,
          6.37662410736084,
          5.041574001312256,
          5.998246192932129,
          6.184748649597168,
          5.842628002166748,
          4.917741775512695,
          6.4623284339904785,
          7.942516326904297,
          5.341808319091797,
          6.635401248931885,
          7.626856803894043,
          5.012198448181152,
          8.319483757019043,
          5.188966274261475,
          5.6568803787231445,
          5.755206108093262,
          6.495035648345947,
          7.357609272003174,
          7.983727931976318,
          5.3599853515625,
          6.257813453674316,
          7.274328708648682,
          5.019337177276611,
          8.022500038146973,
          7.268467903137207,
          5.611569881439209,
          7.418970584869385,
          6.211931228637695,
          5.513325214385986,
          6.656505107879639,
          5.653460502624512,
          7.383867263793945,
          5.056007385253906,
          7.418814182281494,
          7.391032695770264,
          5.641355037689209,
          7.687373161315918,
          6.1973066329956055,
          5.719084739685059,
          6.491239547729492,
          6.7762861251831055,
          7.261706352233887,
          5.762015342712402,
          6.191880702972412,
          5.8299407958984375,
          6.458343505859375,
          7.647374629974365,
          7.8562493324279785,
          7.325427532196045,
          5.8087944984436035,
          6.223161220550537,
          5.009182929992676,
          6.926563262939453,
          6.9537353515625,
          5.583140850067139,
          4.966270446777344,
          7.4565324783325195,
          7.051126956939697,
          4.967537879943848,
          6.938873291015625,
          5.921733379364014,
          8.008549690246582,
          5.708657741546631,
          7.096775054931641,
          5.563666820526123,
          6.4238104820251465,
          7.371125221252441,
          7.800419330596924,
          6.32211971282959,
          7.019177436828613,
          6.658202648162842,
          5.898326396942139,
          5.900149822235107,
          7.864825248718262,
          5.317174434661865,
          4.899858474731445,
          5.780927658081055,
          7.1224846839904785,
          6.410127639770508,
          5.6144256591796875,
          6.762505531311035,
          7.184506893157959,
          5.61045503616333,
          7.542728424072266,
          5.363077163696289,
          6.541644096374512,
          7.45875883102417,
          6.961551189422607,
          7.194534778594971,
          8.647665977478027,
          6.073173522949219,
          7.523721218109131,
          6.39657735824585,
          6.425177097320557,
          6.792507648468018,
          4.343999862670898,
          5.406652450561523,
          7.215367794036865,
          5.831540584564209,
          6.117771625518799,
          6.852991580963135,
          7.5156145095825195,
          4.804928779602051,
          5.59404993057251,
          7.272237777709961,
          8.436450004577637,
          5.997350692749023,
          6.156242370605469,
          7.368134021759033,
          6.9708967208862305,
          7.133996963500977,
          6.603391170501709,
          7.567259311676025,
          6.543548107147217,
          6.245370388031006,
          6.318554878234863,
          8.630352973937988,
          8.738730430603027,
          6.280564308166504,
          7.204266548156738,
          6.253554821014404,
          7.852445125579834,
          6.352740287780762,
          5.7727274894714355,
          7.1653876304626465,
          6.807059288024902,
          6.745102882385254,
          6.1581010818481445,
          7.730113506317139,
          7.798675060272217,
          6.411753177642822,
          7.099259376525879,
          6.910614490509033,
          6.416839599609375,
          6.03161096572876,
          7.338795185089111,
          5.282654285430908,
          6.2432451248168945,
          7.71921443939209,
          7.058783054351807,
          7.7447662353515625,
          6.33025598526001,
          5.870180606842041
         ],
         "y": [
          11.799291610717773,
          13.356949806213379,
          11.031664848327637,
          12.853299140930176,
          12.914073944091797,
          12.99455738067627,
          11.360820770263672,
          9.282069206237793,
          12.947190284729004,
          13.658638954162598,
          12.395223617553711,
          9.922306060791016,
          13.552067756652832,
          12.240550994873047,
          12.51671314239502,
          12.674429893493652,
          12.808297157287598,
          12.981501579284668,
          11.745626449584961,
          10.601862907409668,
          13.55206298828125,
          12.288215637207031,
          11.813405990600586,
          12.069413185119629,
          11.448210716247559,
          12.030355453491211,
          12.370736122131348,
          10.66748332977295,
          12.27354621887207,
          12.772607803344727,
          12.92273235321045,
          12.53127670288086,
          13.366540908813477,
          12.499228477478027,
          12.436060905456543,
          11.893987655639648,
          13.935242652893066,
          10.365898132324219,
          11.923784255981445,
          11.758523941040039,
          13.041031837463379,
          13.288505554199219,
          12.163890838623047,
          10.209773063659668,
          11.302907943725586,
          11.150774955749512,
          13.62203598022461,
          12.951326370239258,
          12.210028648376465,
          13.98276424407959,
          10.626664161682129,
          13.737845420837402,
          11.881092071533203,
          11.928962707519531,
          11.160091400146484,
          10.822844505310059,
          13.238262176513672,
          12.272074699401855,
          12.87802791595459,
          11.879758834838867,
          13.038506507873535,
          11.257567405700684,
          9.051244735717773,
          11.897409439086914,
          10.309062004089355,
          10.59233283996582,
          12.205236434936523,
          11.853092193603516,
          10.604790687561035,
          12.840354919433594,
          11.09465503692627,
          10.624855041503906,
          11.17073917388916,
          12.715085983276367,
          9.031062126159668,
          12.256583213806152,
          11.397197723388672,
          12.984557151794434,
          12.776890754699707,
          12.880691528320312,
          13.395182609558105,
          13.166204452514648,
          10.88620376586914,
          13.373372077941895,
          11.938031196594238,
          13.127060890197754,
          11.041337966918945,
          9.680855751037598,
          11.557819366455078,
          12.75147533416748,
          13.19450569152832,
          12.119791030883789,
          11.908014297485352,
          12.091981887817383,
          13.388002395629883,
          13.061483383178711,
          12.908583641052246,
          13.580341339111328,
          11.861552238464355,
          11.68002986907959,
          12.297239303588867,
          11.594107627868652,
          12.411225318908691,
          10.366578102111816,
          12.503384590148926,
          10.547727584838867,
          12.7463960647583,
          12.365348815917969,
          12.392046928405762,
          13.519912719726562,
          13.364546775817871,
          10.680045127868652,
          12.796874046325684,
          13.49926471710205,
          11.06924819946289,
          12.017374992370605,
          12.527824401855469,
          12.138047218322754,
          12.9409761428833,
          11.370321273803711,
          12.044112205505371,
          9.570344924926758,
          12.54410171508789,
          10.595632553100586,
          11.508145332336426,
          10.675898551940918,
          12.342674255371094,
          12.906440734863281,
          11.808465003967285,
          12.201863288879395,
          13.612337112426758,
          12.553072929382324,
          10.59933853149414,
          12.989326477050781,
          12.414873123168945,
          14.051259994506836,
          11.372515678405762,
          13.617708206176758,
          13.232793807983398,
          11.568267822265625,
          12.818756103515625,
          11.720776557922363,
          10.745746612548828,
          12.09346866607666,
          12.53964900970459,
          13.040616989135742,
          12.889108657836914,
          12.016541481018066,
          12.451349258422852,
          9.044163703918457,
          12.00255012512207,
          12.185839653015137,
          12.102568626403809,
          13.209770202636719,
          12.435519218444824,
          12.459750175476074,
          10.63411808013916,
          11.773900032043457,
          13.344862937927246,
          10.528903007507324,
          13.159490585327148,
          10.138426780700684,
          11.91551685333252,
          12.20289134979248,
          12.177912712097168,
          11.766053199768066,
          12.968257904052734,
          13.040128707885742,
          12.347946166992188,
          13.045784950256348,
          9.527405738830566,
          11.699004173278809,
          10.17273235321045,
          11.758516311645508,
          10.579341888427734,
          13.673258781433105,
          10.571109771728516,
          12.864226341247559,
          13.534409523010254,
          12.433478355407715,
          13.076457977294922,
          11.811053276062012,
          12.302374839782715,
          13.272603988647461,
          10.658468246459961,
          11.452889442443848,
          12.639521598815918,
          13.63558578491211,
          11.57487964630127,
          11.87016773223877,
          13.084051132202148,
          9.062936782836914,
          11.974976539611816,
          11.818826675415039,
          13.535024642944336,
          12.165680885314941,
          12.30312728881836,
          11.637078285217285,
          12.987196922302246,
          12.682642936706543,
          11.719106674194336,
          12.073203086853027,
          13.604588508605957,
          11.830235481262207,
          11.43729305267334,
          12.549824714660645,
          13.362889289855957,
          11.461435317993164,
          13.543244361877441,
          11.006932258605957,
          9.342848777770996,
          12.694197654724121,
          11.221324920654297,
          12.899136543273926,
          11.352620124816895,
          11.764571189880371,
          12.274192810058594,
          10.051814079284668,
          12.25735855102539,
          11.672578811645508,
          13.765196800231934,
          13.46747875213623,
          9.86252212524414,
          12.67339038848877,
          12.35742473602295,
          13.236551284790039,
          11.69603443145752,
          11.639512062072754,
          12.6355619430542,
          9.545527458190918,
          11.536604881286621,
          13.197486877441406,
          13.012507438659668,
          11.878783226013184,
          11.49905776977539,
          13.99297046661377,
          12.740488052368164,
          12.409505844116211,
          12.079448699951172,
          13.237371444702148,
          12.275026321411133,
          11.575898170471191,
          12.85305404663086,
          13.919516563415527,
          10.210726737976074,
          11.625311851501465,
          11.940732955932617,
          12.723515510559082,
          12.08645248413086,
          13.585143089294434,
          12.144679069519043,
          11.832096099853516,
          13.067994117736816,
          12.814605712890625,
          10.063231468200684,
          12.602282524108887,
          9.268758773803711,
          12.379703521728516,
          11.82295036315918,
          11.933818817138672,
          10.429657936096191,
          13.224601745605469,
          12.07268238067627,
          13.158964157104492,
          10.75627613067627,
          12.406344413757324,
          11.768057823181152,
          13.001419067382812,
          9.937049865722656,
          12.186210632324219,
          9.344136238098145,
          14.168855667114258,
          11.827363014221191,
          11.388331413269043,
          12.356330871582031,
          11.627756118774414,
          13.394335746765137,
          12.671693801879883,
          11.777094841003418,
          10.365058898925781,
          9.923955917358398,
          13.041860580444336,
          13.154930114746094,
          13.421216011047363,
          13.707242965698242,
          12.42440414428711,
          12.777054786682129,
          13.047830581665039,
          10.857757568359375,
          13.31813907623291,
          13.559402465820312,
          10.252311706542969,
          11.578145027160645,
          12.206162452697754,
          13.395981788635254,
          11.752346992492676,
          10.443490982055664,
          12.679747581481934,
          13.831050872802734,
          13.065899848937988,
          9.007391929626465,
          10.704900741577148,
          10.871159553527832,
          10.777158737182617,
          12.431857109069824,
          12.62671184539795,
          11.45422077178955,
          12.991015434265137,
          11.900059700012207,
          13.226460456848145,
          11.448026657104492,
          10.68570613861084,
          13.100377082824707,
          13.673508644104004,
          12.404930114746094,
          12.544427871704102,
          13.571637153625488,
          12.737921714782715,
          12.388023376464844,
          12.29541015625,
          10.543473243713379,
          10.376812934875488,
          11.257774353027344,
          13.702823638916016,
          13.198582649230957,
          11.648200035095215,
          12.130513191223145,
          13.120429992675781,
          10.237406730651855,
          13.663549423217773,
          12.10800838470459,
          10.587101936340332,
          12.73985481262207,
          9.354230880737305,
          12.042191505432129,
          12.588420867919922,
          12.050414085388184,
          13.458658218383789,
          13.002337455749512,
          11.897297859191895,
          11.183858871459961,
          12.92689323425293,
          12.200867652893066,
          13.755694389343262,
          13.05823802947998,
          11.791108131408691,
          11.331562042236328,
          10.098352432250977,
          13.888070106506348,
          11.503247261047363,
          10.72994613647461,
          13.630030632019043,
          13.060944557189941,
          12.507372856140137,
          9.054524421691895,
          12.130146980285645,
          10.426466941833496,
          11.316352844238281,
          12.574007034301758,
          9.935729026794434,
          11.594331741333008,
          12.654494285583496,
          10.979471206665039,
          13.622462272644043,
          12.23990249633789,
          13.799620628356934,
          11.605121612548828,
          13.389979362487793,
          13.255928039550781,
          10.67185115814209,
          10.659720420837402,
          12.081093788146973,
          13.57874870300293,
          12.58916187286377,
          12.866927146911621,
          13.132674217224121,
          11.042577743530273,
          11.413179397583008,
          13.540462493896484,
          11.941743850708008,
          10.824990272521973,
          9.498927116394043,
          12.219352722167969,
          13.396501541137695,
          11.319783210754395,
          13.380884170532227,
          12.55057144165039,
          12.395645141601562,
          10.6748685836792,
          12.46887493133545,
          13.331968307495117,
          12.727343559265137,
          11.473118782043457,
          11.456871032714844,
          13.820713996887207,
          11.966690063476562,
          10.761762619018555,
          11.908071517944336,
          11.88280963897705,
          11.884202003479004,
          13.678503036499023,
          12.99906063079834,
          9.361246109008789,
          12.89330768585205,
          11.586579322814941,
          13.040769577026367,
          11.704793930053711,
          13.102082252502441,
          13.581674575805664,
          13.558220863342285,
          13.224194526672363,
          12.012149810791016,
          10.910303115844727,
          11.611912727355957,
          12.903413772583008,
          11.277767181396484,
          12.429340362548828,
          13.498482704162598,
          11.71923542022705,
          13.95527172088623,
          12.208841323852539,
          9.693495750427246,
          11.633819580078125,
          13.278389930725098,
          11.429754257202148,
          11.67182731628418,
          9.423447608947754,
          11.436558723449707,
          12.613569259643555,
          12.84815788269043,
          12.647832870483398,
          13.261051177978516,
          12.074113845825195,
          11.636177062988281,
          12.326438903808594,
          13.524591445922852,
          13.112605094909668,
          12.612101554870605,
          11.78199577331543,
          13.486654281616211,
          9.399842262268066,
          10.699520111083984,
          11.188725471496582,
          11.118856430053711,
          10.130884170532227,
          12.070542335510254,
          13.020766258239746,
          12.30245304107666,
          12.063929557800293,
          11.874691009521484,
          12.127603530883789,
          13.396031379699707,
          13.145257949829102,
          12.33056354522705,
          12.048661231994629,
          12.541882514953613,
          12.027957916259766,
          13.542461395263672,
          11.951152801513672,
          10.103876113891602,
          11.629464149475098,
          9.380681037902832,
          11.73284912109375,
          11.233233451843262,
          13.69476318359375,
          13.670690536499023,
          13.780176162719727,
          13.668475151062012,
          12.701458930969238,
          11.456734657287598,
          11.68619155883789,
          13.230999946594238,
          12.294454574584961,
          13.053791999816895,
          12.487162590026855,
          12.558277130126953,
          11.698092460632324,
          13.016529083251953,
          12.61153507232666,
          13.807890892028809,
          13.586289405822754,
          12.798356056213379,
          12.637303352355957,
          12.741506576538086,
          11.86634349822998,
          12.558107376098633,
          9.017404556274414,
          11.633728981018066,
          12.158909797668457,
          13.039730072021484,
          11.252326965332031,
          13.28606128692627,
          12.254324913024902,
          13.031787872314453,
          12.662089347839355,
          10.853986740112305,
          10.522612571716309,
          12.109551429748535,
          12.291412353515625,
          12.556779861450195,
          12.35401439666748,
          11.082040786743164,
          12.087884902954102,
          12.869105339050293,
          13.614707946777344,
          9.429490089416504,
          11.995644569396973,
          12.018577575683594,
          12.147599220275879,
          13.921801567077637,
          11.798310279846191,
          11.69908332824707,
          12.195556640625,
          13.29487419128418,
          10.153438568115234,
          13.588412284851074,
          12.144761085510254,
          12.082059860229492,
          12.600459098815918,
          12.408502578735352,
          12.019747734069824,
          13.406715393066406,
          9.555071830749512,
          12.23353385925293,
          12.054186820983887,
          12.06596851348877,
          11.677461624145508,
          12.113922119140625,
          12.182748794555664,
          12.014857292175293,
          12.140358924865723,
          11.754806518554688,
          11.834551811218262,
          13.833369255065918,
          12.160126686096191,
          13.532991409301758,
          11.831036567687988,
          11.840224266052246,
          12.542916297912598,
          13.553825378417969,
          13.43730354309082,
          9.876660346984863,
          12.001336097717285,
          12.830647468566895,
          11.280174255371094,
          12.352006912231445,
          13.41113567352295,
          11.87502384185791,
          13.928689002990723,
          10.678754806518555,
          13.69395637512207,
          11.991991996765137,
          12.725424766540527,
          13.041553497314453,
          11.607863426208496,
          9.171546936035156,
          12.694560050964355,
          13.183708190917969,
          10.415549278259277,
          11.836221694946289,
          12.294723510742188,
          12.70630168914795,
          13.430803298950195,
          14.00846004486084,
          8.93396282196045,
          12.566227912902832,
          10.840063095092773,
          11.822066307067871,
          11.84492015838623,
          12.583656311035156,
          12.153515815734863,
          12.262989044189453,
          13.546358108520508,
          13.422179222106934,
          13.597770690917969,
          10.027375221252441,
          12.928054809570312,
          13.707551956176758,
          13.554069519042969,
          12.079093933105469,
          10.691554069519043,
          13.16816520690918,
          11.966631889343262,
          11.931571006774902,
          11.405908584594727,
          10.870309829711914,
          10.3311128616333,
          11.581027030944824,
          11.968497276306152,
          12.403441429138184,
          9.127720832824707,
          10.225319862365723,
          12.477777481079102,
          12.172372817993164,
          13.103432655334473,
          12.027800559997559,
          12.366615295410156,
          11.509366035461426,
          13.680524826049805,
          12.482195854187012,
          13.832330703735352,
          12.412802696228027,
          12.167800903320312,
          13.1156005859375,
          11.604141235351562,
          8.987496376037598,
          13.151352882385254,
          11.582470893859863,
          13.117326736450195,
          11.875967979431152,
          11.665079116821289,
          10.908041000366211,
          11.9155855178833,
          10.890328407287598,
          12.287333488464355,
          11.797514915466309,
          13.2589693069458,
          10.972087860107422,
          13.363205909729004,
          12.615069389343262,
          13.12997817993164,
          12.740270614624023,
          11.85715389251709,
          12.507951736450195,
          9.332852363586426,
          14.122272491455078,
          10.03591537475586,
          11.143994331359863,
          12.359389305114746,
          11.88281536102295,
          13.897711753845215,
          13.415884971618652,
          12.615052223205566,
          11.586418151855469,
          13.194945335388184,
          12.298584938049316,
          12.94133186340332,
          11.682515144348145,
          11.737933158874512,
          14.014521598815918,
          12.920953750610352,
          12.042695999145508,
          11.034975051879883,
          11.74814510345459,
          14.090760231018066,
          11.30685806274414,
          11.96345043182373,
          12.965352058410645,
          11.778434753417969,
          12.899468421936035,
          13.69115924835205,
          12.253715515136719,
          11.578405380249023,
          12.042132377624512,
          12.0888671875,
          13.097646713256836,
          12.278099060058594,
          11.758511543273926,
          13.044038772583008,
          13.53874397277832,
          12.869921684265137,
          12.351490020751953,
          11.494842529296875,
          12.175888061523438,
          12.238557815551758,
          12.22943115234375,
          13.711637496948242,
          12.112162590026855,
          12.893160820007324,
          12.848340034484863,
          13.883012771606445,
          13.719892501831055,
          11.587875366210938,
          12.191343307495117,
          13.024658203125,
          11.550545692443848,
          13.41968059539795,
          9.771897315979004,
          10.959967613220215,
          12.240361213684082,
          12.815351486206055,
          11.982146263122559,
          12.673371315002441,
          12.652379989624023,
          13.942294120788574,
          13.49670696258545,
          12.08891487121582,
          11.111299514770508,
          13.587790489196777,
          10.922114372253418,
          12.562850952148438,
          11.155850410461426,
          12.96381664276123,
          13.450850486755371,
          9.521373748779297,
          11.45365047454834,
          12.372200965881348,
          13.7443265914917,
          12.146602630615234,
          14.283784866333008,
          11.566229820251465,
          12.23427677154541,
          13.075818061828613,
          12.042649269104004,
          13.440173149108887,
          10.078473091125488,
          12.077942848205566,
          12.302456855773926,
          11.23009204864502,
          12.436280250549316,
          11.759729385375977,
          13.728822708129883,
          13.636785507202148,
          11.960360527038574,
          9.361896514892578,
          11.790243148803711,
          11.184165000915527,
          13.39746379852295,
          11.355401992797852,
          12.60152816772461,
          11.13399887084961,
          11.646100044250488,
          12.14463996887207,
          13.63956069946289,
          13.396721839904785,
          12.761024475097656,
          12.583342552185059,
          11.4459867477417,
          12.812421798706055,
          12.911139488220215,
          11.630399703979492,
          11.972594261169434,
          12.835888862609863,
          13.561790466308594,
          10.089284896850586,
          13.274401664733887,
          12.273374557495117,
          12.794279098510742,
          12.820497512817383,
          12.780330657958984,
          14.10097885131836,
          11.443658828735352,
          11.125673294067383,
          13.040661811828613,
          11.309581756591797,
          13.459242820739746,
          12.382591247558594,
          13.277739524841309,
          12.399646759033203,
          11.906045913696289,
          13.90959358215332,
          12.623000144958496,
          11.845024108886719,
          11.417176246643066,
          13.16337776184082,
          12.980724334716797,
          13.528715133666992,
          11.37252426147461,
          10.531091690063477,
          13.05034065246582,
          13.571414947509766,
          12.881475448608398,
          12.34312629699707,
          12.993325233459473,
          13.065424919128418,
          13.050400733947754,
          14.274243354797363,
          13.1752290725708,
          12.175141334533691,
          13.257674217224121,
          13.658985137939453,
          14.283145904541016,
          11.815244674682617,
          12.487120628356934,
          13.885632514953613,
          12.877824783325195,
          12.407273292541504,
          9.711701393127441,
          12.552789688110352,
          12.431978225708008,
          12.5941801071167,
          12.006792068481445,
          12.306243896484375,
          12.745264053344727,
          11.9996337890625,
          12.01699161529541,
          11.070905685424805,
          13.81113338470459,
          12.100269317626953,
          12.685321807861328,
          12.37781810760498,
          13.057971954345703,
          12.275900840759277,
          11.978660583496094,
          11.809830665588379,
          13.350003242492676,
          12.3716459274292,
          10.99481201171875,
          11.978729248046875,
          13.478391647338867,
          12.320220947265625,
          11.514739036560059,
          12.17282485961914,
          13.256963729858398,
          13.557571411132812,
          12.110451698303223,
          12.359152793884277,
          11.687013626098633,
          12.598555564880371,
          10.280631065368652,
          12.68959903717041,
          12.607051849365234,
          12.274105072021484,
          10.351902961730957,
          12.825576782226562,
          12.490622520446777,
          12.931763648986816,
          9.586063385009766,
          11.948826789855957,
          11.538854598999023,
          12.383995056152344,
          12.799653053283691,
          12.992546081542969,
          11.572908401489258,
          14.027915000915527,
          11.882026672363281,
          13.668127059936523,
          12.305721282958984,
          12.305763244628906,
          11.761822700500488,
          13.092829704284668,
          12.317719459533691,
          12.301836013793945,
          12.713119506835938,
          11.857934951782227,
          11.07683277130127,
          12.123348236083984,
          11.73061752319336,
          11.935965538024902,
          10.967100143432617,
          12.392215728759766,
          12.152527809143066,
          11.875738143920898,
          12.0314302444458,
          13.633319854736328,
          12.54903793334961,
          10.953697204589844,
          9.618854522705078,
          11.674894332885742,
          12.301419258117676,
          13.192389488220215,
          12.929464340209961,
          13.189007759094238,
          13.885369300842285,
          13.551671981811523,
          10.337135314941406,
          13.022538185119629,
          11.031949043273926,
          12.737992286682129,
          13.678662300109863,
          12.041563034057617,
          11.822992324829102,
          12.624711036682129,
          12.994346618652344,
          13.470998764038086,
          12.071694374084473,
          11.622118949890137,
          12.871657371520996,
          11.745591163635254,
          12.212825775146484,
          12.163543701171875,
          12.829734802246094,
          12.269492149353027,
          13.185249328613281,
          11.87166690826416,
          11.326214790344238,
          11.823866844177246,
          13.068512916564941,
          13.68972110748291,
          11.783002853393555,
          10.37813949584961,
          12.083134651184082,
          12.244577407836914,
          12.989974975585938,
          10.849068641662598,
          13.346400260925293,
          14.302420616149902,
          12.323596000671387,
          11.911168098449707,
          11.597949981689453,
          12.165218353271484,
          12.605195999145508,
          13.111872673034668,
          14.118260383605957,
          13.964017868041992,
          10.84850025177002,
          11.581729888916016,
          13.283257484436035,
          12.632806777954102,
          11.83423137664795,
          13.384430885314941,
          12.658203125,
          12.491085052490234,
          10.267243385314941,
          9.10166072845459,
          13.874590873718262,
          12.851239204406738,
          11.93639087677002,
          11.566073417663574,
          12.28348445892334,
          11.64155101776123,
          12.24361801147461,
          13.092961311340332,
          13.89947509765625,
          10.804636001586914,
          11.967751502990723,
          13.530649185180664,
          11.885929107666016,
          11.495904922485352,
          10.984847068786621,
          11.698686599731445,
          12.096328735351562,
          13.753904342651367,
          14.019875526428223,
          10.860488891601562,
          11.879724502563477,
          13.29408073425293,
          13.131669998168945,
          11.868694305419922,
          12.569075584411621,
          12.940998077392578,
          12.662693977355957,
          10.039356231689453,
          9.101252555847168,
          13.913712501525879,
          11.941980361938477,
          12.210372924804688,
          11.607272148132324,
          10.994894027709961,
          11.63791275024414,
          13.123414039611816,
          12.368156433105469,
          12.63825511932373,
          10.96603775024414,
          13.581254005432129,
          11.23242473602295,
          12.005511283874512,
          11.76717758178711,
          12.650428771972656,
          12.04432201385498,
          12.01701545715332,
          13.08736515045166,
          13.574904441833496,
          14.111868858337402,
          10.916154861450195,
          12.075800895690918,
          13.348855972290039,
          10.637292861938477,
          11.821208000183105,
          12.201851844787598,
          12.567248344421387,
          13.030444145202637,
          12.16089153289795,
          14.024415016174316,
          10.96312427520752,
          11.93750286102295,
          13.6458740234375,
          13.56570816040039,
          11.843446731567383,
          12.201664924621582,
          12.049088478088379,
          12.342842102050781,
          9.939899444580078,
          9.129656791687012,
          11.299657821655273,
          11.964315414428711,
          11.863725662231445,
          12.197649002075195,
          12.85969352722168,
          11.830224990844727,
          12.953272819519043,
          14.017196655273438,
          14.115311622619629,
          10.883966445922852,
          12.978541374206543,
          11.627946853637695,
          11.019062995910645,
          13.830864906311035,
          10.258179664611816,
          9.880566596984863,
          11.986108779907227,
          12.75815200805664,
          10.93896770477295,
          10.865175247192383,
          13.554433822631836,
          12.241586685180664,
          11.479050636291504,
          11.935779571533203,
          11.709470748901367,
          12.2020263671875,
          13.03314208984375,
          10.9461088180542,
          12.363537788391113,
          13.14413833618164,
          12.862719535827637,
          12.630318641662598,
          13.877056121826172,
          11.992538452148438,
          10.9292573928833,
          11.468175888061523,
          13.682381629943848,
          12.770121574401855,
          11.726977348327637,
          12.721658706665039,
          11.634732246398926,
          13.139647483825684,
          12.316787719726562,
          12.063682556152344,
          12.212061882019043,
          10.59784984588623,
          11.940315246582031,
          11.567447662353516,
          12.190738677978516,
          12.17294692993164,
          12.259105682373047,
          13.296052932739258,
          11.984416007995605,
          13.401506423950195,
          13.15793514251709,
          14.068302154541016,
          11.407790184020996,
          13.98198127746582,
          11.046479225158691,
          11.953143119812012,
          12.342884063720703,
          9.650057792663574,
          12.54671573638916,
          12.146079063415527,
          12.225872039794922,
          11.678159713745117,
          11.227948188781738,
          11.712518692016602,
          12.115560531616211,
          13.024317741394043,
          13.0902681350708,
          12.212455749511719,
          12.089690208435059,
          12.613609313964844,
          11.765110969543457,
          9.986089706420898,
          13.020180702209473,
          13.0414400100708,
          13.615361213684082,
          12.030253410339355,
          12.143396377563477,
          12.307806015014648,
          12.368789672851562,
          11.966591835021973,
          13.714620590209961,
          13.587002754211426,
          11.803059577941895,
          12.185704231262207,
          12.581559181213379,
          9.730874061584473,
          11.985810279846191,
          11.5092134475708,
          12.166812896728516,
          11.571843147277832,
          12.285019874572754,
          11.570135116577148,
          11.45068359375,
          13.620678901672363
         ],
         "z": [
          19.511627197265625,
          18.140954971313477,
          18.360618591308594,
          18.931291580200195,
          18.296775817871094,
          19.150432586669922,
          18.060998916625977,
          17.16281509399414,
          18.491260528564453,
          18.094154357910156,
          18.23638343811035,
          17.875898361206055,
          19.77754783630371,
          18.909770965576172,
          19.676494598388672,
          18.55359649658203,
          17.990053176879883,
          20.086742401123047,
          18.352014541625977,
          19.279430389404297,
          20.029579162597656,
          17.873323440551758,
          18.732866287231445,
          18.72914695739746,
          18.242877960205078,
          19.745336532592773,
          18.350669860839844,
          19.130229949951172,
          18.710922241210938,
          19.254657745361328,
          18.516250610351562,
          18.14053726196289,
          18.25151252746582,
          20.14881706237793,
          18.4571475982666,
          18.42273712158203,
          18.734935760498047,
          19.047937393188477,
          18.734027862548828,
          18.426759719848633,
          18.37209129333496,
          20.033203125,
          18.647241592407227,
          18.905719757080078,
          18.423564910888672,
          17.43174934387207,
          17.859384536743164,
          18.801847457885742,
          18.991117477416992,
          18.353567123413086,
          19.360191345214844,
          18.130531311035156,
          18.287799835205078,
          17.581233978271484,
          19.214542388916016,
          18.085399627685547,
          18.502704620361328,
          18.94533920288086,
          17.77783966064453,
          18.49412727355957,
          19.430343627929688,
          19.14667320251465,
          17.479333877563477,
          18.228313446044922,
          17.71502685546875,
          18.9071102142334,
          20.26201629638672,
          18.594951629638672,
          18.004304885864258,
          19.266036987304688,
          19.045921325683594,
          17.292804718017578,
          17.37786293029785,
          18.613689422607422,
          17.39763069152832,
          18.292299270629883,
          19.292444229125977,
          18.98175621032715,
          19.3389835357666,
          19.90035629272461,
          18.059053421020508,
          17.869604110717773,
          18.962825775146484,
          18.31066131591797,
          19.828784942626953,
          18.74155044555664,
          17.526287078857422,
          17.655963897705078,
          18.117109298706055,
          17.809864044189453,
          18.11612892150879,
          19.88850975036621,
          19.033554077148438,
          18.78557777404785,
          19.846193313598633,
          17.946128845214844,
          18.468372344970703,
          18.90474510192871,
          18.45055389404297,
          18.878738403320312,
          19.62228775024414,
          18.165382385253906,
          19.448871612548828,
          17.954957962036133,
          19.42947769165039,
          19.223899841308594,
          18.801252365112305,
          17.181575775146484,
          18.88968849182129,
          18.90016746520996,
          19.046916961669922,
          17.405363082885742,
          18.686437606811523,
          17.91045570373535,
          17.375465393066406,
          19.335325241088867,
          20.021465301513672,
          19.95060920715332,
          19.54088592529297,
          19.24878692626953,
          18.79623031616211,
          17.636587142944336,
          18.054073333740234,
          18.0383243560791,
          18.81757926940918,
          19.398988723754883,
          19.255647659301758,
          18.98233985900879,
          19.260913848876953,
          17.824193954467773,
          19.31220054626465,
          18.920516967773438,
          19.401084899902344,
          18.850465774536133,
          20.137590408325195,
          18.411258697509766,
          18.007946014404297,
          19.573898315429688,
          18.38203239440918,
          18.660303115844727,
          17.067750930786133,
          18.572406768798828,
          17.98311424255371,
          18.999841690063477,
          18.709896087646484,
          18.412635803222656,
          17.95659065246582,
          18.917003631591797,
          19.195615768432617,
          17.193220138549805,
          19.389440536499023,
          18.80606460571289,
          17.73978042602539,
          18.4821720123291,
          19.685447692871094,
          19.215831756591797,
          19.354549407958984,
          19.44852066040039,
          18.553667068481445,
          17.51776123046875,
          19.44662094116211,
          17.681089401245117,
          19.349191665649414,
          18.189254760742188,
          18.375133514404297,
          19.781505584716797,
          18.13584327697754,
          18.09870719909668,
          17.644332885742188,
          18.53590965270996,
          17.609189987182617,
          18.746156692504883,
          18.875091552734375,
          18.0358829498291,
          17.439411163330078,
          17.748567581176758,
          17.453371047973633,
          18.613155364990234,
          18.049455642700195,
          19.764793395996094,
          18.963417053222656,
          18.022762298583984,
          19.10361099243164,
          18.920665740966797,
          17.836687088012695,
          19.09621238708496,
          18.53847885131836,
          19.8968448638916,
          19.2705020904541,
          17.877666473388672,
          18.798242568969727,
          17.445510864257812,
          19.76287269592285,
          18.51852798461914,
          18.880876541137695,
          20.093664169311523,
          18.52489471435547,
          17.322750091552734,
          18.237613677978516,
          17.599699020385742,
          18.127695083618164,
          17.447389602661133,
          19.209577560424805,
          18.47380828857422,
          19.309179306030273,
          18.46697998046875,
          18.584836959838867,
          18.697765350341797,
          18.650747299194336,
          17.328834533691406,
          17.534730911254883,
          18.096067428588867,
          19.06562042236328,
          18.338289260864258,
          19.069787979125977,
          19.736433029174805,
          17.97903060913086,
          17.65561294555664,
          19.775712966918945,
          19.563119888305664,
          18.617816925048828,
          18.38356590270996,
          17.14964485168457,
          18.68474006652832,
          19.257396697998047,
          18.81942367553711,
          19.26946258544922,
          18.03659439086914,
          18.805889129638672,
          17.680160522460938,
          17.958242416381836,
          18.033668518066406,
          20.019916534423828,
          18.853025436401367,
          19.042619705200195,
          18.724931716918945,
          17.788206100463867,
          17.684865951538086,
          18.71945571899414,
          18.889266967773438,
          19.908655166625977,
          19.223461151123047,
          18.165719985961914,
          18.615997314453125,
          17.625478744506836,
          18.07208251953125,
          20.013240814208984,
          18.112991333007812,
          18.458118438720703,
          18.705467224121094,
          18.645692825317383,
          18.056804656982422,
          19.044788360595703,
          18.78359031677246,
          17.697717666625977,
          18.815372467041016,
          17.57328224182129,
          18.962989807128906,
          20.036436080932617,
          19.488264083862305,
          19.19451141357422,
          18.645891189575195,
          18.828163146972656,
          18.474584579467773,
          17.564634323120117,
          18.26157569885254,
          18.332027435302734,
          19.847042083740234,
          17.149381637573242,
          18.461055755615234,
          17.261463165283203,
          20.07929801940918,
          18.5876522064209,
          18.939250946044922,
          18.50924301147461,
          18.78794288635254,
          19.552358627319336,
          18.146991729736328,
          18.577320098876953,
          17.598339080810547,
          17.92731285095215,
          19.183818817138672,
          18.43983268737793,
          18.93984603881836,
          18.76551055908203,
          19.47109603881836,
          17.314138412475586,
          18.79967498779297,
          17.02008056640625,
          18.768348693847656,
          17.99021339416504,
          17.305837631225586,
          19.043235778808594,
          19.08951187133789,
          19.933698654174805,
          19.37327766418457,
          17.88335609436035,
          20.23158073425293,
          18.93220329284668,
          19.13390350341797,
          17.214818954467773,
          18.011028289794922,
          18.377952575683594,
          17.726886749267578,
          19.055158615112305,
          19.541963577270508,
          18.93474006652832,
          18.427392959594727,
          19.64169692993164,
          18.89249610900879,
          18.02289581298828,
          17.917482376098633,
          19.5869083404541,
          18.798242568969727,
          20.07338523864746,
          19.41442108154297,
          18.781307220458984,
          18.217296600341797,
          18.693771362304688,
          18.862342834472656,
          19.110445022583008,
          17.92266082763672,
          18.071809768676758,
          19.261838912963867,
          18.248844146728516,
          18.310165405273438,
          17.366962432861328,
          18.630210876464844,
          18.09710121154785,
          18.471189498901367,
          19.763065338134766,
          17.909944534301758,
          18.42440414428711,
          17.614089965820312,
          18.404605865478516,
          19.197221755981445,
          18.848751068115234,
          19.563167572021484,
          20.02711296081543,
          18.383193969726562,
          17.901851654052734,
          19.13041877746582,
          19.898698806762695,
          18.990991592407227,
          18.176177978515625,
          19.45440673828125,
          18.808732986450195,
          18.126869201660156,
          18.050634384155273,
          18.352088928222656,
          17.851184844970703,
          20.001646041870117,
          17.93499183654785,
          19.69041633605957,
          17.34096336364746,
          18.714191436767578,
          19.135330200195312,
          19.080974578857422,
          18.215238571166992,
          17.647415161132812,
          18.97332000732422,
          18.89446258544922,
          16.975242614746094,
          18.50664710998535,
          18.561962127685547,
          18.252418518066406,
          18.87470245361328,
          19.56083869934082,
          19.531391143798828,
          19.047985076904297,
          17.809545516967773,
          19.137577056884766,
          17.967119216918945,
          20.24903678894043,
          17.83930778503418,
          17.926746368408203,
          17.690166473388672,
          19.261306762695312,
          19.163057327270508,
          18.064374923706055,
          19.388113021850586,
          17.242809295654297,
          19.216020584106445,
          18.985992431640625,
          19.591449737548828,
          18.658973693847656,
          17.962411880493164,
          19.4902286529541,
          17.146873474121094,
          18.051551818847656,
          18.447847366333008,
          19.54694938659668,
          19.099672317504883,
          19.628114700317383,
          17.910797119140625,
          17.472217559814453,
          19.011470794677734,
          19.939239501953125,
          18.10430335998535,
          19.190074920654297,
          17.914630889892578,
          19.229806900024414,
          17.29081916809082,
          18.899614334106445,
          18.085935592651367,
          17.76030731201172,
          18.444467544555664,
          17.929758071899414,
          19.25930404663086,
          19.31568717956543,
          18.830608367919922,
          19.357206344604492,
          16.807050704956055,
          19.004642486572266,
          20.155675888061523,
          19.30339813232422,
          18.938066482543945,
          19.184450149536133,
          18.142818450927734,
          18.62047004699707,
          18.916820526123047,
          17.3105411529541,
          19.88323402404785,
          18.615293502807617,
          18.205087661743164,
          19.121685028076172,
          17.497392654418945,
          18.059711456298828,
          19.607423782348633,
          18.4860897064209,
          17.50868034362793,
          18.07423973083496,
          19.018468856811523,
          18.537334442138672,
          19.39006996154785,
          19.430023193359375,
          17.857379913330078,
          19.815540313720703,
          18.22104263305664,
          19.83379364013672,
          17.50727081298828,
          19.137104034423828,
          17.759790420532227,
          16.770740509033203,
          17.62348175048828,
          18.826515197753906,
          18.06885528564453,
          18.946866989135742,
          18.564550399780273,
          19.98904037475586,
          18.66191291809082,
          18.756900787353516,
          18.69361114501953,
          20.220382690429688,
          18.85961151123047,
          18.323734283447266,
          18.866100311279297,
          19.5903377532959,
          18.133113861083984,
          17.680788040161133,
          19.65414047241211,
          17.34294319152832,
          18.79656410217285,
          19.14836883544922,
          19.651281356811523,
          19.191532135009766,
          18.358642578125,
          18.952823638916016,
          20.186771392822266,
          17.786306381225586,
          18.229915618896484,
          19.140151977539062,
          19.624622344970703,
          18.480432510375977,
          19.290788650512695,
          18.506309509277344,
          18.09864044189453,
          19.604948043823242,
          18.004640579223633,
          19.784915924072266,
          18.895017623901367,
          20.149776458740234,
          18.68546485900879,
          17.94662094116211,
          18.87427520751953,
          18.22368812561035,
          17.20552635192871,
          18.325115203857422,
          18.7381534576416,
          18.527376174926758,
          19.223520278930664,
          18.3836727142334,
          19.35201644897461,
          18.68914031982422,
          18.189584732055664,
          16.97298812866211,
          18.55012321472168,
          19.851058959960938,
          18.203292846679688,
          18.03507423400879,
          18.129005432128906,
          19.05438995361328,
          18.823287963867188,
          18.172557830810547,
          18.801498413085938,
          17.55785369873047,
          18.854093551635742,
          19.341350555419922,
          18.756126403808594,
          18.604110717773438,
          18.57196807861328,
          18.60134506225586,
          18.707502365112305,
          18.1863956451416,
          17.862199783325195,
          20.06191062927246,
          18.12558364868164,
          18.712602615356445,
          19.190202713012695,
          18.188724517822266,
          18.709110260009766,
          17.783048629760742,
          17.281482696533203,
          19.82332420349121,
          18.180397033691406,
          18.301685333251953,
          18.23880386352539,
          18.7532958984375,
          19.251087188720703,
          18.708229064941406,
          18.754199981689453,
          19.624849319458008,
          18.691715240478516,
          19.141319274902344,
          18.801429748535156,
          19.808513641357422,
          18.232667922973633,
          18.696680068969727,
          19.585691452026367,
          18.540912628173828,
          18.526813507080078,
          17.29778480529785,
          18.73512840270996,
          17.912185668945312,
          18.71515655517578,
          18.165306091308594,
          19.2864990234375,
          18.797964096069336,
          18.428653717041016,
          17.917266845703125,
          19.497587203979492,
          19.714107513427734,
          19.053171157836914,
          19.212146759033203,
          19.50370979309082,
          17.526615142822266,
          18.42023468017578,
          18.207000732421875,
          17.77371597290039,
          19.520090103149414,
          20.270326614379883,
          19.07114601135254,
          18.478431701660156,
          18.702980041503906,
          17.181442260742188,
          19.108692169189453,
          16.901411056518555,
          18.683361053466797,
          18.64695167541504,
          18.4278507232666,
          18.343019485473633,
          19.436140060424805,
          18.5447998046875,
          19.93749237060547,
          19.92045783996582,
          17.720123291015625,
          17.59510040283203,
          19.71977996826172,
          18.886638641357422,
          19.320032119750977,
          17.99488067626953,
          18.948728561401367,
          18.92042350769043,
          18.265352249145508,
          17.940441131591797,
          16.948808670043945,
          17.747840881347656,
          18.41960334777832,
          18.199678421020508,
          19.342660903930664,
          17.430450439453125,
          17.284570693969727,
          19.129114151000977,
          19.897605895996094,
          18.539525985717773,
          18.857498168945312,
          18.235389709472656,
          19.657899856567383,
          19.920137405395508,
          18.142240524291992,
          17.74615478515625,
          18.457881927490234,
          18.005599975585938,
          17.745094299316406,
          19.510438919067383,
          17.3563175201416,
          20.05472183227539,
          19.07006072998047,
          17.887924194335938,
          20.01036262512207,
          19.31743621826172,
          17.466779708862305,
          20.027667999267578,
          17.16183090209961,
          18.3514461517334,
          19.4870662689209,
          18.057178497314453,
          18.927732467651367,
          19.414457321166992,
          19.416656494140625,
          18.42506217956543,
          18.004791259765625,
          17.301288604736328,
          18.237060546875,
          17.63878631591797,
          18.86928939819336,
          17.645963668823242,
          19.228775024414062,
          18.456981658935547,
          19.342069625854492,
          16.57843017578125,
          19.898635864257812,
          15.744282722473145,
          15.997422218322754,
          16.436670303344727,
          16.678407669067383,
          17.069910049438477,
          17.870559692382812,
          18.875680923461914,
          18.015382766723633,
          19.56027603149414,
          15.67018985748291,
          16.710580825805664,
          18.685396194458008,
          18.34459114074707,
          18.106229782104492,
          16.77851676940918,
          17.281105041503906,
          16.28350067138672,
          19.972095489501953,
          18.19578742980957,
          16.806718826293945,
          15.872880935668945,
          17.563621520996094,
          17.077817916870117,
          20.11686134338379,
          15.694001197814941,
          18.082975387573242,
          18.42329216003418,
          16.44291877746582,
          18.41825294494629,
          16.164756774902344,
          16.01332664489746,
          17.601369857788086,
          16.532663345336914,
          16.722557067871094,
          19.556751251220703,
          19.34071922302246,
          16.66676902770996,
          18.036012649536133,
          16.579242706298828,
          19.8247127532959,
          18.16156768798828,
          16.897127151489258,
          16.66153335571289,
          15.880630493164062,
          16.66043472290039,
          17.48404884338379,
          17.859163284301758,
          17.006303787231445,
          17.200714111328125,
          16.6121883392334,
          19.655988693237305,
          15.706084251403809,
          18.28553009033203,
          18.451303482055664,
          18.343408584594727,
          17.33585548400879,
          16.845643997192383,
          16.76368522644043,
          15.705676078796387,
          17.345882415771484,
          16.745824813842773,
          19.475547790527344,
          17.317230224609375,
          15.959692001342773,
          16.02373695373535,
          19.182323455810547,
          17.012601852416992,
          20.188520431518555,
          15.889930725097656,
          16.499446868896484,
          17.45435905456543,
          19.269372940063477,
          16.68671989440918,
          17.043888092041016,
          19.776121139526367,
          15.85428237915039,
          16.502016067504883,
          15.66187858581543,
          18.754426956176758,
          19.90401268005371,
          18.3544864654541,
          17.843599319458008,
          17.208356857299805,
          16.35890769958496,
          16.42019271850586,
          16.277198791503906,
          18.042797088623047,
          15.973885536193848,
          16.580631256103516,
          16.141658782958984,
          16.34052085876465,
          19.079246520996094,
          16.193572998046875,
          18.241527557373047,
          17.10282325744629,
          16.4881649017334,
          19.12314796447754,
          16.955705642700195,
          18.939382553100586,
          15.67819881439209,
          16.850309371948242,
          19.510202407836914,
          17.17052459716797,
          16.943397521972656,
          18.306917190551758,
          20.155323028564453,
          16.90828514099121,
          19.60707664489746,
          18.945476531982422,
          18.057605743408203,
          16.53519058227539,
          18.424724578857422,
          18.046497344970703,
          19.558048248291016,
          16.936805725097656,
          16.70319938659668,
          17.13545799255371,
          16.778932571411133,
          18.29253387451172,
          19.642560958862305,
          16.681074142456055,
          16.579952239990234,
          17.197683334350586,
          19.705955505371094,
          18.29473114013672,
          19.021526336669922,
          17.414480209350586,
          16.96328353881836,
          19.124799728393555,
          17.19033432006836,
          16.2742862701416,
          19.58396339416504,
          19.90655517578125,
          20.006174087524414,
          20.181835174560547,
          16.76636505126953,
          15.709236145019531,
          16.028060913085938,
          16.953147888183594,
          20.186843872070312,
          19.514970779418945,
          17.382539749145508,
          16.62216567993164,
          16.80157470703125,
          16.516433715820312,
          17.436893463134766,
          19.827486038208008,
          16.91422462463379,
          18.949214935302734,
          15.636489868164062,
          16.49836540222168,
          17.89992904663086,
          16.526779174804688,
          18.807491302490234,
          16.72519874572754,
          18.033935546875,
          19.574722290039062,
          16.970417022705078,
          17.13404655456543,
          17.295408248901367,
          20.19954490661621,
          16.531423568725586,
          15.859816551208496,
          18.636281967163086,
          16.0494384765625,
          18.665908813476562,
          17.39967155456543,
          16.840103149414062,
          16.23154067993164,
          18.7419376373291,
          20.031574249267578,
          17.059682846069336,
          18.399381637573242,
          16.411516189575195,
          19.360822677612305,
          16.097021102905273,
          16.409255981445312,
          18.025827407836914,
          18.019390106201172,
          18.977540969848633,
          16.940383911132812,
          17.065128326416016,
          17.29938507080078,
          16.04877471923828,
          16.813270568847656,
          17.197235107421875,
          16.630460739135742,
          18.403371810913086,
          16.46483612060547,
          19.363557815551758,
          17.95352554321289,
          15.862874984741211,
          18.440582275390625,
          16.727182388305664,
          19.871227264404297,
          17.933862686157227,
          16.047609329223633,
          16.262622833251953,
          18.39874267578125,
          15.82342529296875,
          20.206466674804688,
          15.805242538452148,
          16.38958740234375,
          17.54336929321289,
          16.68378448486328,
          18.142133712768555,
          15.680688858032227,
          16.649818420410156,
          16.349401473999023,
          18.93922233581543,
          18.09280014038086,
          16.752986907958984,
          17.494705200195312,
          18.35216522216797,
          16.84381675720215,
          17.32830810546875,
          17.96785545349121,
          16.145347595214844,
          19.798053741455078,
          17.262590408325195,
          20.011960983276367,
          18.104001998901367,
          16.655014038085938,
          17.28867530822754,
          16.805566787719727,
          16.69318199157715,
          17.573781967163086,
          17.125221252441406,
          16.608304977416992,
          17.129714965820312,
          15.595874786376953,
          17.22245216369629,
          17.85860824584961,
          18.054351806640625,
          15.963204383850098,
          20.082990646362305,
          18.777738571166992,
          17.130292892456055,
          17.200498580932617,
          16.676517486572266,
          16.832355499267578,
          18.53993034362793,
          19.33566665649414,
          17.985549926757812,
          16.471073150634766,
          17.34730339050293,
          16.68536949157715,
          19.884990692138672,
          17.666852951049805,
          17.01776123046875,
          18.35938835144043,
          16.878814697265625,
          16.675128936767578,
          16.297473907470703,
          20.209125518798828,
          18.465715408325195,
          18.533002853393555,
          19.70783042907715,
          18.968097686767578,
          19.311260223388672,
          17.634796142578125,
          18.942829132080078,
          17.977649688720703,
          16.796161651611328,
          19.20379066467285,
          16.370563507080078,
          15.787734031677246,
          16.209882736206055,
          16.87300682067871,
          17.509124755859375,
          15.89302921295166,
          17.303146362304688,
          17.20376968383789,
          16.57353973388672,
          17.915611267089844,
          15.913158416748047,
          18.145179748535156,
          15.966346740722656,
          16.246292114257812,
          18.817562103271484,
          18.394866943359375,
          18.01104164123535,
          16.81141471862793,
          19.938940048217773,
          16.864948272705078,
          16.187063217163086,
          18.15981101989746,
          19.287261962890625,
          16.085832595825195,
          15.932380676269531,
          19.20900535583496,
          18.03763771057129,
          16.78721809387207,
          19.9022216796875,
          16.16023063659668,
          17.296146392822266,
          16.2528133392334,
          17.464805603027344,
          17.093595504760742,
          16.566612243652344,
          17.13154411315918,
          17.181917190551758,
          16.545597076416016,
          15.64084529876709,
          17.42552375793457,
          18.125864028930664,
          19.293025970458984,
          16.319211959838867,
          17.571569442749023,
          18.71831512451172,
          18.680892944335938,
          16.81980323791504,
          16.84601593017578,
          16.465381622314453,
          18.537046432495117,
          19.46697425842285,
          18.07924461364746,
          19.66499137878418,
          15.594488143920898,
          17.684541702270508,
          19.053142547607422,
          18.342618942260742,
          16.735034942626953,
          15.660944938659668,
          16.213293075561523,
          17.999570846557617,
          16.131404876708984,
          18.840356826782227,
          17.79661750793457,
          17.651018142700195,
          16.71723747253418,
          18.406160354614258,
          16.643352508544922,
          20.030168533325195,
          19.028457641601562,
          17.003860473632812,
          16.296648025512695,
          15.807195663452148,
          15.586170196533203,
          16.805721282958984,
          17.13943099975586,
          17.217350006103516,
          16.412397384643555,
          17.832693099975586,
          19.5411376953125,
          15.795313835144043,
          19.718950271606445,
          17.873035430908203,
          17.16923713684082,
          18.11203956604004,
          18.98067283630371,
          16.910978317260742,
          17.335908889770508,
          18.490629196166992,
          16.685998916625977,
          16.57958221435547,
          17.688711166381836,
          17.851179122924805,
          19.119035720825195,
          19.648386001586914,
          16.829811096191406,
          16.781707763671875,
          19.79252815246582,
          15.72815990447998,
          19.305713653564453,
          18.199398040771484,
          15.816544532775879,
          17.236160278320312,
          17.235275268554688,
          17.486814498901367,
          17.144716262817383,
          16.94913673400879,
          17.21013832092285,
          18.930959701538086,
          17.971921920776367,
          19.9543399810791,
          17.236417770385742,
          16.020057678222656,
          19.808801651000977,
          17.932804107666016,
          19.96332359313965,
          16.901321411132812,
          19.754667282104492,
          17.862009048461914,
          15.73582935333252,
          15.502946853637695,
          19.019128799438477,
          17.54621124267578,
          19.066526412963867,
          16.23222541809082,
          18.26670265197754,
          15.999613761901855,
          18.56965446472168,
          16.6955623626709,
          15.549046516418457,
          16.55839729309082,
          16.47431182861328,
          18.864953994750977,
          18.3243408203125,
          16.500974655151367,
          17.00619125366211,
          15.641471862792969,
          19.269025802612305,
          17.240081787109375,
          15.937140464782715,
          15.691824913024902,
          15.646085739135742,
          15.902889251708984,
          16.546062469482422,
          17.892173767089844,
          16.779441833496094,
          15.903202056884766,
          16.641496658325195,
          18.978395462036133,
          19.092287063598633,
          15.592986106872559,
          15.944695472717285,
          17.2345027923584,
          18.30864906311035,
          15.861748695373535,
          16.907079696655273,
          16.636051177978516,
          15.965005874633789,
          15.809741020202637,
          19.368263244628906,
          16.28518295288086,
          18.225784301757812,
          18.817556381225586,
          18.472087860107422,
          15.71750259399414,
          16.558591842651367,
          17.697734832763672,
          15.627626419067383,
          18.190021514892578,
          19.56092643737793,
          19.759727478027344,
          15.707267761230469,
          16.972644805908203,
          16.202451705932617,
          16.5205020904541
         ]
        }
       ],
       "layout": {
        "legend": {
         "tracegroupgap": 0
        },
        "margin": {
         "t": 60
        },
        "scene": {
         "domain": {
          "x": [
           0,
           1
          ],
          "y": [
           0,
           1
          ]
         },
         "xaxis": {
          "title": {
           "text": "UMAP_1"
          }
         },
         "yaxis": {
          "title": {
           "text": "UMAP_2"
          }
         },
         "zaxis": {
          "title": {
           "text": "UMAP_3"
          }
         }
        },
        "template": {
         "data": {
          "bar": [
           {
            "error_x": {
             "color": "#2a3f5f"
            },
            "error_y": {
             "color": "#2a3f5f"
            },
            "marker": {
             "line": {
              "color": "#E5ECF6",
              "width": 0.5
             },
             "pattern": {
              "fillmode": "overlay",
              "size": 10,
              "solidity": 0.2
             }
            },
            "type": "bar"
           }
          ],
          "barpolar": [
           {
            "marker": {
             "line": {
              "color": "#E5ECF6",
              "width": 0.5
             },
             "pattern": {
              "fillmode": "overlay",
              "size": 10,
              "solidity": 0.2
             }
            },
            "type": "barpolar"
           }
          ],
          "carpet": [
           {
            "aaxis": {
             "endlinecolor": "#2a3f5f",
             "gridcolor": "white",
             "linecolor": "white",
             "minorgridcolor": "white",
             "startlinecolor": "#2a3f5f"
            },
            "baxis": {
             "endlinecolor": "#2a3f5f",
             "gridcolor": "white",
             "linecolor": "white",
             "minorgridcolor": "white",
             "startlinecolor": "#2a3f5f"
            },
            "type": "carpet"
           }
          ],
          "choropleth": [
           {
            "colorbar": {
             "outlinewidth": 0,
             "ticks": ""
            },
            "type": "choropleth"
           }
          ],
          "contour": [
           {
            "colorbar": {
             "outlinewidth": 0,
             "ticks": ""
            },
            "colorscale": [
             [
              0,
              "#0d0887"
             ],
             [
              0.1111111111111111,
              "#46039f"
             ],
             [
              0.2222222222222222,
              "#7201a8"
             ],
             [
              0.3333333333333333,
              "#9c179e"
             ],
             [
              0.4444444444444444,
              "#bd3786"
             ],
             [
              0.5555555555555556,
              "#d8576b"
             ],
             [
              0.6666666666666666,
              "#ed7953"
             ],
             [
              0.7777777777777778,
              "#fb9f3a"
             ],
             [
              0.8888888888888888,
              "#fdca26"
             ],
             [
              1,
              "#f0f921"
             ]
            ],
            "type": "contour"
           }
          ],
          "contourcarpet": [
           {
            "colorbar": {
             "outlinewidth": 0,
             "ticks": ""
            },
            "type": "contourcarpet"
           }
          ],
          "heatmap": [
           {
            "colorbar": {
             "outlinewidth": 0,
             "ticks": ""
            },
            "colorscale": [
             [
              0,
              "#0d0887"
             ],
             [
              0.1111111111111111,
              "#46039f"
             ],
             [
              0.2222222222222222,
              "#7201a8"
             ],
             [
              0.3333333333333333,
              "#9c179e"
             ],
             [
              0.4444444444444444,
              "#bd3786"
             ],
             [
              0.5555555555555556,
              "#d8576b"
             ],
             [
              0.6666666666666666,
              "#ed7953"
             ],
             [
              0.7777777777777778,
              "#fb9f3a"
             ],
             [
              0.8888888888888888,
              "#fdca26"
             ],
             [
              1,
              "#f0f921"
             ]
            ],
            "type": "heatmap"
           }
          ],
          "heatmapgl": [
           {
            "colorbar": {
             "outlinewidth": 0,
             "ticks": ""
            },
            "colorscale": [
             [
              0,
              "#0d0887"
             ],
             [
              0.1111111111111111,
              "#46039f"
             ],
             [
              0.2222222222222222,
              "#7201a8"
             ],
             [
              0.3333333333333333,
              "#9c179e"
             ],
             [
              0.4444444444444444,
              "#bd3786"
             ],
             [
              0.5555555555555556,
              "#d8576b"
             ],
             [
              0.6666666666666666,
              "#ed7953"
             ],
             [
              0.7777777777777778,
              "#fb9f3a"
             ],
             [
              0.8888888888888888,
              "#fdca26"
             ],
             [
              1,
              "#f0f921"
             ]
            ],
            "type": "heatmapgl"
           }
          ],
          "histogram": [
           {
            "marker": {
             "pattern": {
              "fillmode": "overlay",
              "size": 10,
              "solidity": 0.2
             }
            },
            "type": "histogram"
           }
          ],
          "histogram2d": [
           {
            "colorbar": {
             "outlinewidth": 0,
             "ticks": ""
            },
            "colorscale": [
             [
              0,
              "#0d0887"
             ],
             [
              0.1111111111111111,
              "#46039f"
             ],
             [
              0.2222222222222222,
              "#7201a8"
             ],
             [
              0.3333333333333333,
              "#9c179e"
             ],
             [
              0.4444444444444444,
              "#bd3786"
             ],
             [
              0.5555555555555556,
              "#d8576b"
             ],
             [
              0.6666666666666666,
              "#ed7953"
             ],
             [
              0.7777777777777778,
              "#fb9f3a"
             ],
             [
              0.8888888888888888,
              "#fdca26"
             ],
             [
              1,
              "#f0f921"
             ]
            ],
            "type": "histogram2d"
           }
          ],
          "histogram2dcontour": [
           {
            "colorbar": {
             "outlinewidth": 0,
             "ticks": ""
            },
            "colorscale": [
             [
              0,
              "#0d0887"
             ],
             [
              0.1111111111111111,
              "#46039f"
             ],
             [
              0.2222222222222222,
              "#7201a8"
             ],
             [
              0.3333333333333333,
              "#9c179e"
             ],
             [
              0.4444444444444444,
              "#bd3786"
             ],
             [
              0.5555555555555556,
              "#d8576b"
             ],
             [
              0.6666666666666666,
              "#ed7953"
             ],
             [
              0.7777777777777778,
              "#fb9f3a"
             ],
             [
              0.8888888888888888,
              "#fdca26"
             ],
             [
              1,
              "#f0f921"
             ]
            ],
            "type": "histogram2dcontour"
           }
          ],
          "mesh3d": [
           {
            "colorbar": {
             "outlinewidth": 0,
             "ticks": ""
            },
            "type": "mesh3d"
           }
          ],
          "parcoords": [
           {
            "line": {
             "colorbar": {
              "outlinewidth": 0,
              "ticks": ""
             }
            },
            "type": "parcoords"
           }
          ],
          "pie": [
           {
            "automargin": true,
            "type": "pie"
           }
          ],
          "scatter": [
           {
            "fillpattern": {
             "fillmode": "overlay",
             "size": 10,
             "solidity": 0.2
            },
            "type": "scatter"
           }
          ],
          "scatter3d": [
           {
            "line": {
             "colorbar": {
              "outlinewidth": 0,
              "ticks": ""
             }
            },
            "marker": {
             "colorbar": {
              "outlinewidth": 0,
              "ticks": ""
             }
            },
            "type": "scatter3d"
           }
          ],
          "scattercarpet": [
           {
            "marker": {
             "colorbar": {
              "outlinewidth": 0,
              "ticks": ""
             }
            },
            "type": "scattercarpet"
           }
          ],
          "scattergeo": [
           {
            "marker": {
             "colorbar": {
              "outlinewidth": 0,
              "ticks": ""
             }
            },
            "type": "scattergeo"
           }
          ],
          "scattergl": [
           {
            "marker": {
             "colorbar": {
              "outlinewidth": 0,
              "ticks": ""
             }
            },
            "type": "scattergl"
           }
          ],
          "scattermapbox": [
           {
            "marker": {
             "colorbar": {
              "outlinewidth": 0,
              "ticks": ""
             }
            },
            "type": "scattermapbox"
           }
          ],
          "scatterpolar": [
           {
            "marker": {
             "colorbar": {
              "outlinewidth": 0,
              "ticks": ""
             }
            },
            "type": "scatterpolar"
           }
          ],
          "scatterpolargl": [
           {
            "marker": {
             "colorbar": {
              "outlinewidth": 0,
              "ticks": ""
             }
            },
            "type": "scatterpolargl"
           }
          ],
          "scatterternary": [
           {
            "marker": {
             "colorbar": {
              "outlinewidth": 0,
              "ticks": ""
             }
            },
            "type": "scatterternary"
           }
          ],
          "surface": [
           {
            "colorbar": {
             "outlinewidth": 0,
             "ticks": ""
            },
            "colorscale": [
             [
              0,
              "#0d0887"
             ],
             [
              0.1111111111111111,
              "#46039f"
             ],
             [
              0.2222222222222222,
              "#7201a8"
             ],
             [
              0.3333333333333333,
              "#9c179e"
             ],
             [
              0.4444444444444444,
              "#bd3786"
             ],
             [
              0.5555555555555556,
              "#d8576b"
             ],
             [
              0.6666666666666666,
              "#ed7953"
             ],
             [
              0.7777777777777778,
              "#fb9f3a"
             ],
             [
              0.8888888888888888,
              "#fdca26"
             ],
             [
              1,
              "#f0f921"
             ]
            ],
            "type": "surface"
           }
          ],
          "table": [
           {
            "cells": {
             "fill": {
              "color": "#EBF0F8"
             },
             "line": {
              "color": "white"
             }
            },
            "header": {
             "fill": {
              "color": "#C8D4E3"
             },
             "line": {
              "color": "white"
             }
            },
            "type": "table"
           }
          ]
         },
         "layout": {
          "annotationdefaults": {
           "arrowcolor": "#2a3f5f",
           "arrowhead": 0,
           "arrowwidth": 1
          },
          "autotypenumbers": "strict",
          "coloraxis": {
           "colorbar": {
            "outlinewidth": 0,
            "ticks": ""
           }
          },
          "colorscale": {
           "diverging": [
            [
             0,
             "#8e0152"
            ],
            [
             0.1,
             "#c51b7d"
            ],
            [
             0.2,
             "#de77ae"
            ],
            [
             0.3,
             "#f1b6da"
            ],
            [
             0.4,
             "#fde0ef"
            ],
            [
             0.5,
             "#f7f7f7"
            ],
            [
             0.6,
             "#e6f5d0"
            ],
            [
             0.7,
             "#b8e186"
            ],
            [
             0.8,
             "#7fbc41"
            ],
            [
             0.9,
             "#4d9221"
            ],
            [
             1,
             "#276419"
            ]
           ],
           "sequential": [
            [
             0,
             "#0d0887"
            ],
            [
             0.1111111111111111,
             "#46039f"
            ],
            [
             0.2222222222222222,
             "#7201a8"
            ],
            [
             0.3333333333333333,
             "#9c179e"
            ],
            [
             0.4444444444444444,
             "#bd3786"
            ],
            [
             0.5555555555555556,
             "#d8576b"
            ],
            [
             0.6666666666666666,
             "#ed7953"
            ],
            [
             0.7777777777777778,
             "#fb9f3a"
            ],
            [
             0.8888888888888888,
             "#fdca26"
            ],
            [
             1,
             "#f0f921"
            ]
           ],
           "sequentialminus": [
            [
             0,
             "#0d0887"
            ],
            [
             0.1111111111111111,
             "#46039f"
            ],
            [
             0.2222222222222222,
             "#7201a8"
            ],
            [
             0.3333333333333333,
             "#9c179e"
            ],
            [
             0.4444444444444444,
             "#bd3786"
            ],
            [
             0.5555555555555556,
             "#d8576b"
            ],
            [
             0.6666666666666666,
             "#ed7953"
            ],
            [
             0.7777777777777778,
             "#fb9f3a"
            ],
            [
             0.8888888888888888,
             "#fdca26"
            ],
            [
             1,
             "#f0f921"
            ]
           ]
          },
          "colorway": [
           "#636efa",
           "#EF553B",
           "#00cc96",
           "#ab63fa",
           "#FFA15A",
           "#19d3f3",
           "#FF6692",
           "#B6E880",
           "#FF97FF",
           "#FECB52"
          ],
          "font": {
           "color": "#2a3f5f"
          },
          "geo": {
           "bgcolor": "white",
           "lakecolor": "white",
           "landcolor": "#E5ECF6",
           "showlakes": true,
           "showland": true,
           "subunitcolor": "white"
          },
          "hoverlabel": {
           "align": "left"
          },
          "hovermode": "closest",
          "mapbox": {
           "style": "light"
          },
          "paper_bgcolor": "white",
          "plot_bgcolor": "#E5ECF6",
          "polar": {
           "angularaxis": {
            "gridcolor": "white",
            "linecolor": "white",
            "ticks": ""
           },
           "bgcolor": "#E5ECF6",
           "radialaxis": {
            "gridcolor": "white",
            "linecolor": "white",
            "ticks": ""
           }
          },
          "scene": {
           "xaxis": {
            "backgroundcolor": "#E5ECF6",
            "gridcolor": "white",
            "gridwidth": 2,
            "linecolor": "white",
            "showbackground": true,
            "ticks": "",
            "zerolinecolor": "white"
           },
           "yaxis": {
            "backgroundcolor": "#E5ECF6",
            "gridcolor": "white",
            "gridwidth": 2,
            "linecolor": "white",
            "showbackground": true,
            "ticks": "",
            "zerolinecolor": "white"
           },
           "zaxis": {
            "backgroundcolor": "#E5ECF6",
            "gridcolor": "white",
            "gridwidth": 2,
            "linecolor": "white",
            "showbackground": true,
            "ticks": "",
            "zerolinecolor": "white"
           }
          },
          "shapedefaults": {
           "line": {
            "color": "#2a3f5f"
           }
          },
          "ternary": {
           "aaxis": {
            "gridcolor": "white",
            "linecolor": "white",
            "ticks": ""
           },
           "baxis": {
            "gridcolor": "white",
            "linecolor": "white",
            "ticks": ""
           },
           "bgcolor": "#E5ECF6",
           "caxis": {
            "gridcolor": "white",
            "linecolor": "white",
            "ticks": ""
           }
          },
          "title": {
           "x": 0.05
          },
          "xaxis": {
           "automargin": true,
           "gridcolor": "white",
           "linecolor": "white",
           "ticks": "",
           "title": {
            "standoff": 15
           },
           "zerolinecolor": "white",
           "zerolinewidth": 2
          },
          "yaxis": {
           "automargin": true,
           "gridcolor": "white",
           "linecolor": "white",
           "ticks": "",
           "title": {
            "standoff": 15
           },
           "zerolinecolor": "white",
           "zerolinewidth": 2
          }
         }
        }
       }
      }
     },
     "metadata": {},
     "output_type": "display_data"
    }
   ],
   "source": [
    "# Create a UMAP model with 3 components\n",
    "umap_model = umap.UMAP(n_components=3)\n",
    "\n",
    "# Fit the UMAP model to the embeddings\n",
    "X_umap = umap_model.fit_transform(embeddings_menu.values)\n",
    "\n",
    "# Create a dataframe with the UMAP embeddings\n",
    "umap_df = pd.DataFrame(X_umap, columns=['UMAP_1', 'UMAP_2', 'UMAP_3'])\n",
    "\n",
    "# Create a 3D scatter plot with Plotly\n",
    "fig = px.scatter_3d(umap_df, x='UMAP_1', y='UMAP_2', z='UMAP_3', hover_data=[df['menu']])\n",
    "fig.show()\n"
   ]
  },
  {
   "cell_type": "markdown",
   "metadata": {},
   "source": [
    "## Sélection des variables, preprocessing et entraînement du modèle"
   ]
  },
  {
   "cell_type": "code",
   "execution_count": 20,
   "metadata": {
    "is_executing": true
   },
   "outputs": [],
   "source": [
    "# Définir les colonnes à utiliser pour notre X ( les features ) et nos Y ( les targets )\n",
    "\n",
    "# Attention, votre selection peut être différente de la mienne, en fonction de vos choix de features,\n",
    "# vous pouvez/devez vous réferer à votre notebook 2_Exploration_des_Données.ipynb\n",
    "\n",
    "numerical_features = ['effectif', 'taux_grevistes', 'inc_grippe', 'inc_gastro', 'inc_varicelle', 'prevision']\n",
    "\n",
    "numerical_features += ['pca_{}'.format(i) for i in range(1, n_components + 1)]\n",
    "\n",
    "categorical_features = ['veille_ferie', 'retour_ferie', 'vacances', 'retour_vacances', 'veille_vacances',\n",
    "                        'fete_musulmane', 'ramadan', 'fete_chretienne', 'fete_juive', 'repas_noel', 'porc', 'viande',\n",
    "                        'poisson', '4_premiers_jours', '4_derniers_jours', 'Entrée_Bio', 'Plat_Bio', 'Accompagnement_Bio', 'Fromage_Bio', 'Dessert_Bio']\n",
    "\n",
    "\n",
    "list_targets = ['reel', 'gaspillage_pourcentage']\n",
    "\n",
    "\n",
    "\n",
    "# Création de notre X et de nos Y\n",
    "\n",
    "X = df[numerical_features + categorical_features]\n",
    "\n",
    "#X = pd.get_dummies(X, columns=categorical_features)\n",
    "\n",
    "Y_gaspillage_pourcentage = df['gaspillage_pourcentage']\n",
    "\n",
    "Y_affluence_reelle = df['reel']"
   ]
  },
  {
   "cell_type": "markdown",
   "metadata": {},
   "source": [
    "### Split en Dataset d'entraînement et de test"
   ]
  },
  {
   "cell_type": "code",
   "execution_count": 21,
   "metadata": {
    "is_executing": true
   },
   "outputs": [],
   "source": [
    "# Création de nos datasets de train et de test\n",
    "\n",
    "X_train, X_test, y_train_gaspillage_pourcentage, y_test_gaspillage_pourcentage, y_train_affluence_reelle, y_test_affluence_reelle = train_test_split(\n",
    "    X, Y_gaspillage_pourcentage, Y_affluence_reelle, test_size=0.2, random_state=42)"
   ]
  },
  {
   "cell_type": "markdown",
   "metadata": {},
   "source": [
    "## Preprocessing des données\n",
    "\n",
    "Afin de préparer nos données pour l'entraînement des modèles, nous allons effectuer les opérations suivantes :\n",
    "\n",
    "- Pour les variables numériques : \n",
    "  - Scaling des données\n"
   ]
  },
  {
   "cell_type": "code",
   "execution_count": 22,
   "metadata": {
    "is_executing": true
   },
   "outputs": [],
   "source": [
    "# Créer les transformers pour le prétraitement des données\n",
    "\n",
    "numerical_preprocessing = Pipeline(steps=[\n",
    "    ('scaler', StandardScaler())])\n",
    "    \n",
    "categories_preprocessing = Pipeline(steps=[\n",
    "    ('onehot', OneHotEncoder(handle_unknown='ignore'))])\n",
    "\n",
    "# Créer le ColumnTransformer pour appliquer les transformers sur les colonnes concernées\n",
    "\n",
    "preprocessor = ColumnTransformer(\n",
    "    transformers=[\n",
    "        ('num', numerical_preprocessing, numerical_features),\n",
    "        ('cat', categories_preprocessing, categorical_features)],\n",
    "        remainder='passthrough')\n",
    "\n",
    "\n"
   ]
  },
  {
   "cell_type": "code",
   "execution_count": 23,
   "metadata": {
    "is_executing": true
   },
   "outputs": [
    {
     "name": "stderr",
     "output_type": "stream",
     "text": [
      "100%|██████████| 5/5 [00:03<00:00,  1.37it/s]\n"
     ]
    },
    {
     "data": {
      "text/html": [
       "<div>\n",
       "<style scoped>\n",
       "    .dataframe tbody tr th:only-of-type {\n",
       "        vertical-align: middle;\n",
       "    }\n",
       "\n",
       "    .dataframe tbody tr th {\n",
       "        vertical-align: top;\n",
       "    }\n",
       "\n",
       "    .dataframe thead th {\n",
       "        text-align: right;\n",
       "    }\n",
       "</style>\n",
       "<table border=\"1\" class=\"dataframe\">\n",
       "  <thead>\n",
       "    <tr style=\"text-align: right;\">\n",
       "      <th></th>\n",
       "      <th>Modèle</th>\n",
       "      <th>R2 Score affluence</th>\n",
       "      <th>MAE affluence</th>\n",
       "      <th>R2 Score gaspillage</th>\n",
       "      <th>MAE gaspillage</th>\n",
       "    </tr>\n",
       "  </thead>\n",
       "  <tbody>\n",
       "    <tr>\n",
       "      <th>0</th>\n",
       "      <td>RandomForestRegressor</td>\n",
       "      <td>0.68</td>\n",
       "      <td>387.18</td>\n",
       "      <td>0.15</td>\n",
       "      <td>2.37</td>\n",
       "    </tr>\n",
       "    <tr>\n",
       "      <th>1</th>\n",
       "      <td>ElasticNet</td>\n",
       "      <td>0.63</td>\n",
       "      <td>507.14</td>\n",
       "      <td>-0.02</td>\n",
       "      <td>2.94</td>\n",
       "    </tr>\n",
       "    <tr>\n",
       "      <th>2</th>\n",
       "      <td>SVR_linear</td>\n",
       "      <td>0.66</td>\n",
       "      <td>420.22</td>\n",
       "      <td>0.18</td>\n",
       "      <td>2.23</td>\n",
       "    </tr>\n",
       "    <tr>\n",
       "      <th>3</th>\n",
       "      <td>SVR_rbf</td>\n",
       "      <td>0.03</td>\n",
       "      <td>896.57</td>\n",
       "      <td>0.05</td>\n",
       "      <td>2.41</td>\n",
       "    </tr>\n",
       "    <tr>\n",
       "      <th>4</th>\n",
       "      <td>XGBRegressor</td>\n",
       "      <td>0.59</td>\n",
       "      <td>409.06</td>\n",
       "      <td>-0.85</td>\n",
       "      <td>2.99</td>\n",
       "    </tr>\n",
       "  </tbody>\n",
       "</table>\n",
       "</div>"
      ],
      "text/plain": [
       "                  Modèle  R2 Score affluence  MAE affluence  \\\n",
       "0  RandomForestRegressor                0.68         387.18   \n",
       "1             ElasticNet                0.63         507.14   \n",
       "2             SVR_linear                0.66         420.22   \n",
       "3                SVR_rbf                0.03         896.57   \n",
       "4           XGBRegressor                0.59         409.06   \n",
       "\n",
       "   R2 Score gaspillage  MAE gaspillage  \n",
       "0                 0.15            2.37  \n",
       "1                -0.02            2.94  \n",
       "2                 0.18            2.23  \n",
       "3                 0.05            2.41  \n",
       "4                -0.85            2.99  "
      ]
     },
     "execution_count": 23,
     "metadata": {},
     "output_type": "execute_result"
    }
   ],
   "source": [
    "# Créer une liste de modèles de regression à tester\n",
    "from sklearn.linear_model import ElasticNet\n",
    "from sklearn.ensemble import RandomForestRegressor\n",
    "from sklearn.svm import SVR\n",
    "from xgboost import XGBRegressor\n",
    "from sklearn.metrics import mean_absolute_error, mean_squared_error\n",
    "\n",
    "models = [RandomForestRegressor(n_estimators=100, max_depth=10, random_state=42),\n",
    "            ElasticNet(random_state=42),\n",
    "            SVR(kernel='linear'),\n",
    "            SVR(kernel='rbf'),\n",
    "            XGBRegressor(random_state=42, n_estimators=100, max_depth=10)]\n",
    "\n",
    "\n",
    "# Créer une liste de noms de modèles de regression à tester\n",
    "model_names = ['RandomForestRegressor',\n",
    "               'ElasticNet',\n",
    "               'SVR_linear',\n",
    "               'SVR_rbf',\n",
    "               'XGBRegressor']\n",
    "\n",
    "# Créer une liste pour stocker les scores de chaque modèle\n",
    "\n",
    "scores_gaspillage_pourcentage = []\n",
    "scores_affluence_reelle = []\n",
    "mean_absolute_error_gaspillage_pourcentage = []\n",
    "mean_absolute_error_affluence_reelle = []\n",
    "mean_squared_error_gaspillage_pourcentage = []\n",
    "mean_squared_error_affluence_reelle = []\n",
    "\n",
    "# Pour chaque modèle, appliquer le pipeline de preprocessing, entraîner le modèle, prédire sur l'ensemble de test et calculer le score\n",
    "\n",
    "for model in tqdm(models):\n",
    "    pipeline_affluence_reelle = Pipeline(steps=[('preprocessor', preprocessor),\n",
    "                                                    ('model', model)])\n",
    "    pipeline_affluence_reelle.fit(X_train, y_train_affluence_reelle)\n",
    "    y_pred_affluence_reelle = pipeline_affluence_reelle.predict(X_test)\n",
    "    score_affluence_reelle = r2_score(y_test_affluence_reelle, y_pred_affluence_reelle)\n",
    "    mae_affluence_reelle = mean_absolute_error(y_test_affluence_reelle, y_pred_affluence_reelle)\n",
    "    mse_affluence_reelle = mean_squared_error(y_test_affluence_reelle, y_pred_affluence_reelle)\n",
    "    scores_affluence_reelle.append(score_affluence_reelle)\n",
    "    mean_absolute_error_affluence_reelle.append(mae_affluence_reelle)\n",
    "    \n",
    "    pipeline_gaspillage_pourcentage = Pipeline(steps=[('preprocessor', preprocessor),\n",
    "                                                    ('model', model)])\n",
    "    pipeline_gaspillage_pourcentage.fit(X_train, y_train_gaspillage_pourcentage)\n",
    "    y_pred_gaspillage_pourcentage = pipeline_gaspillage_pourcentage.predict(X_test)\n",
    "    score_gaspillage_pourcentage = r2_score(y_test_gaspillage_pourcentage, y_pred_gaspillage_pourcentage)\n",
    "    mae_gaspillage_pourcentage = mean_absolute_error(y_test_gaspillage_pourcentage, y_pred_gaspillage_pourcentage)\n",
    "    mse_gaspillage_pourcentage = mean_squared_error(y_test_gaspillage_pourcentage, y_pred_gaspillage_pourcentage)\n",
    "    scores_gaspillage_pourcentage.append(score_gaspillage_pourcentage)\n",
    "    mean_absolute_error_gaspillage_pourcentage.append(mae_gaspillage_pourcentage)\n",
    "    \n",
    "\n",
    "\n",
    "\n",
    "# Créer un dataframe avec les scores de chaque modèle arrondis à 2 chiffres après la virgule\n",
    "\n",
    "scores_df = pd.DataFrame({'Modèle': model_names,\n",
    "                          'R2 Score affluence': scores_affluence_reelle,\n",
    "                          'MAE affluence': mean_absolute_error_affluence_reelle,\n",
    "                            'R2 Score gaspillage': scores_gaspillage_pourcentage,\n",
    "                            'MAE gaspillage': mean_absolute_error_gaspillage_pourcentage})\n",
    "\n",
    "scores_df = scores_df.round(2)\n",
    "\n",
    "# Afficher le dataframe\n",
    "\n",
    "scores_df"
   ]
  },
  {
   "cell_type": "code",
   "execution_count": 24,
   "metadata": {
    "collapsed": false,
    "is_executing": true
   },
   "outputs": [
    {
     "data": {
      "application/vnd.jupyter.widget-view+json": {
       "model_id": "0dc9c5bbdb8f4e418e6de333efa85660",
       "version_major": 2,
       "version_minor": 0
      },
      "text/plain": [
       "Optimization Progress:   0%|          | 0/1100 [00:00<?, ?pipeline/s]"
      ]
     },
     "metadata": {},
     "output_type": "display_data"
    },
    {
     "name": "stdout",
     "output_type": "stream",
     "text": [
      "\n",
      "Generation 1 - Current best internal CV score: 0.6024730736520638\n",
      "\n",
      "Generation 2 - Current best internal CV score: 0.6024730736520638\n",
      "\n",
      "Generation 3 - Current best internal CV score: 0.6024730736520638\n",
      "\n",
      "Generation 4 - Current best internal CV score: 0.6024730736520638\n",
      "\n",
      "Generation 5 - Current best internal CV score: 0.6024730736520638\n",
      "\n",
      "Generation 6 - Current best internal CV score: 0.6024730736520638\n",
      "\n",
      "Generation 7 - Current best internal CV score: 0.6077315666584845\n",
      "\n",
      "Generation 8 - Current best internal CV score: 0.6103776013482308\n",
      "\n",
      "Generation 9 - Current best internal CV score: 0.6103776013482308\n",
      "\n",
      "Generation 10 - Current best internal CV score: 0.6200850031727193\n",
      "\n",
      "Best pipeline: RandomForestRegressor(RidgeCV(XGBRegressor(input_matrix, learning_rate=0.1, max_depth=8, min_child_weight=16, n_estimators=100, n_jobs=1, objective=reg:squarederror, subsample=0.8500000000000001, verbosity=0)), bootstrap=False, max_features=0.35000000000000003, min_samples_leaf=3, min_samples_split=4, n_estimators=100)\n"
     ]
    },
    {
     "data": {
      "text/html": [
       "<style>#sk-container-id-2 {color: black;}#sk-container-id-2 pre{padding: 0;}#sk-container-id-2 div.sk-toggleable {background-color: white;}#sk-container-id-2 label.sk-toggleable__label {cursor: pointer;display: block;width: 100%;margin-bottom: 0;padding: 0.3em;box-sizing: border-box;text-align: center;}#sk-container-id-2 label.sk-toggleable__label-arrow:before {content: \"▸\";float: left;margin-right: 0.25em;color: #696969;}#sk-container-id-2 label.sk-toggleable__label-arrow:hover:before {color: black;}#sk-container-id-2 div.sk-estimator:hover label.sk-toggleable__label-arrow:before {color: black;}#sk-container-id-2 div.sk-toggleable__content {max-height: 0;max-width: 0;overflow: hidden;text-align: left;background-color: #f0f8ff;}#sk-container-id-2 div.sk-toggleable__content pre {margin: 0.2em;color: black;border-radius: 0.25em;background-color: #f0f8ff;}#sk-container-id-2 input.sk-toggleable__control:checked~div.sk-toggleable__content {max-height: 200px;max-width: 100%;overflow: auto;}#sk-container-id-2 input.sk-toggleable__control:checked~label.sk-toggleable__label-arrow:before {content: \"▾\";}#sk-container-id-2 div.sk-estimator input.sk-toggleable__control:checked~label.sk-toggleable__label {background-color: #d4ebff;}#sk-container-id-2 div.sk-label input.sk-toggleable__control:checked~label.sk-toggleable__label {background-color: #d4ebff;}#sk-container-id-2 input.sk-hidden--visually {border: 0;clip: rect(1px 1px 1px 1px);clip: rect(1px, 1px, 1px, 1px);height: 1px;margin: -1px;overflow: hidden;padding: 0;position: absolute;width: 1px;}#sk-container-id-2 div.sk-estimator {font-family: monospace;background-color: #f0f8ff;border: 1px dotted black;border-radius: 0.25em;box-sizing: border-box;margin-bottom: 0.5em;}#sk-container-id-2 div.sk-estimator:hover {background-color: #d4ebff;}#sk-container-id-2 div.sk-parallel-item::after {content: \"\";width: 100%;border-bottom: 1px solid gray;flex-grow: 1;}#sk-container-id-2 div.sk-label:hover label.sk-toggleable__label {background-color: #d4ebff;}#sk-container-id-2 div.sk-serial::before {content: \"\";position: absolute;border-left: 1px solid gray;box-sizing: border-box;top: 0;bottom: 0;left: 50%;z-index: 0;}#sk-container-id-2 div.sk-serial {display: flex;flex-direction: column;align-items: center;background-color: white;padding-right: 0.2em;padding-left: 0.2em;position: relative;}#sk-container-id-2 div.sk-item {position: relative;z-index: 1;}#sk-container-id-2 div.sk-parallel {display: flex;align-items: stretch;justify-content: center;background-color: white;position: relative;}#sk-container-id-2 div.sk-item::before, #sk-container-id-2 div.sk-parallel-item::before {content: \"\";position: absolute;border-left: 1px solid gray;box-sizing: border-box;top: 0;bottom: 0;left: 50%;z-index: -1;}#sk-container-id-2 div.sk-parallel-item {display: flex;flex-direction: column;z-index: 1;position: relative;background-color: white;}#sk-container-id-2 div.sk-parallel-item:first-child::after {align-self: flex-end;width: 50%;}#sk-container-id-2 div.sk-parallel-item:last-child::after {align-self: flex-start;width: 50%;}#sk-container-id-2 div.sk-parallel-item:only-child::after {width: 0;}#sk-container-id-2 div.sk-dashed-wrapped {border: 1px dashed gray;margin: 0 0.4em 0.5em 0.4em;box-sizing: border-box;padding-bottom: 0.4em;background-color: white;}#sk-container-id-2 div.sk-label label {font-family: monospace;font-weight: bold;display: inline-block;line-height: 1.2em;}#sk-container-id-2 div.sk-label-container {text-align: center;}#sk-container-id-2 div.sk-container {/* jupyter's `normalize.less` sets `[hidden] { display: none; }` but bootstrap.min.css set `[hidden] { display: none !important; }` so we also need the `!important` here to be able to override the default hidden behavior on the sphinx rendered scikit-learn.org. See: https://github.com/scikit-learn/scikit-learn/issues/21755 */display: inline-block !important;position: relative;}#sk-container-id-2 div.sk-text-repr-fallback {display: none;}</style><div id=\"sk-container-id-2\" class=\"sk-top-container\"><div class=\"sk-text-repr-fallback\"><pre>TPOTRegressor(config_dict=&#x27;TPOT sparse&#x27;, generations=10, n_jobs=-1,\n",
       "              random_state=42, scoring=&#x27;r2&#x27;, verbosity=2)</pre><b>In a Jupyter environment, please rerun this cell to show the HTML representation or trust the notebook. <br />On GitHub, the HTML representation is unable to render, please try loading this page with nbviewer.org.</b></div><div class=\"sk-container\" hidden><div class=\"sk-item\"><div class=\"sk-estimator sk-toggleable\"><input class=\"sk-toggleable__control sk-hidden--visually\" id=\"sk-estimator-id-2\" type=\"checkbox\" checked><label for=\"sk-estimator-id-2\" class=\"sk-toggleable__label sk-toggleable__label-arrow\">TPOTRegressor</label><div class=\"sk-toggleable__content\"><pre>TPOTRegressor(config_dict=&#x27;TPOT sparse&#x27;, generations=10, n_jobs=-1,\n",
       "              random_state=42, scoring=&#x27;r2&#x27;, verbosity=2)</pre></div></div></div></div></div>"
      ],
      "text/plain": [
       "TPOTRegressor(config_dict='TPOT sparse', generations=10, n_jobs=-1,\n",
       "              random_state=42, scoring='r2', verbosity=2)"
      ]
     },
     "execution_count": 24,
     "metadata": {},
     "output_type": "execute_result"
    }
   ],
   "source": [
    "from tpot import TPOTRegressor\n",
    "X_train_scaled = preprocessor.fit_transform(X_train)\n",
    "X_test_scaled = preprocessor.transform(X_test)\n",
    "\n",
    "\n",
    "tpot = TPOTRegressor(generations=10, population_size=100, verbosity=2, random_state=42, n_jobs=-1, scoring='r2', config_dict='TPOT sparse' )\n",
    "tpot.fit(X_train_scaled, y_train_affluence_reelle)\n"
   ]
  },
  {
   "cell_type": "code",
   "execution_count": 26,
   "metadata": {
    "collapsed": false,
    "is_executing": true
   },
   "outputs": [
    {
     "data": {
      "text/plain": [
       "0.6487180014038989"
      ]
     },
     "execution_count": 26,
     "metadata": {},
     "output_type": "execute_result"
    }
   ],
   "source": [
    "tpot.score(X_test_scaled, y_test_affluence_reelle)\n",
    "\n"
   ]
  },
  {
   "cell_type": "code",
   "execution_count": 31,
   "metadata": {},
   "outputs": [
    {
     "data": {
      "text/plain": [
       "Index(['date', 'prevision', 'reel', 'effectif', 'taux_grevistes', 'nos', 'ind',\n",
       "       'greves_manquantes', 'menu', 'ferie', 'veille_ferie', 'retour_ferie',\n",
       "       'vacances', 'retour_vacances', 'veille_vacances', 'inc_grippe',\n",
       "       'inc_gastro', 'inc_varicelle', 'fete_musulmane', 'ramadan',\n",
       "       'fete_chretienne', 'fete_juive', 'jour', 'semaine', 'mois',\n",
       "       'annee_scolaire', 'repas_noel', 'gaspillage_volume',\n",
       "       'gaspillage_pourcentage', 'porc', 'viande', 'poisson',\n",
       "       '4_premiers_jours', '4_derniers_jours', 'Entrée', 'Plat',\n",
       "       'Accompagnement', 'Fromage', 'Dessert', 'Entrée Food Type',\n",
       "       'Plat Food Type', 'Accompagnement Food Type', 'Fromage Food Type',\n",
       "       'Dessert Food Type', 'Entrée_Bio', 'Plat_Bio', 'Accompagnement_Bio',\n",
       "       'Fromage_Bio', 'Dessert_Bio', 'pca_1', 'pca_2', 'pca_3', 'pca_4',\n",
       "       'pca_5', 'pca_6', 'pca_7', 'pca_8', 'pca_9', 'pca_10', 'pca_11',\n",
       "       'pca_12', 'pca_13', 'pca_14', 'pca_15', 'pca_16', 'pca_17', 'pca_18',\n",
       "       'pca_19', 'pca_20', 'affluence_reelle', 'affluence_reelle_predite'],\n",
       "      dtype='object')"
      ]
     },
     "execution_count": 31,
     "metadata": {},
     "output_type": "execute_result"
    }
   ],
   "source": [
    "data_dashboard = df\n",
    "data_dashboard['affluence_reelle'] = Y_affluence_reelle\n",
    "data_dashboard['gaspillage_pourcentage'] = Y_gaspillage_pourcentage\n",
    "data_dashboard['affluence_reelle_predite'] = tpot.predict(preprocessor.transform(X))\n",
    "data_dashboard.columns"
   ]
  },
  {
   "cell_type": "code",
   "execution_count": 35,
   "metadata": {},
   "outputs": [],
   "source": [
    "data_dashboard['gaspillage_predit'] = data_dashboard['affluence_reelle_predite'] - data_dashboard['affluence_reelle']\n",
    "data_dashboard['gaspillage_predit_pourcentage'] = data_dashboard['gaspillage_predit'] / data_dashboard['affluence_reelle_predite'] * 100"
   ]
  },
  {
   "cell_type": "code",
   "execution_count": 36,
   "metadata": {},
   "outputs": [
    {
     "ename": "KeyError",
     "evalue": "\"['pca_1', 'pca_2', 'pca_3', 'pca_4', 'pca_5', 'pca_6', 'pca_7', 'pca_8', 'pca_9', 'pca_10', 'pca_11', 'pca_12', 'pca_13', 'pca_14', 'pca_15', 'pca_16', 'pca_17', 'pca_18', 'pca_19', 'pca_20'] not found in axis\"",
     "output_type": "error",
     "traceback": [
      "\u001b[1;31m---------------------------------------------------------------------------\u001b[0m",
      "\u001b[1;31mKeyError\u001b[0m                                  Traceback (most recent call last)",
      "Cell \u001b[1;32mIn[36], line 1\u001b[0m\n\u001b[1;32m----> 1\u001b[0m \u001b[43mdata_dashboard\u001b[49m\u001b[38;5;241;43m.\u001b[39;49m\u001b[43mdrop\u001b[49m\u001b[43m(\u001b[49m\u001b[43mcolumns\u001b[49m\u001b[38;5;241;43m=\u001b[39;49m\u001b[43m[\u001b[49m\u001b[38;5;124;43m'\u001b[39;49m\u001b[38;5;124;43mpca_1\u001b[39;49m\u001b[38;5;124;43m'\u001b[39;49m\u001b[43m,\u001b[49m\u001b[43m \u001b[49m\u001b[38;5;124;43m'\u001b[39;49m\u001b[38;5;124;43mpca_2\u001b[39;49m\u001b[38;5;124;43m'\u001b[39;49m\u001b[43m,\u001b[49m\u001b[43m \u001b[49m\u001b[38;5;124;43m'\u001b[39;49m\u001b[38;5;124;43mpca_3\u001b[39;49m\u001b[38;5;124;43m'\u001b[39;49m\u001b[43m,\u001b[49m\u001b[43m \u001b[49m\u001b[38;5;124;43m'\u001b[39;49m\u001b[38;5;124;43mpca_4\u001b[39;49m\u001b[38;5;124;43m'\u001b[39;49m\u001b[43m,\u001b[49m\n\u001b[0;32m      2\u001b[0m \u001b[43m       \u001b[49m\u001b[38;5;124;43m'\u001b[39;49m\u001b[38;5;124;43mpca_5\u001b[39;49m\u001b[38;5;124;43m'\u001b[39;49m\u001b[43m,\u001b[49m\u001b[43m \u001b[49m\u001b[38;5;124;43m'\u001b[39;49m\u001b[38;5;124;43mpca_6\u001b[39;49m\u001b[38;5;124;43m'\u001b[39;49m\u001b[43m,\u001b[49m\u001b[43m \u001b[49m\u001b[38;5;124;43m'\u001b[39;49m\u001b[38;5;124;43mpca_7\u001b[39;49m\u001b[38;5;124;43m'\u001b[39;49m\u001b[43m,\u001b[49m\u001b[43m \u001b[49m\u001b[38;5;124;43m'\u001b[39;49m\u001b[38;5;124;43mpca_8\u001b[39;49m\u001b[38;5;124;43m'\u001b[39;49m\u001b[43m,\u001b[49m\u001b[43m \u001b[49m\u001b[38;5;124;43m'\u001b[39;49m\u001b[38;5;124;43mpca_9\u001b[39;49m\u001b[38;5;124;43m'\u001b[39;49m\u001b[43m,\u001b[49m\u001b[43m \u001b[49m\u001b[38;5;124;43m'\u001b[39;49m\u001b[38;5;124;43mpca_10\u001b[39;49m\u001b[38;5;124;43m'\u001b[39;49m\u001b[43m,\u001b[49m\u001b[43m \u001b[49m\u001b[38;5;124;43m'\u001b[39;49m\u001b[38;5;124;43mpca_11\u001b[39;49m\u001b[38;5;124;43m'\u001b[39;49m\u001b[43m,\u001b[49m\n\u001b[0;32m      3\u001b[0m \u001b[43m       \u001b[49m\u001b[38;5;124;43m'\u001b[39;49m\u001b[38;5;124;43mpca_12\u001b[39;49m\u001b[38;5;124;43m'\u001b[39;49m\u001b[43m,\u001b[49m\u001b[43m \u001b[49m\u001b[38;5;124;43m'\u001b[39;49m\u001b[38;5;124;43mpca_13\u001b[39;49m\u001b[38;5;124;43m'\u001b[39;49m\u001b[43m,\u001b[49m\u001b[43m \u001b[49m\u001b[38;5;124;43m'\u001b[39;49m\u001b[38;5;124;43mpca_14\u001b[39;49m\u001b[38;5;124;43m'\u001b[39;49m\u001b[43m,\u001b[49m\u001b[43m \u001b[49m\u001b[38;5;124;43m'\u001b[39;49m\u001b[38;5;124;43mpca_15\u001b[39;49m\u001b[38;5;124;43m'\u001b[39;49m\u001b[43m,\u001b[49m\u001b[43m \u001b[49m\u001b[38;5;124;43m'\u001b[39;49m\u001b[38;5;124;43mpca_16\u001b[39;49m\u001b[38;5;124;43m'\u001b[39;49m\u001b[43m,\u001b[49m\u001b[43m \u001b[49m\u001b[38;5;124;43m'\u001b[39;49m\u001b[38;5;124;43mpca_17\u001b[39;49m\u001b[38;5;124;43m'\u001b[39;49m\u001b[43m,\u001b[49m\u001b[43m \u001b[49m\u001b[38;5;124;43m'\u001b[39;49m\u001b[38;5;124;43mpca_18\u001b[39;49m\u001b[38;5;124;43m'\u001b[39;49m\u001b[43m,\u001b[49m\n\u001b[0;32m      4\u001b[0m \u001b[43m       \u001b[49m\u001b[38;5;124;43m'\u001b[39;49m\u001b[38;5;124;43mpca_19\u001b[39;49m\u001b[38;5;124;43m'\u001b[39;49m\u001b[43m,\u001b[49m\u001b[43m \u001b[49m\u001b[38;5;124;43m'\u001b[39;49m\u001b[38;5;124;43mpca_20\u001b[39;49m\u001b[38;5;124;43m'\u001b[39;49m\u001b[43m]\u001b[49m\u001b[43m,\u001b[49m\u001b[43m \u001b[49m\u001b[43minplace\u001b[49m\u001b[38;5;241;43m=\u001b[39;49m\u001b[38;5;28;43;01mTrue\u001b[39;49;00m\u001b[43m)\u001b[49m\n\u001b[0;32m      5\u001b[0m data_dashboard\u001b[38;5;241m.\u001b[39mcolumns\n",
      "File \u001b[1;32mc:\\Users\\renar\\miniconda3\\envs\\keskia\\Lib\\site-packages\\pandas\\core\\frame.py:5344\u001b[0m, in \u001b[0;36mDataFrame.drop\u001b[1;34m(self, labels, axis, index, columns, level, inplace, errors)\u001b[0m\n\u001b[0;32m   5196\u001b[0m \u001b[38;5;28;01mdef\u001b[39;00m \u001b[38;5;21mdrop\u001b[39m(\n\u001b[0;32m   5197\u001b[0m     \u001b[38;5;28mself\u001b[39m,\n\u001b[0;32m   5198\u001b[0m     labels: IndexLabel \u001b[38;5;241m|\u001b[39m \u001b[38;5;28;01mNone\u001b[39;00m \u001b[38;5;241m=\u001b[39m \u001b[38;5;28;01mNone\u001b[39;00m,\n\u001b[1;32m   (...)\u001b[0m\n\u001b[0;32m   5205\u001b[0m     errors: IgnoreRaise \u001b[38;5;241m=\u001b[39m \u001b[38;5;124m\"\u001b[39m\u001b[38;5;124mraise\u001b[39m\u001b[38;5;124m\"\u001b[39m,\n\u001b[0;32m   5206\u001b[0m ) \u001b[38;5;241m-\u001b[39m\u001b[38;5;241m>\u001b[39m DataFrame \u001b[38;5;241m|\u001b[39m \u001b[38;5;28;01mNone\u001b[39;00m:\n\u001b[0;32m   5207\u001b[0m \u001b[38;5;250m    \u001b[39m\u001b[38;5;124;03m\"\"\"\u001b[39;00m\n\u001b[0;32m   5208\u001b[0m \u001b[38;5;124;03m    Drop specified labels from rows or columns.\u001b[39;00m\n\u001b[0;32m   5209\u001b[0m \n\u001b[1;32m   (...)\u001b[0m\n\u001b[0;32m   5342\u001b[0m \u001b[38;5;124;03m            weight  1.0     0.8\u001b[39;00m\n\u001b[0;32m   5343\u001b[0m \u001b[38;5;124;03m    \"\"\"\u001b[39;00m\n\u001b[1;32m-> 5344\u001b[0m     \u001b[38;5;28;01mreturn\u001b[39;00m \u001b[38;5;28;43msuper\u001b[39;49m\u001b[43m(\u001b[49m\u001b[43m)\u001b[49m\u001b[38;5;241;43m.\u001b[39;49m\u001b[43mdrop\u001b[49m\u001b[43m(\u001b[49m\n\u001b[0;32m   5345\u001b[0m \u001b[43m        \u001b[49m\u001b[43mlabels\u001b[49m\u001b[38;5;241;43m=\u001b[39;49m\u001b[43mlabels\u001b[49m\u001b[43m,\u001b[49m\n\u001b[0;32m   5346\u001b[0m \u001b[43m        \u001b[49m\u001b[43maxis\u001b[49m\u001b[38;5;241;43m=\u001b[39;49m\u001b[43maxis\u001b[49m\u001b[43m,\u001b[49m\n\u001b[0;32m   5347\u001b[0m \u001b[43m        \u001b[49m\u001b[43mindex\u001b[49m\u001b[38;5;241;43m=\u001b[39;49m\u001b[43mindex\u001b[49m\u001b[43m,\u001b[49m\n\u001b[0;32m   5348\u001b[0m \u001b[43m        \u001b[49m\u001b[43mcolumns\u001b[49m\u001b[38;5;241;43m=\u001b[39;49m\u001b[43mcolumns\u001b[49m\u001b[43m,\u001b[49m\n\u001b[0;32m   5349\u001b[0m \u001b[43m        \u001b[49m\u001b[43mlevel\u001b[49m\u001b[38;5;241;43m=\u001b[39;49m\u001b[43mlevel\u001b[49m\u001b[43m,\u001b[49m\n\u001b[0;32m   5350\u001b[0m \u001b[43m        \u001b[49m\u001b[43minplace\u001b[49m\u001b[38;5;241;43m=\u001b[39;49m\u001b[43minplace\u001b[49m\u001b[43m,\u001b[49m\n\u001b[0;32m   5351\u001b[0m \u001b[43m        \u001b[49m\u001b[43merrors\u001b[49m\u001b[38;5;241;43m=\u001b[39;49m\u001b[43merrors\u001b[49m\u001b[43m,\u001b[49m\n\u001b[0;32m   5352\u001b[0m \u001b[43m    \u001b[49m\u001b[43m)\u001b[49m\n",
      "File \u001b[1;32mc:\\Users\\renar\\miniconda3\\envs\\keskia\\Lib\\site-packages\\pandas\\core\\generic.py:4711\u001b[0m, in \u001b[0;36mNDFrame.drop\u001b[1;34m(self, labels, axis, index, columns, level, inplace, errors)\u001b[0m\n\u001b[0;32m   4709\u001b[0m \u001b[38;5;28;01mfor\u001b[39;00m axis, labels \u001b[38;5;129;01min\u001b[39;00m axes\u001b[38;5;241m.\u001b[39mitems():\n\u001b[0;32m   4710\u001b[0m     \u001b[38;5;28;01mif\u001b[39;00m labels \u001b[38;5;129;01mis\u001b[39;00m \u001b[38;5;129;01mnot\u001b[39;00m \u001b[38;5;28;01mNone\u001b[39;00m:\n\u001b[1;32m-> 4711\u001b[0m         obj \u001b[38;5;241m=\u001b[39m \u001b[43mobj\u001b[49m\u001b[38;5;241;43m.\u001b[39;49m\u001b[43m_drop_axis\u001b[49m\u001b[43m(\u001b[49m\u001b[43mlabels\u001b[49m\u001b[43m,\u001b[49m\u001b[43m \u001b[49m\u001b[43maxis\u001b[49m\u001b[43m,\u001b[49m\u001b[43m \u001b[49m\u001b[43mlevel\u001b[49m\u001b[38;5;241;43m=\u001b[39;49m\u001b[43mlevel\u001b[49m\u001b[43m,\u001b[49m\u001b[43m \u001b[49m\u001b[43merrors\u001b[49m\u001b[38;5;241;43m=\u001b[39;49m\u001b[43merrors\u001b[49m\u001b[43m)\u001b[49m\n\u001b[0;32m   4713\u001b[0m \u001b[38;5;28;01mif\u001b[39;00m inplace:\n\u001b[0;32m   4714\u001b[0m     \u001b[38;5;28mself\u001b[39m\u001b[38;5;241m.\u001b[39m_update_inplace(obj)\n",
      "File \u001b[1;32mc:\\Users\\renar\\miniconda3\\envs\\keskia\\Lib\\site-packages\\pandas\\core\\generic.py:4753\u001b[0m, in \u001b[0;36mNDFrame._drop_axis\u001b[1;34m(self, labels, axis, level, errors, only_slice)\u001b[0m\n\u001b[0;32m   4751\u001b[0m         new_axis \u001b[38;5;241m=\u001b[39m axis\u001b[38;5;241m.\u001b[39mdrop(labels, level\u001b[38;5;241m=\u001b[39mlevel, errors\u001b[38;5;241m=\u001b[39merrors)\n\u001b[0;32m   4752\u001b[0m     \u001b[38;5;28;01melse\u001b[39;00m:\n\u001b[1;32m-> 4753\u001b[0m         new_axis \u001b[38;5;241m=\u001b[39m \u001b[43maxis\u001b[49m\u001b[38;5;241;43m.\u001b[39;49m\u001b[43mdrop\u001b[49m\u001b[43m(\u001b[49m\u001b[43mlabels\u001b[49m\u001b[43m,\u001b[49m\u001b[43m \u001b[49m\u001b[43merrors\u001b[49m\u001b[38;5;241;43m=\u001b[39;49m\u001b[43merrors\u001b[49m\u001b[43m)\u001b[49m\n\u001b[0;32m   4754\u001b[0m     indexer \u001b[38;5;241m=\u001b[39m axis\u001b[38;5;241m.\u001b[39mget_indexer(new_axis)\n\u001b[0;32m   4756\u001b[0m \u001b[38;5;66;03m# Case for non-unique axis\u001b[39;00m\n\u001b[0;32m   4757\u001b[0m \u001b[38;5;28;01melse\u001b[39;00m:\n",
      "File \u001b[1;32mc:\\Users\\renar\\miniconda3\\envs\\keskia\\Lib\\site-packages\\pandas\\core\\indexes\\base.py:7000\u001b[0m, in \u001b[0;36mIndex.drop\u001b[1;34m(self, labels, errors)\u001b[0m\n\u001b[0;32m   6998\u001b[0m \u001b[38;5;28;01mif\u001b[39;00m mask\u001b[38;5;241m.\u001b[39many():\n\u001b[0;32m   6999\u001b[0m     \u001b[38;5;28;01mif\u001b[39;00m errors \u001b[38;5;241m!=\u001b[39m \u001b[38;5;124m\"\u001b[39m\u001b[38;5;124mignore\u001b[39m\u001b[38;5;124m\"\u001b[39m:\n\u001b[1;32m-> 7000\u001b[0m         \u001b[38;5;28;01mraise\u001b[39;00m \u001b[38;5;167;01mKeyError\u001b[39;00m(\u001b[38;5;124mf\u001b[39m\u001b[38;5;124m\"\u001b[39m\u001b[38;5;132;01m{\u001b[39;00mlabels[mask]\u001b[38;5;241m.\u001b[39mtolist()\u001b[38;5;132;01m}\u001b[39;00m\u001b[38;5;124m not found in axis\u001b[39m\u001b[38;5;124m\"\u001b[39m)\n\u001b[0;32m   7001\u001b[0m     indexer \u001b[38;5;241m=\u001b[39m indexer[\u001b[38;5;241m~\u001b[39mmask]\n\u001b[0;32m   7002\u001b[0m \u001b[38;5;28;01mreturn\u001b[39;00m \u001b[38;5;28mself\u001b[39m\u001b[38;5;241m.\u001b[39mdelete(indexer)\n",
      "\u001b[1;31mKeyError\u001b[0m: \"['pca_1', 'pca_2', 'pca_3', 'pca_4', 'pca_5', 'pca_6', 'pca_7', 'pca_8', 'pca_9', 'pca_10', 'pca_11', 'pca_12', 'pca_13', 'pca_14', 'pca_15', 'pca_16', 'pca_17', 'pca_18', 'pca_19', 'pca_20'] not found in axis\""
     ]
    }
   ],
   "source": [
    "data_dashboard.drop(columns=['pca_1', 'pca_2', 'pca_3', 'pca_4',\n",
    "       'pca_5', 'pca_6', 'pca_7', 'pca_8', 'pca_9', 'pca_10', 'pca_11',\n",
    "       'pca_12', 'pca_13', 'pca_14', 'pca_15', 'pca_16', 'pca_17', 'pca_18',\n",
    "       'pca_19', 'pca_20'], inplace=True)\n",
    "data_dashboard.columns"
   ]
  },
  {
   "cell_type": "code",
   "execution_count": 37,
   "metadata": {},
   "outputs": [],
   "source": [
    "data_dashboard.to_csv('data/data_dashboard.csv', index=False)"
   ]
  },
  {
   "cell_type": "code",
   "execution_count": null,
   "metadata": {},
   "outputs": [],
   "source": []
  }
 ],
 "metadata": {
  "kernelspec": {
   "display_name": "keskia",
   "language": "python",
   "name": "python3"
  },
  "language_info": {
   "codemirror_mode": {
    "name": "ipython",
    "version": 3
   },
   "file_extension": ".py",
   "mimetype": "text/x-python",
   "name": "python",
   "nbconvert_exporter": "python",
   "pygments_lexer": "ipython3",
   "version": "3.12.2"
  }
 },
 "nbformat": 4,
 "nbformat_minor": 2
}
